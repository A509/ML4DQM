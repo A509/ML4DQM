{
 "cells": [
  {
   "cell_type": "markdown",
   "metadata": {},
   "source": [
    "# This is Guillermo's test version of this code"
   ]
  },
  {
   "cell_type": "code",
   "execution_count": 2,
   "metadata": {},
   "outputs": [
    {
     "name": "stderr",
     "output_type": "stream",
     "text": [
      "Using TensorFlow backend.\n"
     ]
    }
   ],
   "source": [
    "import tensorflow as tf\n",
    "import utils as utils\n",
    "import h5py\n",
    "import matplotlib.cm as cm\n",
    "import matplotlib.pyplot as plt\n",
    "import os\n",
    "import numpy as np"
   ]
  },
  {
   "cell_type": "code",
   "execution_count": 3,
   "metadata": {
    "collapsed": true
   },
   "outputs": [],
   "source": [
    "data_folder = '../data/'\n",
    "file_name = 'HCAL_digi+rechit_occ.hdf5'\n",
    "group = 'DigiTask_Occupancy_depth_depth1'\n",
    "\n",
    "input_file=h5py.File(data_folder+\"/\"+file_name,'r')"
   ]
  },
  {
   "cell_type": "markdown",
   "metadata": {},
   "source": [
    "To list all groups "
   ]
  },
  {
   "cell_type": "markdown",
   "metadata": {},
   "source": [
    "I want to see what's inside the file\n",
    "\n",
    "I will print input_file and data_sample \n",
    "\n",
    "I will also want to look at the keys of the file"
   ]
  },
  {
   "cell_type": "code",
   "execution_count": 4,
   "metadata": {},
   "outputs": [
    {
     "name": "stdout",
     "output_type": "stream",
     "text": [
      "(999, 72, 84)\n"
     ]
    }
   ],
   "source": [
    "data_sample = np.array(input_file[group])\n",
    "data = np.array(input_file)\n",
    "data_samplesize=data_sample.shape\n",
    "print data_samplesize\n",
    "data_size=data.shape"
   ]
  },
  {
   "cell_type": "code",
   "execution_count": null,
   "metadata": {
    "collapsed": true
   },
   "outputs": [],
   "source": [
    "print data_sample, '\\n', data_samplesize"
   ]
  },
  {
   "cell_type": "code",
   "execution_count": null,
   "metadata": {
    "collapsed": true,
    "scrolled": true
   },
   "outputs": [],
   "source": [
    "print data\n"
   ]
  },
  {
   "cell_type": "markdown",
   "metadata": {},
   "source": [
    "I would like to print the first entry of this file \n"
   ]
  },
  {
   "cell_type": "code",
   "execution_count": null,
   "metadata": {
    "collapsed": true
   },
   "outputs": [],
   "source": [
    "input_image=data_sample[0]\n",
    "\n",
    "print \"Shape of image is: \",input_image.shape\n",
    "print 'input image is \\n '\n",
    "print input_image\n",
    "\n",
    "im=plt.imshow(input_image,cmap=cm.coolwarm)\n",
    "\n",
    "plt.show()\n",
    "plt.clf()#plt.clf clears the figure and it's axis but leaves the window open. \n",
    "         #as opposed to plt.close which closes the window. If you are showing many images at a time without\n",
    "         #closing the window it is better.\n",
    "        \n",
    "        \n",
    "input_image=np.reshape(input_image,(input_image.shape[0],input_image.shape[1]))\n"
   ]
  },
  {
   "cell_type": "markdown",
   "metadata": {},
   "source": [
    "# Using a for loop to plot the average occupancy map"
   ]
  },
  {
   "cell_type": "markdown",
   "metadata": {},
   "source": [
    "Now I would like to plot the average occupancy graph for this group"
   ]
  },
  {
   "cell_type": "code",
   "execution_count": null,
   "metadata": {
    "collapsed": true
   },
   "outputs": [],
   "source": [
    "sum_image=np.zeros((data_samplesize[1],data_samplesize[2]))\n",
    "\n",
    "for i in range(data_samplesize[1]):\n",
    "    \n",
    "    for j in range(data_samplesize[2]):\n",
    "        \n",
    "        for input_image in data_sample:\n",
    "            \n",
    "            sum_image[i,j]+=input_image[i,j]\n",
    "            \n",
    "                \n",
    "#print '\\t \\n the sum image is= \\n\\n\\n',sum_image\n",
    "\n",
    "\n",
    "average_image=sum_image/data_samplesize[0]\n",
    "\n",
    "\n",
    "print '\\t\\n the average image is= \\n\\n\\n',average_image\n",
    "\n",
    "    #average_image= np.average(input_image, axis=0, weights=None, returned=False)#average image of rows\n",
    "    #average_image= np.average(input_image,axis=1,weights=None,returned=False)#average image of colums\n",
    "    #average_image= np.average(input_image,axis=None,weights=None,returned=False)#average image of all elements\n",
    "\n",
    "print' \\n \\n Shape of image is: \\n',average_image.shape\n",
    "\n",
    "\n",
    "im=plt.imshow(average_image,cmap=cm.coolwarm)\n",
    "    \n",
    "    \n",
    "plt.show()\n",
    "plt.clf()#plt.clf clears the figure and it's axis but leaves the window open. \n",
    "                 #as opposed to plt.close which closes the window. If you are showing many images at a time without\n",
    "                 #closing the window is better.\n",
    "\n",
    "    #input_image=np.reshape(input_image,(input_image.shape[0],input_image.shape[1]))"
   ]
  },
  {
   "cell_type": "markdown",
   "metadata": {},
   "source": [
    "# Using a vectorized method to plot the average occupancy map"
   ]
  },
  {
   "cell_type": "markdown",
   "metadata": {},
   "source": [
    "To print the mean value of the occupancy map we do the following ( I thank Tielige for this part ) :D"
   ]
  },
  {
   "cell_type": "code",
   "execution_count": null,
   "metadata": {
    "collapsed": true
   },
   "outputs": [],
   "source": [
    "va = np.zeros((data_samplesize[1],data_samplesize[2]))\n",
    "\n",
    "for x in data_sample:      \n",
    "    va = va+x\n",
    "    \n",
    "vamean= va/data_samplesize[0]\n",
    "#print ('va is: ' ,va)\n",
    "print 'va mean is : \\n', vamean\n",
    "\n",
    "\n",
    "print('Shape of image is: ',vamean.shape)\n",
    "    #print 'average image is \\n '\n",
    "    #print input_image\n",
    "\n",
    "im=plt.imshow(vamean,cmap=cm.coolwarm)\n",
    "  \n",
    "plt.show()\n",
    "plt.clf() #plt.clf clears the figure and it's axis but leaves the window open. \n",
    "                 #as opposed to plt.close which closes the window. If you are showing many images at a time without\n",
    "                 #closing the window is better.\n",
    "\n",
    "#input_image=np.reshape(input_image,(input_image.shape[0],input_image.shape[1]))\n",
    "\n"
   ]
  },
  {
   "cell_type": "markdown",
   "metadata": {},
   "source": [
    "We would like to verify if both of these methods achived the same calculation"
   ]
  },
  {
   "cell_type": "code",
   "execution_count": null,
   "metadata": {
    "collapsed": true
   },
   "outputs": [],
   "source": [
    "\n",
    "np.all (average_image== vamean)"
   ]
  },
  {
   "cell_type": "markdown",
   "metadata": {},
   "source": [
    "\n",
    "# Let's see if we can plot a specific channel with time"
   ]
  },
  {
   "cell_type": "markdown",
   "metadata": {
    "collapsed": true
   },
   "source": [
    "Let's choose the channel in the (50,50) position for all lumisections. This is the same as data_sample[:,50,50]"
   ]
  },
  {
   "cell_type": "code",
   "execution_count": null,
   "metadata": {
    "collapsed": true,
    "scrolled": true
   },
   "outputs": [],
   "source": [
    "a=data_sample[:,50,50]\n",
    "print a\n",
    "print a.shape\n",
    "print np.mean(a)\n",
    "print np.mean(a)/23"
   ]
  },
  {
   "cell_type": "code",
   "execution_count": null,
   "metadata": {
    "collapsed": true
   },
   "outputs": [],
   "source": [
    "plt.plot(a,'.')\n",
    "plt.xlabel('Lumisection')\n",
    "plt.ylabel('Occupancy in channel (50,50)')\n",
    "plt.show()"
   ]
  },
  {
   "cell_type": "markdown",
   "metadata": {
    "collapsed": true
   },
   "source": [
    "# Lets read a different group in the file"
   ]
  },
  {
   "cell_type": "code",
   "execution_count": 6,
   "metadata": {},
   "outputs": [
    {
     "name": "stdout",
     "output_type": "stream",
     "text": [
      "[[[    0.     0.  1350. ...,  1350.     0.     0.]\n",
      "  [    0.     0.     0. ...,     0.     0.     0.]\n",
      "  [ 1350.  1350.  1350. ...,  1350.  1350.  1350.]\n",
      "  ..., \n",
      "  [    0.     0.     0. ...,     0.     0.     0.]\n",
      "  [ 1350.  1350.  1350. ...,  1350.  1350.  1350.]\n",
      "  [    0.     0.     0. ...,     0.     0.     0.]]\n",
      "\n",
      " [[    0.     0.  1379. ...,  1379.     0.     0.]\n",
      "  [    0.     0.     0. ...,     0.     0.     0.]\n",
      "  [ 1379.  1379.  1379. ...,  1379.  1379.  1379.]\n",
      "  ..., \n",
      "  [    0.     0.     0. ...,     0.     0.     0.]\n",
      "  [ 1379.  1379.  1379. ...,  1379.  1379.  1379.]\n",
      "  [    0.     0.     0. ...,     0.     0.     0.]]\n",
      "\n",
      " [[    0.     0.  1366. ...,  1366.     0.     0.]\n",
      "  [    0.     0.     0. ...,     0.     0.     0.]\n",
      "  [ 1366.  1366.  1365. ...,  1366.  1366.  1366.]\n",
      "  ..., \n",
      "  [    0.     0.     0. ...,     0.     0.     0.]\n",
      "  [ 1366.  1366.  1366. ...,  1366.  1366.  1366.]\n",
      "  [    0.     0.     0. ...,     0.     0.     0.]]\n",
      "\n",
      " ..., \n",
      " [[    0.     0.  1285. ...,  1285.     0.     0.]\n",
      "  [    0.     0.     0. ...,     0.     0.     0.]\n",
      "  [ 1285.  1285.  1285. ...,  1285.  1285.  1285.]\n",
      "  ..., \n",
      "  [    0.     0.     0. ...,     0.     0.     0.]\n",
      "  [ 1285.  1285.  1284. ...,  1285.  1285.  1285.]\n",
      "  [    0.     0.     0. ...,     0.     0.     0.]]\n",
      "\n",
      " [[    0.     0.  1295. ...,  1295.     0.     0.]\n",
      "  [    0.     0.     0. ...,     0.     0.     0.]\n",
      "  [ 1295.  1295.  1295. ...,  1295.  1295.  1295.]\n",
      "  ..., \n",
      "  [    0.     0.     0. ...,     0.     0.     0.]\n",
      "  [ 1295.  1295.  1295. ...,  1295.  1295.  1295.]\n",
      "  [    0.     0.     0. ...,     0.     0.     0.]]\n",
      "\n",
      " [[    0.     0.  1268. ...,  1268.     0.     0.]\n",
      "  [    0.     0.     0. ...,     0.     0.     0.]\n",
      "  [ 1268.  1268.  1268. ...,  1268.  1267.  1268.]\n",
      "  ..., \n",
      "  [    0.     0.     0. ...,     0.     0.     0.]\n",
      "  [ 1268.  1268.  1268. ...,  1268.  1268.  1268.]\n",
      "  [    0.     0.     0. ...,     0.     0.     0.]]]\n",
      "RecHitTask_Occupancy_depth_depth1\n",
      "(999, 72, 84)\n",
      "[u'DigiTask_Occupancy_depth_depth1' u'DigiTask_Occupancy_depth_depth2'\n",
      " u'DigiTask_Occupancy_depth_depth3' u'DigiTask_Occupancy_depth_depth4'\n",
      " u'DigiTask_Occupancy_depth_depth5' u'DigiTask_Occupancy_depth_depth6'\n",
      " u'DigiTask_Occupancy_depth_depth7' u'RecHitTask_Occupancy_depth_depth1'\n",
      " u'RecHitTask_Occupancy_depth_depth2' u'RecHitTask_Occupancy_depth_depth3'\n",
      " u'RecHitTask_Occupancy_depth_depth4' u'RecHitTask_Occupancy_depth_depth5'\n",
      " u'RecHitTask_Occupancy_depth_depth6' u'RecHitTask_Occupancy_depth_depth7']\n",
      "Shape of image is:  (72, 84)\n",
      "input image is \n",
      " \n",
      "[[    0.     0.  1379. ...,  1379.     0.     0.]\n",
      " [    0.     0.     0. ...,     0.     0.     0.]\n",
      " [ 1379.  1379.  1379. ...,  1379.  1379.  1379.]\n",
      " ..., \n",
      " [    0.     0.     0. ...,     0.     0.     0.]\n",
      " [ 1379.  1379.  1379. ...,  1379.  1379.  1379.]\n",
      " [    0.     0.     0. ...,     0.     0.     0.]]\n"
     ]
    },
    {
     "data": {
      "image/png": "[encoded data removed]",
      "text/plain": [
       "<matplotlib.figure.Figure at 0x7fb61b58ae90>"
      ]
     },
     "metadata": {},
     "output_type": "display_data"
    }
   ],
   "source": [
    "data_folder = '../data/'\n",
    "file_name = 'HCAL_digi+rechit_occ.hdf5'\n",
    "group = 'RecHitTask_Occupancy_depth_depth1'\n",
    "\n",
    "input_file=h5py.File(data_folder+\"/\"+file_name,'r')\n",
    "\n",
    "data1 = np.array(input_file)\n",
    "data_size1=data.shape\n",
    "\n",
    "data_sample1 = np.array(input_file[group])\n",
    "data_samplesize1=data_sample.shape\n",
    "\n",
    "\n",
    "\n",
    "print data_sample1\n",
    "print group\n",
    "'''[u'DigiTask_Occupancy_depth_depth1' u'DigiTask_Occupancy_depth_depth2'\n",
    " u'DigiTask_Occupancy_depth_depth3' u'DigiTask_Occupancy_depth_depth4'\n",
    " u'DigiTask_Occupancy_depth_depth5' u'DigiTask_Occupancy_depth_depth6'\n",
    " u'DigiTask_Occupancy_depth_depth7' u'RecHitTask_Occupancy_depth_depth1'\n",
    " u'RecHitTask_Occupancy_depth_depth2' u'RecHitTask_Occupancy_depth_depth3'\n",
    " u'RecHitTask_Occupancy_depth_depth4' u'RecHitTask_Occupancy_depth_depth5'\n",
    " u'RecHitTask_Occupancy_depth_depth6' u'RecHitTask_Occupancy_depth_depth7']\n",
    " '''\n",
    "print data_samplesize1\n",
    "print data1\n",
    "\n",
    "\n",
    "input_image1=data_sample1[1]\n",
    "\n",
    "print \"Shape of image is: \",input_image1.shape\n",
    "print 'input image is \\n '\n",
    "print input_image1\n",
    "\n",
    "im=plt.imshow(input_image1,cmap=cm.coolwarm)\n",
    "\n",
    "plt.show()\n",
    "plt.clf()#plt.clf clears the figure and it's axis but leaves the window open. \n",
    "         #as opposed to plt.close which closes the window. If you are showing many images at a time without\n",
    "         #closing the window it is better.\n",
    "        \n",
    "        \n",
    "#input_image=np.reshape(input_image,(input_image.shape[0],input_image.shape[1]))"
   ]
  },
  {
   "cell_type": "markdown",
   "metadata": {},
   "source": [
    "# I want to see if my kill region function and my hot region function work"
   ]
  },
  {
   "cell_type": "code",
   "execution_count": 7,
   "metadata": {
    "collapsed": true
   },
   "outputs": [],
   "source": [
    "def killregion(image,xdim,ydim):  \n",
    "    tempX=image.copy()\n",
    "    x1=xdim[0]\n",
    "    x2=xdim[1]\n",
    "    y1=ydim[0]\n",
    "    y2=ydim[1]\n",
    "    if tempX.ndim ==3:\n",
    "        \n",
    "        for k in range(tempX.shape[0]):\n",
    "            \n",
    "            for i in range(x1,x2):\n",
    "                \n",
    "                for j in range(y1,y2):\n",
    "                    \n",
    "                    tempX[k,j,i]=0\n",
    "    \n",
    "    else:\n",
    "        \n",
    "        for i in range(x1,x2):\n",
    "            \n",
    "            for j in range(y1,y2):\n",
    "                \n",
    "                tempX[j,i]=0\n",
    "                \n",
    "    return tempX\n",
    "\n",
    "\n",
    "#help (np.zeros)\n",
    "def hotregion(image,xdim,ydim):  \n",
    "    tempX=image.copy()\n",
    "    x1=xdim[0]\n",
    "    x2=xdim[1]\n",
    "    y1=ydim[0]\n",
    "    y2=ydim[1]\n",
    "    if tempX.ndim ==3:\n",
    "        \n",
    "        for k in range(tempX.shape[0]):\n",
    "            \n",
    "            for i in range(x1,x2):\n",
    "                \n",
    "                for j in range(y1,y2):\n",
    "                    \n",
    "                    tempX[k,j,i]=np.max(image)\n",
    "    else:\n",
    "        \n",
    "        for i in range(x1,x2):\n",
    "            \n",
    "            for j in range(y1,y2):\n",
    "                \n",
    "                tempX[j,i]=np.max(image)\n",
    "                \n",
    "    return tempX"
   ]
  },
  {
   "cell_type": "markdown",
   "metadata": {},
   "source": [
    "Let's randomize this so that the region being killed is random"
   ]
  },
  {
   "cell_type": "code",
   "execution_count": 10,
   "metadata": {
    "collapsed": true
   },
   "outputs": [],
   "source": [
    "def create_random_noise_region_in_image(image,xdim,ydim):\n",
    "    \n",
    "    \n",
    "    tempX=image.copy()\n",
    "    x1=xdim[0]\n",
    "    x2=xdim[1]\n",
    "    y1=ydim[0]\n",
    "    y2=ydim[1]\n",
    "    rand_noise_image=np.random.randint(np.max(data_sample1), size=( abs(x2-x1), abs(y2-y1) ) )   \n",
    "   \n",
    "    if tempX.ndim == 3:\n",
    "        \n",
    "        for k in range(tempX.shape[0]):\n",
    "            \n",
    "            for i in range(x1,x2):\n",
    "                \n",
    "                for j in range(y1,y2):\n",
    "                    te = i-x1\n",
    "                    te2= j-y1\n",
    "                    tempX[k,j,i]=rand_noise_image[te2,te]\n",
    "    \n",
    "    else:\n",
    "        \n",
    "        for i in range(x1,x2):\n",
    "            \n",
    "            for j in range(y1,y2):\n",
    "                te = i-x1\n",
    "                te2= j-y1\n",
    "                tempX[j,i]=rand_noise_image[te2,te]\n",
    "                \n",
    "    return tempX"
   ]
  },
  {
   "cell_type": "raw",
   "metadata": {},
   "source": [
    "def killregion_rand(image,xdim,ydim):  \n",
    "    tempX=image.copy()\n",
    "    x1=xdim[0]\n",
    "    x2=xdim[1]\n",
    "    y1=ydim[0]\n",
    "    y2=ydim[1]\n",
    "    \n",
    "    if tempX.ndim ==3:\n",
    "        \n",
    "        for k in range(tempX.shape[0]):\n",
    "            \n",
    "            for i in range(x1,x2):\n",
    "                \n",
    "                for j in range(y1,y2):\n",
    "                    \n",
    "                    tempX[k,j,i]=0\n",
    "    \n",
    "    else:\n",
    "        \n",
    "        for i in range(x1,x2):\n",
    "            \n",
    "            for j in range(y1,y2):\n",
    "                \n",
    "                tempX[j,i]=0\n",
    "                \n",
    "    return tempX\n",
    "\n",
    "\n",
    "#help (np.zeros)\n",
    "def hotregion_rand(image,xdim,ydim):  \n",
    "    tempX=image.copy()\n",
    "    x1=xdim[0]\n",
    "    x2=xdim[1]\n",
    "    y1=ydim[0]\n",
    "    y2=ydim[1]\n",
    "    if tempX.ndim ==3:\n",
    "        \n",
    "        for k in range(tempX.shape[0]):\n",
    "            \n",
    "            for i in range(x1,x2):\n",
    "                \n",
    "                for j in range(y1,y2):\n",
    "                    \n",
    "                    tempX[:,j,i]=np.max(image)\n",
    "    else:\n",
    "        \n",
    "        for i in range(x1,x2):\n",
    "            \n",
    "            for j in range(y1,y2):\n",
    "                \n",
    "                tempX[j,i]=np.max(image)\n",
    "                \n",
    "    return tempX"
   ]
  },
  {
   "cell_type": "markdown",
   "metadata": {},
   "source": [
    "# Plotting my bad data image"
   ]
  },
  {
   "cell_type": "raw",
   "metadata": {
    "collapsed": true
   },
   "source": [
    "import random\n",
    "def insert_hot_tower(input_image):\n",
    "   to_ret=np.copy(input_image)\n",
    "\n",
    "   height_range=range(0,to_ret.shape[0],5)\n",
    "   width_range=range(0,to_ret.shape[1],5)\n",
    "\n",
    "   y_cord=random.choice(height_range)#pick random y for a towers lower left point\n",
    "   x_cord=random.choice(width_range)#pick random x ---do---\n",
    "\n",
    "   for channel_y in range(y_cord,y_cord+5):\n",
    "      for channel_x in range(x_cord,x_cord+5):\n",
    "         to_ret[channel_y,channel_x]*=1e4 #a very large number representing a hot tower\n",
    "\n",
    "   to_ret_max=np.amax(to_ret)\n",
    "   to_ret=to_ret/float(to_ret_max)      #renormalize\n",
    "   return to_ret"
   ]
  },
  {
   "cell_type": "code",
   "execution_count": 11,
   "metadata": {},
   "outputs": [
    {
     "name": "stdout",
     "output_type": "stream",
     "text": [
      "Shape of image is:  (72, 84)\n"
     ]
    },
    {
     "data": {
      "image/png": "[encoded data removed]",
      "text/plain": [
       "<matplotlib.figure.Figure at 0x7fb61b4ef250>"
      ]
     },
     "metadata": {},
     "output_type": "display_data"
    },
    {
     "data": {
      "image/png": "[encoded data removed]",
      "text/plain": [
       "<matplotlib.figure.Figure at 0x7fb61b3fecd0>"
      ]
     },
     "metadata": {},
     "output_type": "display_data"
    },
    {
     "data": {
      "image/png": "[encoded data removed]",
      "text/plain": [
       "<matplotlib.figure.Figure at 0x7fb61b3a5350>"
      ]
     },
     "metadata": {},
     "output_type": "display_data"
    }
   ],
   "source": [
    "input_image1=data_sample1[0]\n",
    "xdim=(40,50)\n",
    "ydim=(20,30)\n",
    "\n",
    "deadregion_image=killregion(input_image1,xdim,ydim)\n",
    "\n",
    "hotregion_image= hotregion(input_image1,xdim,ydim)\n",
    "\n",
    "random_noise_region= create_random_noise_region_in_image(input_image1,xdim,ydim)\n",
    "\n",
    "print \"Shape of image is: \" ,random_noise_region.shape\n",
    "#print 'input image is \\n '\n",
    "#print deadregion_image\n",
    "im=plt.imshow(random_noise_region,cmap=cm.coolwarm)\n",
    "plt.show()\n",
    "plt.clf()\n",
    "\n",
    "im=plt.imshow(hotregion_image,cmap=cm.coolwarm)\n",
    "plt.show()\n",
    "plt.clf()#plt.clf clears the figure and it's axis but leaves the window open. \n",
    "         #as opposed to plt.close which closes the window. If you are showing many images at a time without\n",
    "         #closing the window it is better.\n",
    "im=plt.imshow(deadregion_image,cmap=cm.coolwarm)\n",
    "plt.show()\n",
    "plt.clf()\n",
    "#input_image=np.reshape(input_image,(input_image.shape[0],input_image.shape[1]))\n"
   ]
  },
  {
   "cell_type": "markdown",
   "metadata": {},
   "source": [
    "# I would like to create about 100 bad data images"
   ]
  },
  {
   "cell_type": "code",
   "execution_count": 12,
   "metadata": {
    "scrolled": false
   },
   "outputs": [
    {
     "name": "stdout",
     "output_type": "stream",
     "text": [
      "(100, 72, 84)\n",
      "Shape of dead image is:  (100, 72, 84)\n",
      "Shape of hot image is:  (100, 72, 84)\n",
      "Shape of random image is:  (100, 72, 84)\n",
      "\n",
      "max of image is:  2020.0\n"
     ]
    },
    {
     "data": {
      "image/png": "[encoded data removed]",
      "text/plain": [
       "<matplotlib.figure.Figure at 0x7fb61b32fcd0>"
      ]
     },
     "metadata": {},
     "output_type": "display_data"
    },
    {
     "data": {
      "image/png": "[encoded data removed]",
      "text/plain": [
       "<matplotlib.figure.Figure at 0x7fb61b2a45d0>"
      ]
     },
     "metadata": {},
     "output_type": "display_data"
    },
    {
     "data": {
      "image/png": "[encoded data removed]",
      "text/plain": [
       "<matplotlib.figure.Figure at 0x7fb61b224b90>"
      ]
     },
     "metadata": {},
     "output_type": "display_data"
    },
    {
     "data": {
      "image/png": "[encoded data removed]",
      "text/plain": [
       "<matplotlib.figure.Figure at 0x7fb61b2a4450>"
      ]
     },
     "metadata": {},
     "output_type": "display_data"
    }
   ],
   "source": [
    "input_image1=data_sample1[:100]\n",
    "print input_image1.shape\n",
    "xdim=(40,50)\n",
    "ydim=(20,30)\n",
    "hotregion_image= hotregion(input_image1,xdim,ydim)\n",
    "deadregion_image=killregion(input_image1,xdim,ydim)\n",
    "random_noise_region= create_random_noise_region_in_image(input_image1,xdim,ydim)\n",
    "\n",
    "\n",
    "print \"Shape of dead image is: \" ,deadregion_image.shape\n",
    "print \"Shape of hot image is: \" ,hotregion_image.shape\n",
    "print \"Shape of random image is: \" ,random_noise_region.shape\n",
    "\n",
    "print '\\nmax of image is: ' ,np.max(input_image1)\n",
    "\n",
    "im=plt.imshow(input_image1[4],cmap=cm.coolwarm)\n",
    "plt.show()\n",
    "plt.clf()\n",
    "\n",
    "\n",
    "im=plt.imshow(random_noise_region[10],cmap=cm.coolwarm)\n",
    "plt.show()\n",
    "plt.clf()\n",
    "\n",
    "im=plt.imshow(hotregion_image[4],cmap=cm.coolwarm)\n",
    "plt.show()\n",
    "plt.clf()#plt.clf clears the figure and it's axis but leaves the window open. \n",
    "         #as opposed to plt.close which closes the window. If you are showing many images at a time without\n",
    "         #closing the window it is better.\n",
    "\n",
    "im=plt.imshow(deadregion_image[1],cmap=cm.coolwarm)\n",
    "plt.show()\n",
    "plt.clf()\n",
    "#input_image=np.reshape(input_image,(input_image.shape[0],input_image.shape[1]))\n"
   ]
  },
  {
   "cell_type": "markdown",
   "metadata": {},
   "source": [
    "# Let's start using keras and create a model"
   ]
  },
  {
   "cell_type": "raw",
   "metadata": {
    "collapsed": true
   },
   "source": [
    "import logging\n",
    "from keras.layers import Input, Dense, Conv2D, MaxPooling2D, UpSampling2D,LeakyReLU,Flatten,Dropout\n",
    "from keras.models import Model\n",
    "from keras import backend as K\n",
    "from keras import callbacks\n",
    "import argparse\n",
    "import pandas as pd"
   ]
  },
  {
   "cell_type": "raw",
   "metadata": {
    "collapsed": true
   },
   "source": [
    "#helper fucntions\n",
    "def get_data(file_name,group='DigiTask_Occupancy_depth_depth1',data_type='good'):\n",
    "   \"picks samples out of a hdf file and return a numpy array\"\n",
    "   data_folder=os.environ[\"DATA\"].replace(\"good\",data_type)\n",
    "   input_file=h5py.File(data_folder+\"/\"+file_name,'r')\n",
    "   logging.debug(\"Loading data from file: \"+file_name)\n",
    "   ret_array=np.array((input_file[group]))\n",
    "   logging.debug(\"Supplying \"+str(ret_array.shape[0])+\" samples\")\n",
    "   ret_array_2=np.empty([ret_array.shape[0],2])\n",
    "   if 'bad' in file_name:\n",
    "      ret_array_2[:,:]=[0,1]\n",
    "   else:\n",
    "      ret_array_2[:,:]=[1,0]\n",
    "   return ret_array,ret_array_2\n",
    "\n",
    "\n",
    "   \n",
    "def get_num_samples(file_list,group='EBOccupancyTask_EBOT_rec_hit_occupancy'):\n",
    "   \"returns total number of samples in a list of hdf files\"\n",
    "   data_folder=os.environ[\"DATA\"]\n",
    "   total_count=0\n",
    "   for filename in file_list:\n",
    "      input_file=h5py.File(data_folder+\"/\"+filename,'r')\n",
    "      data=np.array((input_file[group]))\n",
    "      total_count+=data.shape[0]\n",
    "   return total_count\n",
    "\n",
    "\n",
    "class train_histories(callbacks.Callback):\n",
    "   def on_train_begin(self, logs={}):\n",
    "      self.aucs = []\n",
    "      self.epochwise_losses = []\n",
    "      self.epochwise_val_losses = []\n",
    "      self.batchwise_losses = []\n",
    "\n",
    "\n",
    "   def on_train_end(self, logs={}):\n",
    "      return\n",
    "\n",
    "   def on_epoch_begin(self, epoch, logs={}):\n",
    "      return\n",
    "\n",
    "   def on_epoch_end(self, epoch, logs={}):\n",
    "      self.epochwise_losses.append(logs.get('loss'))\n",
    "      self.epochwise_val_losses.append(logs.get('val_loss'))\n",
    "      return\n",
    "\n",
    "   def on_batch_begin(self, batch, logs={}):\n",
    "      return\n",
    "\n",
    "   def on_batch_end(self, batch, logs={}):\n",
    "      self.batchwise_losses.append(logs.get('loss'))\n",
    "      return"
   ]
  },
  {
   "cell_type": "markdown",
   "metadata": {},
   "source": [
    "# With keras"
   ]
  },
  {
   "cell_type": "raw",
   "metadata": {
    "scrolled": true
   },
   "source": [
    "from keras.models import Sequential\n",
    "from keras.layers import Dense, Activation\n",
    "\n",
    "model = Sequential([\n",
    "    Dense(32, input_shape=(Xtrain.size,)),\n",
    "    Activation('relu'),\n",
    "    Dense(10),\n",
    "    Activation('softmax'),\n",
    "])\n",
    "\n",
    "# For a binary classification problem\n",
    "model.compile(optimizer='rmsprop',\n",
    "              loss='binary_crossentropy',\n",
    "              metrics=['accuracy'])\n",
    "model.fit(x=Xtrain, y=Labels)     \n",
    "#batch_size=None, epochs=1, verbose=1, callbacks=None,     \n",
    "#validation_split=0.0, validation_data=None, shuffle=True, class_weight=None,\n",
    "#sample_weight=None, initial_epoch=0, steps_per_epoch=None, validation_steps=None)"
   ]
  },
  {
   "cell_type": "raw",
   "metadata": {},
   "source": [
    "# This returns a tensor\n",
    "inputs = Input(shape=(X.shape))\n",
    "\n",
    "# a layer instance is callable on a tensor, and returns a tensor\n",
    "x = Dense(64, activation='relu')(inputs)\n",
    "x = Dense(64, activation='relu')(x)\n",
    "predictions = Dense(1, activation='softmax')(x)\n",
    "\n",
    "# This creates a model that includes\n",
    "# the Input layer and three Dense layers\n",
    "model = Model(inputs=inputs, outputs=predictions)\n",
    "model.compile(optimizer='rmsprop',\n",
    "              loss='binary_crossentropy',\n",
    "              metrics=['accuracy'])\n",
    "model.fit(inputs, Labels)  # starts training"
   ]
  },
  {
   "cell_type": "raw",
   "metadata": {},
   "source": [
    "#get input image shape\n",
    "#(_,image_height,image_width)=get_data(input_file[group],image_type)[0].shape\n",
    "\n",
    "#load or build the model\n",
    "input_img=Input(shape=(1,data_samplesize,image_width))\n",
    "\n",
    "    #encoder\n",
    "x=Conv2D(6,(5,5),padding='same',data_format='channels_first',name='convA_5x5')(input_img)\n",
    "x=LeakyReLU(alpha=0.1)(x)\n",
    "x=MaxPooling2D((5,5),padding='same',data_format='channels_first',name='pool5x5')(x)\n",
    "logging.debug(str(x.shape))"
   ]
  },
  {
   "cell_type": "markdown",
   "metadata": {
    "collapsed": true
   },
   "source": [
    "# Trying out SKlearn "
   ]
  },
  {
   "cell_type": "markdown",
   "metadata": {},
   "source": [
    "Adding the bad data images to the sample"
   ]
  },
  {
   "cell_type": "code",
   "execution_count": 17,
   "metadata": {},
   "outputs": [
    {
     "data": {
      "text/plain": [
       "(999, 72, 84)"
      ]
     },
     "execution_count": 17,
     "metadata": {},
     "output_type": "execute_result"
    }
   ],
   "source": [
    "data_sample.shape\n"
   ]
  },
  {
   "cell_type": "code",
   "execution_count": 18,
   "metadata": {},
   "outputs": [
    {
     "name": "stdout",
     "output_type": "stream",
     "text": [
      "(1099, 72, 84)\n",
      "(1199, 72, 84)\n",
      "(1299, 72, 84)\n"
     ]
    }
   ],
   "source": [
    "data_sample=np.append(data_sample,(deadregion_image),axis=0)\n",
    "print data_sample.shape\n",
    "\n",
    "data_sample=np.append(data_sample,(hotregion_image),axis=0)\n",
    "print data_sample.shape\n",
    "\n",
    "data_sample=np.append(data_sample,(hotregion_image),axis=0)\n",
    "print data_sample.shape\n"
   ]
  },
  {
   "cell_type": "markdown",
   "metadata": {},
   "source": [
    "Insert a column in every image of 1's or True ( this will represent it's label)"
   ]
  },
  {
   "cell_type": "code",
   "execution_count": 19,
   "metadata": {},
   "outputs": [
    {
     "data": {
      "text/plain": [
       "(1299, 6048)"
      ]
     },
     "execution_count": 19,
     "metadata": {},
     "output_type": "execute_result"
    }
   ],
   "source": [
    "sample=np.reshape(data_sample,(data_sample.shape[0],data_sample.shape[1]*data_sample.shape[2]))\n",
    "sample.shape\n"
   ]
  },
  {
   "cell_type": "code",
   "execution_count": 20,
   "metadata": {},
   "outputs": [
    {
     "data": {
      "text/plain": [
       "(1299, 6049)"
      ]
     },
     "execution_count": 20,
     "metadata": {},
     "output_type": "execute_result"
    }
   ],
   "source": [
    "#help(np.append)\n",
    "sample=np.append(sample,np.ones((sample.shape[0],1)),axis=1 )\n",
    "sample.shape"
   ]
  },
  {
   "cell_type": "code",
   "execution_count": 21,
   "metadata": {},
   "outputs": [
    {
     "name": "stdout",
     "output_type": "stream",
     "text": [
      "[[ 0.]\n",
      " [ 0.]\n",
      " [ 0.]\n",
      " [ 0.]\n",
      " [ 0.]]\n"
     ]
    }
   ],
   "source": [
    "sample[999:,-1:]=0\n",
    "print sample[-5:,-1:]"
   ]
  },
  {
   "cell_type": "code",
   "execution_count": 22,
   "metadata": {
    "scrolled": true
   },
   "outputs": [
    {
     "data": {
      "text/plain": [
       "(300, 1)"
      ]
     },
     "execution_count": 22,
     "metadata": {},
     "output_type": "execute_result"
    }
   ],
   "source": [
    "sample[999:,-1:].shape"
   ]
  },
  {
   "cell_type": "markdown",
   "metadata": {},
   "source": [
    "Let's define our Data and Lables"
   ]
  },
  {
   "cell_type": "code",
   "execution_count": 23,
   "metadata": {},
   "outputs": [
    {
     "name": "stdout",
     "output_type": "stream",
     "text": [
      "(1299, 6048) \n",
      "(1299,)\n"
     ]
    }
   ],
   "source": [
    "X=sample[:,:-1]\n",
    "y=sample[:,-1]\n",
    "print X.shape,'\\n',y.shape"
   ]
  },
  {
   "cell_type": "raw",
   "metadata": {
    "collapsed": true
   },
   "source": [
    "#Xtrain=sample[:599,:,:-1]\n",
    "#Xval=sample[599:799,:,:-1]\n",
    "#Xtest=sample[799:,:,:-1]\n",
    "#ytrain=sample[:599,1,-1:]\n",
    "#yval=sample[599:799,1,-1:]\n",
    "#ytest=sample[799:,1,-1:]\n",
    "\n",
    "print 'fist shape of X is: ',X.shape\n",
    "#X=np.reshape(X,(X.shape[0],X.shape[1]*X.shape[2]))\n",
    "#print 'new shape of X is: ',X.shape\n",
    "\n",
    "print '\\nfist shape of y is: ',y.shape\n",
    "#y=np.reshape(y,(y.shape[0],y.shape[1]*y.shape[2]))\n",
    "#print 'new shape of y is: ',y.shape\n",
    "\n",
    "print '\\nfist shape of Xtrain is: ',Xtrain.shape\n",
    "Xtrain=np.reshape(Xtrain,(Xtrain.shape[0],Xtrain.shape[1]*Xtrain.shape[2]))\n",
    "print 'new shape of Xtrain is: ',Xtrain.shape\n",
    "\n",
    "print '\\nfist shape of Xval is: ',Xval.shape\n",
    "Xval=np.reshape(Xval,(Xval.shape[0],Xval.shape[1]*Xval.shape[2]))\n",
    "print 'new shape of Xval is: ',Xval.shape\n",
    "\n",
    "print '\\nfist shape of Xtest is: ',Xtest.shape\n",
    "Xtest=np.reshape(Xtest,(Xtest.shape[0],Xtest.shape[1]*Xtest.shape[2]))\n",
    "print 'new shape of Xtest is: ',Xtest.shape\n",
    "\n",
    "print '\\nfist shape of ytrain is: ',ytrain.shape\n",
    "#ytrain=np.reshape(ytrain,(ytrain.shape[0],ytrain.shape[1]*ytrain.shape[1]))\n",
    "#print 'new shape of ytrain is: ',ytrain.shape\n",
    "\n",
    "#\n",
    "print '\\nfist shape of yval is: ',yval.shape\n",
    "#yval=np.reshape(yval,(yval.shape[0],yval.shape[1]*yval.shape[2]))\n",
    "#print 'new shape of yval is: ',yval.shape\n",
    "\n",
    "print '\\nfist shape of ytest is: ',ytest.shape\n",
    "#ytest=np.reshape(ytest,(ytest.shape[0],ytest.shape[1]*ytest.shape[2]))\n",
    "#print 'new shape of ytest is: ',ytest.shape\n",
    "#"
   ]
  },
  {
   "cell_type": "code",
   "execution_count": 63,
   "metadata": {},
   "outputs": [
    {
     "name": "stdout",
     "output_type": "stream",
     "text": [
      "(779, 6048)\n",
      "(520, 6048)\n",
      "(779,)\n",
      "(520,)\n"
     ]
    }
   ],
   "source": [
    "#from sklearn.neural_network import MLPClassifier #this one takes too long\n",
    "from sklearn.linear_model import LogisticRegression\n",
    "from sklearn import metrics\n",
    "from sklearn.cross_validation import train_test_split,cross_val_score\n",
    "Xtrain,Xtest,ytrain, ytest=train_test_split(X,y,test_size=0.4 )\n",
    "\n",
    "print Xtrain.shape\n",
    "print Xtest.shape\n",
    "print ytrain.shape\n",
    "print ytest.shape"
   ]
  },
  {
   "cell_type": "raw",
   "metadata": {},
   "source": [
    "MLP = MLPClassifier()\n",
    "scores= cross_val_score(MLP,X,y,cv=10,scoring='accuracy')\n",
    "print scores.mean()"
   ]
  },
  {
   "cell_type": "raw",
   "metadata": {},
   "source": [
    "MLP.fit( Xtrain ,ytrain) "
   ]
  },
  {
   "cell_type": "raw",
   "metadata": {},
   "source": [
    "pred=MLP.predict(Xtest)\n",
    "print pred.shape\n",
    "print metrics.accuracy_score(ytest,pred)\n"
   ]
  },
  {
   "cell_type": "code",
   "execution_count": 64,
   "metadata": {},
   "outputs": [
    {
     "name": "stdout",
     "output_type": "stream",
     "text": [
      "1.0\n"
     ]
    }
   ],
   "source": [
    "logreg=LogisticRegression()\n",
    "scores= cross_val_score(logreg,X,y,cv=10,scoring='accuracy')\n",
    "print scores.mean()"
   ]
  },
  {
   "cell_type": "code",
   "execution_count": 65,
   "metadata": {},
   "outputs": [
    {
     "data": {
      "text/plain": [
       "LogisticRegression(C=1.0, class_weight=None, dual=False, fit_intercept=True,\n",
       "          intercept_scaling=1, max_iter=100, multi_class='ovr', n_jobs=1,\n",
       "          penalty='l2', random_state=None, solver='liblinear', tol=0.0001,\n",
       "          verbose=0, warm_start=False)"
      ]
     },
     "execution_count": 65,
     "metadata": {},
     "output_type": "execute_result"
    }
   ],
   "source": [
    "logreg.fit(Xtrain,ytrain)"
   ]
  },
  {
   "cell_type": "markdown",
   "metadata": {
    "collapsed": true
   },
   "source": [
    "# Evaluating the model "
   ]
  },
  {
   "cell_type": "code",
   "execution_count": 66,
   "metadata": {},
   "outputs": [
    {
     "name": "stdout",
     "output_type": "stream",
     "text": [
      "(520,)\n",
      "1.0\n"
     ]
    }
   ],
   "source": [
    "pred=logreg.predict(Xtest)\n",
    "print pred.shape\n",
    "print metrics.accuracy_score(ytest,pred)"
   ]
  },
  {
   "cell_type": "code",
   "execution_count": 67,
   "metadata": {},
   "outputs": [
    {
     "data": {
      "text/plain": [
       "0.75576923076923075"
      ]
     },
     "execution_count": 67,
     "metadata": {},
     "output_type": "execute_result"
    }
   ],
   "source": [
    "#calcualte null accuracy\n",
    "max(ytest.mean(),1-ytest.mean())"
   ]
  },
  {
   "cell_type": "code",
   "execution_count": 68,
   "metadata": {},
   "outputs": [
    {
     "name": "stdout",
     "output_type": "stream",
     "text": [
      "[[127   0]\n",
      " [  0 393]]\n"
     ]
    }
   ],
   "source": [
    "#Confusion matrix\n",
    "print metrics.confusion_matrix(ytest,pred)"
   ]
  },
  {
   "cell_type": "code",
   "execution_count": 30,
   "metadata": {},
   "outputs": [
    {
     "name": "stdout",
     "output_type": "stream",
     "text": [
      "True [ 0.  1.  1.  1.  1.  1.  1.  1.  1.  1.  0.  0.  1.  0.  1.]\n",
      "Pred [ 0.  1.  1.  1.  1.  1.  1.  1.  1.  1.  0.  0.  1.  0.  1.]\n"
     ]
    }
   ],
   "source": [
    "print'True', ytest[0:15]\n",
    "print 'Pred', pred[0:15]"
   ]
  },
  {
   "cell_type": "code",
   "execution_count": 31,
   "metadata": {
    "collapsed": true
   },
   "outputs": [],
   "source": [
    "#save confusion matrix and slice into 4 pieces\n",
    "confusion= metrics.confusion_matrix(ytest,pred)\n",
    "TP=confusion[1,1]\n",
    "TN=confusion[0,0]\n",
    "FP=confusion[0,1]\n",
    "FN=confusion[1,0]"
   ]
  },
  {
   "cell_type": "code",
   "execution_count": 32,
   "metadata": {},
   "outputs": [
    {
     "name": "stdout",
     "output_type": "stream",
     "text": [
      "399\n",
      "121\n",
      "0\n",
      "0\n"
     ]
    }
   ],
   "source": [
    "print TP\n",
    "print TN\n",
    "print FP\n",
    "print FN"
   ]
  },
  {
   "cell_type": "code",
   "execution_count": 33,
   "metadata": {},
   "outputs": [
    {
     "name": "stdout",
     "output_type": "stream",
     "text": [
      "1.0\n",
      "1.0\n"
     ]
    }
   ],
   "source": [
    "#Clasification Accuracy\n",
    "#how often is the Clf correct?\n",
    "print (TP+TN)/ float(TP+TN+FP+FN)\n",
    "print metrics.accuracy_score(ytest,pred)"
   ]
  },
  {
   "cell_type": "code",
   "execution_count": 34,
   "metadata": {},
   "outputs": [
    {
     "name": "stdout",
     "output_type": "stream",
     "text": [
      "0.0\n",
      "0.0\n"
     ]
    }
   ],
   "source": [
    "#Clasification Error\n",
    "# how often is it incorrect?\n",
    "print (FP+FN)/ float(TP+TN+FP+FN)\n",
    "print 1- metrics.accuracy_score(ytest,pred)"
   ]
  },
  {
   "cell_type": "code",
   "execution_count": 35,
   "metadata": {},
   "outputs": [
    {
     "name": "stdout",
     "output_type": "stream",
     "text": [
      "1.0\n",
      "1.0\n"
     ]
    }
   ],
   "source": [
    "#Sensitivity\n",
    "# How often if the prediction correct when the actual value is pos. \n",
    "#AKA True pos or Recall\n",
    "\n",
    "print TP/ float(TP+FN)\n",
    "print metrics.recall_score(ytest,pred)"
   ]
  },
  {
   "cell_type": "code",
   "execution_count": 36,
   "metadata": {},
   "outputs": [
    {
     "name": "stdout",
     "output_type": "stream",
     "text": [
      "1.0\n"
     ]
    }
   ],
   "source": [
    "#Specificity \n",
    "# When the actual result is neg how often is it correct?\n",
    "print TN/ float(TN+FP)"
   ]
  },
  {
   "cell_type": "code",
   "execution_count": 37,
   "metadata": {},
   "outputs": [
    {
     "name": "stdout",
     "output_type": "stream",
     "text": [
      "0.0\n"
     ]
    }
   ],
   "source": [
    "#false positive\n",
    "# When the actual value is negative how often is it incorrect\n",
    "print FP/ float(TN+FP)"
   ]
  },
  {
   "cell_type": "code",
   "execution_count": 38,
   "metadata": {},
   "outputs": [
    {
     "name": "stdout",
     "output_type": "stream",
     "text": [
      "1.0\n",
      "1.0\n"
     ]
    }
   ],
   "source": [
    "#Precision\n",
    "#When a positive value is predicted, how often is it correct?\n",
    "print TP/ float(TP +FP)\n",
    "print metrics.precision_score(ytest,pred)"
   ]
  },
  {
   "cell_type": "markdown",
   "metadata": {},
   "source": [
    "# Adjusting the clasification threshold"
   ]
  },
  {
   "cell_type": "code",
   "execution_count": 39,
   "metadata": {},
   "outputs": [
    {
     "data": {
      "text/plain": [
       "array([ 0.,  1.,  1.,  1.,  1.,  1.,  1.,  1.,  1.,  1.])"
      ]
     },
     "execution_count": 39,
     "metadata": {},
     "output_type": "execute_result"
    }
   ],
   "source": [
    "#print the first 10 predicted responses\n",
    "logreg.predict(Xtest)[0:10]"
   ]
  },
  {
   "cell_type": "code",
   "execution_count": 40,
   "metadata": {},
   "outputs": [
    {
     "data": {
      "text/plain": [
       "array([[  9.99999988e-01,   1.21690404e-08],\n",
       "       [  2.83753243e-10,   1.00000000e+00],\n",
       "       [  3.72490927e-11,   1.00000000e+00],\n",
       "       [  7.40619123e-08,   9.99999926e-01],\n",
       "       [  1.09592335e-11,   1.00000000e+00],\n",
       "       [  2.57552881e-08,   9.99999974e-01],\n",
       "       [  4.11628731e-10,   1.00000000e+00],\n",
       "       [  6.32869313e-11,   1.00000000e+00],\n",
       "       [  1.56123781e-10,   1.00000000e+00],\n",
       "       [  1.94386624e-07,   9.99999806e-01]])"
      ]
     },
     "execution_count": 40,
     "metadata": {},
     "output_type": "execute_result"
    }
   ],
   "source": [
    "#print the first 10 predicted probabilities of class membership\n",
    "logreg.predict_proba(Xtest)[0:10,:]"
   ]
  },
  {
   "cell_type": "code",
   "execution_count": 41,
   "metadata": {},
   "outputs": [
    {
     "data": {
      "text/plain": [
       "array([  1.21690404e-08,   1.00000000e+00,   1.00000000e+00,\n",
       "         9.99999926e-01,   1.00000000e+00,   9.99999974e-01,\n",
       "         1.00000000e+00,   1.00000000e+00,   1.00000000e+00,\n",
       "         9.99999806e-01])"
      ]
     },
     "execution_count": 41,
     "metadata": {},
     "output_type": "execute_result"
    }
   ],
   "source": [
    "#print the first 10 predicted probabilities for class 1\n",
    "logreg.predict_proba(Xtest)[0:10,1]"
   ]
  },
  {
   "cell_type": "code",
   "execution_count": 42,
   "metadata": {
    "collapsed": true
   },
   "outputs": [],
   "source": [
    "#store the predicted probabilities for class 1\n",
    "y_pred_prob=logreg.predict_proba(Xtest)[:,1]"
   ]
  },
  {
   "cell_type": "code",
   "execution_count": 43,
   "metadata": {
    "collapsed": true
   },
   "outputs": [],
   "source": [
    "#allow plots to appear in the notebook\n",
    "%matplotlib inline\n",
    "plt.rcParams['font.size']=14"
   ]
  },
  {
   "cell_type": "code",
   "execution_count": 44,
   "metadata": {},
   "outputs": [
    {
     "data": {
      "text/plain": [
       "Text(0,0.5,u'Frequency')"
      ]
     },
     "execution_count": 44,
     "metadata": {},
     "output_type": "execute_result"
    },
    {
     "data": {
      "image/png": "[encoded data removed]",
      "text/plain": [
       "<matplotlib.figure.Figure at 0x7fb61b620810>"
      ]
     },
     "metadata": {},
     "output_type": "display_data"
    }
   ],
   "source": [
    "#histogram of predicted probabilities\n",
    "plt.hist(y_pred_prob)#bins=8)\n",
    "#plt.xlim(0,1)\n",
    "plt.title(\"Histogram of predicted probabilities\")\n",
    "plt.xlabel('Predicted probability')\n",
    "plt.ylabel('Frequency')"
   ]
  },
  {
   "cell_type": "markdown",
   "metadata": {},
   "source": [
    "# Decrease the threshold "
   ]
  },
  {
   "cell_type": "code",
   "execution_count": 45,
   "metadata": {},
   "outputs": [
    {
     "name": "stderr",
     "output_type": "stream",
     "text": [
      "/cvmfs/sft.cern.ch/lcg/views/LCG_93/x86_64-slc6-gcc62-opt/lib/python2.7/site-packages/sklearn/utils/validation.py:395: DeprecationWarning: Passing 1d arrays as data is deprecated in 0.17 and will raise ValueError in 0.19. Reshape your data either using X.reshape(-1, 1) if your data has a single feature or X.reshape(1, -1) if it contains a single sample.\n",
      "  DeprecationWarning)\n"
     ]
    }
   ],
   "source": [
    "#predict good if the predicted probability is greater than 0.3\n",
    "from sklearn.preprocessing import binarize\n",
    "pred= binarize(y_pred_prob,0.3)[0]"
   ]
  },
  {
   "cell_type": "code",
   "execution_count": 46,
   "metadata": {},
   "outputs": [
    {
     "data": {
      "text/plain": [
       "array([  1.21690404e-08,   1.00000000e+00,   1.00000000e+00,\n",
       "         9.99999926e-01,   1.00000000e+00,   9.99999974e-01,\n",
       "         1.00000000e+00,   1.00000000e+00,   1.00000000e+00,\n",
       "         9.99999806e-01])"
      ]
     },
     "execution_count": 46,
     "metadata": {},
     "output_type": "execute_result"
    }
   ],
   "source": [
    "#print the first 10 predicted probabilities\n",
    "y_pred_prob[0:10]"
   ]
  },
  {
   "cell_type": "code",
   "execution_count": 47,
   "metadata": {},
   "outputs": [
    {
     "data": {
      "text/plain": [
       "array([ 0.,  1.,  1.,  1.,  1.,  1.,  1.,  1.,  1.,  1.])"
      ]
     },
     "execution_count": 47,
     "metadata": {},
     "output_type": "execute_result"
    }
   ],
   "source": [
    "#print the first 10 predicted classes with new thershold\n",
    "pred[0:10]"
   ]
  },
  {
   "cell_type": "code",
   "execution_count": 48,
   "metadata": {},
   "outputs": [
    {
     "name": "stdout",
     "output_type": "stream",
     "text": [
      "[[121   0]\n",
      " [  0 399]]\n"
     ]
    }
   ],
   "source": [
    "#print old confusion matrix\n",
    "print confusion"
   ]
  },
  {
   "cell_type": "code",
   "execution_count": 49,
   "metadata": {},
   "outputs": [
    {
     "name": "stdout",
     "output_type": "stream",
     "text": [
      "[[120   1]\n",
      " [  0 399]]\n"
     ]
    }
   ],
   "source": [
    "#print new confusion matrix\n",
    "print metrics.confusion_matrix(ytest,pred)"
   ]
  },
  {
   "cell_type": "markdown",
   "metadata": {},
   "source": [
    "# ROC Curves and Area Under the Curve (AUC)"
   ]
  },
  {
   "cell_type": "code",
   "execution_count": 50,
   "metadata": {},
   "outputs": [
    {
     "data": {
      "image/png": "[encoded data removed]",
      "text/plain": [
       "<matplotlib.figure.Figure at 0x7fb61b5e9b90>"
      ]
     },
     "metadata": {},
     "output_type": "display_data"
    }
   ],
   "source": [
    "fpr,tpr,thresholds= metrics.roc_curve(ytest,y_pred_prob)\n",
    "plt.plot(fpr,tpr)\n",
    "#plt.xlim([0.0,1.0])\n",
    "#plt.ylim([0.0,1.0])\n",
    "plt.title('ROC Curve for good data clf')\n",
    "plt.xlabel('False Pos Rate (1-Specificity)')\n",
    "plt.ylabel('True Pos Rate(Sensitivity)')\n",
    "plt.grid(True)"
   ]
  },
  {
   "cell_type": "code",
   "execution_count": 51,
   "metadata": {
    "collapsed": true
   },
   "outputs": [],
   "source": [
    "#define a function that accepts a threshold and prints sensitivity and specificity\n",
    "def evalualte_threshold(threshold):\n",
    "    print 'Sensitivity:',tpr[thresholds > threshold][-1]\n",
    "    print 'Specificity:',1- fpr[thresholds > threshold][-1]"
   ]
  },
  {
   "cell_type": "code",
   "execution_count": 52,
   "metadata": {},
   "outputs": [
    {
     "name": "stdout",
     "output_type": "stream",
     "text": [
      "Sensitivity: 1.0\n",
      "Specificity: 1.0\n"
     ]
    }
   ],
   "source": [
    "evalualte_threshold(.3)"
   ]
  },
  {
   "cell_type": "markdown",
   "metadata": {},
   "source": [
    "# AUC is the percentage of the ROC plot that is under the curve"
   ]
  },
  {
   "cell_type": "code",
   "execution_count": 53,
   "metadata": {},
   "outputs": [
    {
     "name": "stdout",
     "output_type": "stream",
     "text": [
      "1.0\n"
     ]
    }
   ],
   "source": [
    "print metrics.roc_auc_score(ytest,y_pred_prob)"
   ]
  },
  {
   "cell_type": "markdown",
   "metadata": {},
   "source": [
    "This is useful as a single number summary of classifier performance"
   ]
  },
  {
   "cell_type": "code",
   "execution_count": 54,
   "metadata": {},
   "outputs": [
    {
     "data": {
      "text/plain": [
       "1.0"
      ]
     },
     "execution_count": 54,
     "metadata": {},
     "output_type": "execute_result"
    }
   ],
   "source": [
    "# Calculate cross validated AUC\n",
    "from sklearn.cross_validation import cross_val_score\n",
    "cross_val_score(logreg,X,y,cv=10,scoring='roc_auc').mean()"
   ]
  },
  {
   "cell_type": "code",
   "execution_count": null,
   "metadata": {
    "collapsed": true
   },
   "outputs": [],
   "source": []
  }
 ],
 "metadata": {
  "kernelspec": {
   "display_name": "Python 2",
   "language": "python",
   "name": "python2"
  },
  "language_info": {
   "codemirror_mode": {
    "name": "ipython",
    "version": 2
   },
   "file_extension": ".py",
   "mimetype": "text/x-python",
   "name": "python",
   "nbconvert_exporter": "python",
   "pygments_lexer": "ipython2",
   "version": "2.7.13"
  }
 },
 "nbformat": 4,
 "nbformat_minor": 2
}
