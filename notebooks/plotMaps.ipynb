{
 "cells": [
  {
   "cell_type": "code",
   "execution_count": 18,
   "metadata": {
    "collapsed": true
   },
   "outputs": [],
   "source": [
    "import tensorflow as tf\n",
    "import utils as utils\n",
    "import h5py\n",
    "import matplotlib.cm as cm\n",
    "import matplotlib.pyplot as plt\n",
    "import os\n",
    "import numpy as np"
   ]
  },
  {
   "cell_type": "code",
   "execution_count": 25,
   "metadata": {},
   "outputs": [],
   "source": [
    "data_folder = '../data/'\n",
    "file_name = 'HCAL_digi+rechit_occ.hdf5'\n",
    "group = 'DigiTask_Occupancy_depth_depth1'\n",
    "\n",
    "input_file=h5py.File(data_folder+\"/\"+file_name,'r')"
   ]
  },
  {
   "cell_type": "code",
   "execution_count": 27,
   "metadata": {},
   "outputs": [],
   "source": [
    "data_sample = np.array(input_file[group])\n"
   ]
  },
  {
   "cell_type": "code",
   "execution_count": 28,
   "metadata": {},
   "outputs": [
    {
     "name": "stdout",
     "output_type": "stream",
     "text": [
      "[[[    0.     0.  1350. ...,  1350.     0.     0.]\n",
      "  [    0.     0.     0. ...,     0.     0.     0.]\n",
      "  [ 1350.  1350.  1350. ...,  1350.  1350.  1350.]\n",
      "  ..., \n",
      "  [    0.     0.     0. ...,     0.     0.     0.]\n",
      "  [ 1350.  1350.  1350. ...,  1350.  1350.  1350.]\n",
      "  [    0.     0.     0. ...,     0.     0.     0.]]\n",
      "\n",
      " [[    0.     0.  1379. ...,  1379.     0.     0.]\n",
      "  [    0.     0.     0. ...,     0.     0.     0.]\n",
      "  [ 1379.  1379.  1379. ...,  1379.  1379.  1379.]\n",
      "  ..., \n",
      "  [    0.     0.     0. ...,     0.     0.     0.]\n",
      "  [ 1379.  1379.  1379. ...,  1379.  1379.  1379.]\n",
      "  [    0.     0.     0. ...,     0.     0.     0.]]\n",
      "\n",
      " [[    0.     0.  1366. ...,  1366.     0.     0.]\n",
      "  [    0.     0.     0. ...,     0.     0.     0.]\n",
      "  [ 1366.  1366.  1366. ...,  1366.  1366.  1366.]\n",
      "  ..., \n",
      "  [    0.     0.     0. ...,     0.     0.     0.]\n",
      "  [ 1366.  1366.  1366. ...,  1366.  1366.  1366.]\n",
      "  [    0.     0.     0. ...,     0.     0.     0.]]\n",
      "\n",
      " ..., \n",
      " [[    0.     0.  1911. ...,  1911.     0.     0.]\n",
      "  [    0.     0.     0. ...,     0.     0.     0.]\n",
      "  [ 1911.  1911.  1911. ...,  1911.  1911.  1911.]\n",
      "  ..., \n",
      "  [    0.     0.     0. ...,     0.     0.     0.]\n",
      "  [ 1911.  1911.  1911. ...,  1911.  1911.  1911.]\n",
      "  [    0.     0.     0. ...,     0.     0.     0.]]\n",
      "\n",
      " [[    0.     0.  1939. ...,  1939.     0.     0.]\n",
      "  [    0.     0.     0. ...,     0.     0.     0.]\n",
      "  [ 1939.  1939.  1939. ...,  1939.  1939.  1939.]\n",
      "  ..., \n",
      "  [    0.     0.     0. ...,     0.     0.     0.]\n",
      "  [ 1939.  1939.  1939. ...,  1939.  1939.  1939.]\n",
      "  [    0.     0.     0. ...,     0.     0.     0.]]\n",
      "\n",
      " [[    0.     0.  2020. ...,  2020.     0.     0.]\n",
      "  [    0.     0.     0. ...,     0.     0.     0.]\n",
      "  [ 2020.  2020.  2020. ...,  2020.  2020.  2020.]\n",
      "  ..., \n",
      "  [    0.     0.     0. ...,     0.     0.     0.]\n",
      "  [ 2020.  2020.  2020. ...,  2020.  2020.  2020.]\n",
      "  [    0.     0.     0. ...,     0.     0.     0.]]]\n"
     ]
    }
   ],
   "source": [
    "print data_sample\n"
   ]
  },
  {
   "cell_type": "code",
   "execution_count": null,
   "metadata": {
    "collapsed": true
   },
   "outputs": [],
   "source": []
  }
 ],
 "metadata": {
  "kernelspec": {
   "display_name": "Python 2",
   "language": "python",
   "name": "python2"
  },
  "language_info": {
   "codemirror_mode": {
    "name": "ipython",
    "version": 2
   },
   "file_extension": ".py",
   "mimetype": "text/x-python",
   "name": "python",
   "nbconvert_exporter": "python",
   "pygments_lexer": "ipython2",
   "version": "2.7.13"
  }
 },
 "nbformat": 4,
 "nbformat_minor": 2
}
