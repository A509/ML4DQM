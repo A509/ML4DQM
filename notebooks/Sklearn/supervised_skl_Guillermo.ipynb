{
 "cells": [
  {
   "cell_type": "markdown",
   "metadata": {},
   "source": [
    "# This is Guillermo's test version of this code"
   ]
  },
  {
   "cell_type": "code",
   "execution_count": 1,
   "metadata": {},
   "outputs": [
    {
     "name": "stderr",
     "output_type": "stream",
     "text": [
      "Using TensorFlow backend.\n"
     ]
    }
   ],
   "source": [
    "import tensorflow as tf\n",
    "import utils as u\n",
    "import h5py\n",
    "import matplotlib.cm as cm\n",
    "import matplotlib.pyplot as plt\n",
    "import os\n",
    "import numpy as np"
   ]
  },
  {
   "cell_type": "code",
   "execution_count": 2,
   "metadata": {
    "collapsed": true
   },
   "outputs": [],
   "source": [
    "data_folder = '../data/'\n",
    "file_name = 'HCAL_digi+rechit_occ.hdf5'\n",
    "group = 'DigiTask_Occupancy_depth_depth1'\n",
    "\n",
    "input_file=h5py.File(data_folder+\"/\"+file_name,'r')"
   ]
  },
  {
   "cell_type": "markdown",
   "metadata": {},
   "source": [
    "To list all groups "
   ]
  },
  {
   "cell_type": "markdown",
   "metadata": {},
   "source": [
    "I want to see what's inside the file\n",
    "\n",
    "I will print input_file and data_sample \n",
    "\n",
    "I will also want to look at the keys of the file"
   ]
  },
  {
   "cell_type": "code",
   "execution_count": 3,
   "metadata": {},
   "outputs": [
    {
     "name": "stdout",
     "output_type": "stream",
     "text": [
      "(999, 72, 84)\n"
     ]
    }
   ],
   "source": [
    "data_sample = np.array(input_file[group])\n",
    "data = np.array(input_file)\n",
    "data_samplesize=data_sample.shape\n",
    "print data_samplesize\n",
    "data_size=data.shape"
   ]
  },
  {
   "cell_type": "markdown",
   "metadata": {},
   "source": [
    "I would like to print the first entry of this file \n"
   ]
  },
  {
   "cell_type": "code",
   "execution_count": 4,
   "metadata": {},
   "outputs": [
    {
     "name": "stdout",
     "output_type": "stream",
     "text": [
      "Shape of image is:  (72, 84)\n",
      "input image is \n",
      " \n",
      "[[    0.     0.  1350. ...,  1350.     0.     0.]\n",
      " [    0.     0.     0. ...,     0.     0.     0.]\n",
      " [ 1350.  1350.  1350. ...,  1350.  1350.  1350.]\n",
      " ..., \n",
      " [    0.     0.     0. ...,     0.     0.     0.]\n",
      " [ 1350.  1350.  1350. ...,  1350.  1350.  1350.]\n",
      " [    0.     0.     0. ...,     0.     0.     0.]]\n"
     ]
    },
    {
     "data": {
      "image/png": "[encoded data removed]",
      "text/plain": [
       "<matplotlib.figure.Figure at 0x7f37ac6fb3d0>"
      ]
     },
     "metadata": {},
     "output_type": "display_data"
    }
   ],
   "source": [
    "input_image=data_sample[0]\n",
    "\n",
    "print \"Shape of image is: \",input_image.shape\n",
    "print 'input image is \\n '\n",
    "print input_image\n",
    "\n",
    "im=plt.imshow(input_image,cmap=cm.coolwarm)\n",
    "\n",
    "plt.show()\n",
    "plt.clf()#plt.clf clears the figure and it's axis but leaves the window open. \n",
    "         #as opposed to plt.close which closes the window. If you are showing many images at a time without\n",
    "         #closing the window it is better.\n",
    "        \n",
    "        \n",
    "input_image=np.reshape(input_image,(input_image.shape[0],input_image.shape[1]))\n"
   ]
  },
  {
   "cell_type": "markdown",
   "metadata": {},
   "source": [
    "# Using a for loop to plot the average occupancy map"
   ]
  },
  {
   "cell_type": "markdown",
   "metadata": {},
   "source": [
    "Now I would like to plot the average occupancy graph for this group"
   ]
  },
  {
   "cell_type": "code",
   "execution_count": 5,
   "metadata": {},
   "outputs": [
    {
     "name": "stdout",
     "output_type": "stream",
     "text": [
      "\t\n",
      " the average image is= \n",
      "\n",
      "\n",
      "[[    0.            0.         1564.2982983 ...,  1564.2982983     0.\n",
      "      0.       ]\n",
      " [    0.            0.            0.        ...,     0.            0.\n",
      "      0.       ]\n",
      " [ 1564.2982983  1564.2982983  1564.2982983 ...,  1564.2982983\n",
      "   1564.2982983  1564.2982983]\n",
      " ..., \n",
      " [    0.            0.            0.        ...,     0.            0.\n",
      "      0.       ]\n",
      " [ 1564.2982983  1564.2982983  1564.2982983 ...,  1564.2982983\n",
      "   1564.2982983  1564.2982983]\n",
      " [    0.            0.            0.        ...,     0.            0.\n",
      "      0.       ]]\n",
      " \n",
      " \n",
      " Shape of image is: \n",
      "(72, 84)\n"
     ]
    },
    {
     "data": {
      "image/png": "[encoded data removed]",
      "text/plain": [
       "<matplotlib.figure.Figure at 0x7f377fd8e310>"
      ]
     },
     "metadata": {},
     "output_type": "display_data"
    }
   ],
   "source": [
    "sum_image=np.zeros((data_samplesize[1],data_samplesize[2]))\n",
    "\n",
    "for i in range(data_samplesize[1]):\n",
    "    \n",
    "    for j in range(data_samplesize[2]):\n",
    "        \n",
    "        for input_image in data_sample:\n",
    "            \n",
    "            sum_image[i,j]+=input_image[i,j]\n",
    "            \n",
    "                \n",
    "#print '\\t \\n the sum image is= \\n\\n\\n',sum_image\n",
    "\n",
    "\n",
    "average_image=sum_image/data_samplesize[0]\n",
    "\n",
    "\n",
    "print '\\t\\n the average image is= \\n\\n\\n',average_image\n",
    "\n",
    "    #average_image= np.average(input_image, axis=0, weights=None, returned=False)#average image of rows\n",
    "    #average_image= np.average(input_image,axis=1,weights=None,returned=False)#average image of colums\n",
    "    #average_image= np.average(input_image,axis=None,weights=None,returned=False)#average image of all elements\n",
    "\n",
    "print' \\n \\n Shape of image is: \\n',average_image.shape\n",
    "\n",
    "\n",
    "im=plt.imshow(average_image,cmap=cm.coolwarm)\n",
    "    \n",
    "    \n",
    "plt.show()\n",
    "plt.clf()#plt.clf clears the figure and it's axis but leaves the window open. \n",
    "                 #as opposed to plt.close which closes the window. If you are showing many images at a time without\n",
    "                 #closing the window is better.\n",
    "\n",
    "    #input_image=np.reshape(input_image,(input_image.shape[0],input_image.shape[1]))"
   ]
  },
  {
   "cell_type": "markdown",
   "metadata": {},
   "source": [
    "# Using a vectorized method to plot the average occupancy map"
   ]
  },
  {
   "cell_type": "markdown",
   "metadata": {},
   "source": [
    "To print the mean value of the occupancy map we do the following ( I thank Tielige for this part ) :D"
   ]
  },
  {
   "cell_type": "code",
   "execution_count": 6,
   "metadata": {},
   "outputs": [
    {
     "name": "stdout",
     "output_type": "stream",
     "text": [
      "va mean is : \n",
      "[[    0.            0.         1564.2982983 ...,  1564.2982983     0.\n",
      "      0.       ]\n",
      " [    0.            0.            0.        ...,     0.            0.\n",
      "      0.       ]\n",
      " [ 1564.2982983  1564.2982983  1564.2982983 ...,  1564.2982983\n",
      "   1564.2982983  1564.2982983]\n",
      " ..., \n",
      " [    0.            0.            0.        ...,     0.            0.\n",
      "      0.       ]\n",
      " [ 1564.2982983  1564.2982983  1564.2982983 ...,  1564.2982983\n",
      "   1564.2982983  1564.2982983]\n",
      " [    0.            0.            0.        ...,     0.            0.\n",
      "      0.       ]]\n",
      "('Shape of image is: ', (72, 84))\n"
     ]
    },
    {
     "data": {
      "image/png": "[encoded data removed]",
      "text/plain": [
       "<matplotlib.figure.Figure at 0x7f377fc81a90>"
      ]
     },
     "metadata": {},
     "output_type": "display_data"
    }
   ],
   "source": [
    "va = np.zeros((data_samplesize[1],data_samplesize[2]))\n",
    "\n",
    "for x in data_sample:      \n",
    "    va = va+x\n",
    "    \n",
    "vamean= va/data_samplesize[0]\n",
    "#print ('va is: ' ,va)\n",
    "print 'va mean is : \\n', vamean\n",
    "\n",
    "\n",
    "print('Shape of image is: ',vamean.shape)\n",
    "    #print 'average image is \\n '\n",
    "    #print input_image\n",
    "\n",
    "im=plt.imshow(vamean,cmap=cm.coolwarm)\n",
    "  \n",
    "plt.show()\n",
    "plt.clf() #plt.clf clears the figure and it's axis but leaves the window open. \n",
    "                 #as opposed to plt.close which closes the window. If you are showing many images at a time without\n",
    "                 #closing the window is better.\n",
    "\n",
    "#input_image=np.reshape(input_image,(input_image.shape[0],input_image.shape[1]))\n",
    "\n"
   ]
  },
  {
   "cell_type": "markdown",
   "metadata": {},
   "source": [
    "We would like to verify if both of these methods achived the same calculation"
   ]
  },
  {
   "cell_type": "code",
   "execution_count": 7,
   "metadata": {},
   "outputs": [
    {
     "data": {
      "text/plain": [
       "True"
      ]
     },
     "execution_count": 7,
     "metadata": {},
     "output_type": "execute_result"
    }
   ],
   "source": [
    "\n",
    "np.all (average_image== vamean)"
   ]
  },
  {
   "cell_type": "markdown",
   "metadata": {},
   "source": [
    "\n",
    "# Let's see if we can plot a specific channel with time"
   ]
  },
  {
   "cell_type": "markdown",
   "metadata": {
    "collapsed": true
   },
   "source": [
    "Let's choose the channel in the (50,50) position for all lumisections. This is the same as data_sample[:,50,50]"
   ]
  },
  {
   "cell_type": "code",
   "execution_count": 8,
   "metadata": {
    "scrolled": true
   },
   "outputs": [
    {
     "name": "stdout",
     "output_type": "stream",
     "text": [
      "[  797.   804.   775.   744.   829.  1099.  1071.  1062.  1082.  1159.\n",
      "  1096.  1055.  1106.  1043.  1098.  1066.  1107.  1043.  1096.  1043.\n",
      "  1061.  1114.  1109.  1040.  1138.  1083.  1067.  1096.  1100.  1028.\n",
      "  1077.  1122.  1108.  1144.  1062.  1077.  1036.  1062.  1087.  1040.\n",
      "  1069.  1118.  1093.  1095.  1124.  1028.  1127.  1065.  1077.  1044.\n",
      "  1057.  1011.  1045.  1099.  1053.  1088.  1013.  1052.  1082.  1032.\n",
      "  1113.  1038.  1026.   999.   964.  1000.  1011.  1049.  1059.   970.\n",
      "  1023.   992.  1079.  1026.  1027.  1073.  1044.  1082.  1066.  1063.\n",
      "  1011.  1065.  1059.   778.   184.  1038.   998.  1048.  1011.  1060.\n",
      "  1008.   952.   958.  1033.  1040.   994.  1011.  1020.   963.  1029.\n",
      "  1009.  1006.  1017.  1007.   966.  1081.  1033.  1010.  1016.  1013.\n",
      "   988.   966.  1029.   275.   958.   980.  1031.   994.   942.   927.\n",
      "  1003.  1016.   921.   953.  1004.   936.   936.   963.   552.   952.\n",
      "   978.   936.   892.   939.  1004.   937.   897.   970.   950.   995.\n",
      "   923.   969.   946.   889.   924.   932.   912.   956.   902.   926.\n",
      "   924.   941.   920.   921.   951.   923.   916.   960.   947.   913.\n",
      "   956.   922.   984.   875.   930.   881.   927.   925.   923.   858.\n",
      "   910.   893.   979.   956.   922.   881.   919.   872.   870.   916.\n",
      "   930.   895.   960.   943.   909.   918.   911.   909.   904.   863.\n",
      "   902.   891.   875.   899.   833.   878.   905.   915.   928.   937.\n",
      "   919.   932.   953.   895.   856.   880.   912.   871.   854.   913.\n",
      "   847.   917.   907.   881.   880.   932.   884.   863.   872.   853.\n",
      "   873.   862.   871.   891.   885.   884.   894.   833.   944.   870.\n",
      "   863.   861.   894.   891.   840.   855.   916.   898.   897.   859.\n",
      "   873.   898.   851.   868.   868.   830.   870.   908.   893.   871.\n",
      "   856.   895.   867.   845.   819.   863.   845.   888.   824.   830.\n",
      "   909.   849.   841.   814.   844.   849.   840.   840.   814.   858.\n",
      "   849.   840.   869.   887.   915.   810.   847.   860.   819.   818.\n",
      "   826.   820.   878.   833.   843.   846.   856.   842.   826.   831.\n",
      "   861.   894.   807.   854.   826.   814.   811.   855.   824.   834.\n",
      "   826.   830.   872.   753.   826.   805.   375.   463.   825.   866.\n",
      "   843.   798.   761.   771.   817.   831.   778.   827.   831.   822.\n",
      "   788.   837.   827.   805.   832.   804.   832.   838.   782.   819.\n",
      "   865.   834.   758.   804.   805.   780.   812.   821.   784.   844.\n",
      "   851.   793.   788.   807.   825.   829.   816.   794.   795.   822.\n",
      "   668.   785.   167.   761.   779.   824.   821.   781.   825.   806.\n",
      "   806.   786.   767.   770.   779.   759.   786.   784.   827.   777.\n",
      "   773.   795.   769.   846.   652.   775.   757.   785.   539.   760.\n",
      "   760.   827.   768.   709.   743.   788.   961.   952.   881.   912.\n",
      "   870.   911.   915.   951.   873.   936.   928.   925.   867.   955.\n",
      "   932.   945.   938.   882.   894.   928.   904.   934.   867.   904.\n",
      "   895.   910.   914.   968.   878.   948.   904.   928.   879.   888.\n",
      "   933.   897.   919.   887.   927.   924.   891.   876.   916.   842.\n",
      "   911.   907.   869.   937.   931.   912.   879.   841.   934.   939.\n",
      "   908.   920.   885.   942.   914.   875.   885.   846.   885.   917.\n",
      "   892.   906.   913.   892.   847.   869.   882.   904.   900.   903.\n",
      "   847.   893.   872.   885.   898.   882.   892.   863.   902.   890.\n",
      "   871.   846.   891.   887.   851.   883.   877.   944.   874.   874.\n",
      "   891.   849.   861.   840.   844.   859.   862.   845.   882.   865.\n",
      "   794.   892.   774.   844.   879.   856.   897.   849.   833.   834.\n",
      "   809.   828.   835.   879.   885.   798.   880.   832.   767.   870.\n",
      "   815.   792.   832.   874.   832.   853.   890.   872.   772.   845.\n",
      "   831.   847.   898.   843.   865.   867.   849.   878.   843.   853.\n",
      "   872.   874.   867.   858.   841.   881.   836.   831.   872.   808.\n",
      "   849.   846.   826.   729.   838.   796.   858.   788.   859.   834.\n",
      "   843.   929.   769.   802.   918.   835.   841.   855.   835.   873.\n",
      "   835.   825.   852.   808.   840.   764.   810.   799.   823.   812.\n",
      "   814.   803.   845.   759.   857.   804.   853.   856.   789.   789.\n",
      "   857.   804.   810.   807.   818.   832.   815.   826.   819.   799.\n",
      "   846.   820.   810.   808.   785.   798.   768.   826.   862.   774.\n",
      "   861.   772.   843.   812.   834.   817.   795.   774.   771.   789.\n",
      "   853.   780.   811.   884.   779.   817.   805.   832.   787.   817.\n",
      "   820.   785.   769.   819.   788.   835.   784.   796.   758.   836.\n",
      "   777.   448.   784.   852.   796.   795.   804.   724.   780.   831.\n",
      "   788.   795.   784.   794.   802.   788.   821.   808.   763.   752.\n",
      "   785.   806.   761.   827.   779.   826.   856.   808.   759.   817.\n",
      "   738.   722.   783.   786.   819.   784.   796.   783.   787.   830.\n",
      "   791.   762.   760.   771.   771.   738.   757.   803.   763.   782.\n",
      "   768.   781.   745.   774.   799.   800.   759.   787.   759.   733.\n",
      "   810.   812.   786.   765.   845.   737.   781.   735.   801.   780.\n",
      "   745.   786.   708.   767.   814.   736.   786.   772.   758.   768.\n",
      "   761.   800.   817.   742.   782.   728.   711.   748.   673.   747.\n",
      "   746.   729.   788.   754.   752.   755.   756.   736.   745.   735.\n",
      "   763.   764.   738.   714.   778.   799.   719.   701.   775.   772.\n",
      "   711.   740.   714.   732.   746.   772.   759.   780.   733.   776.\n",
      "   747.   723.   773.   762.   714.   695.   734.   708.   739.   727.\n",
      "   723.   720.   689.   521.   785.   710.   759.   736.   687.   704.\n",
      "   690.   746.   766.   749.   740.   740.   752.   697.   727.   535.\n",
      "   460.   724.   732.   732.   659.   721.   677.   746.   731.   724.\n",
      "   698.   754.   723.   714.   606.   623.   749.   756.   688.   709.\n",
      "   675.   742.   697.   705.   677.   732.   697.   748.   699.   713.\n",
      "   720.   771.   725.   694.   765.   693.   710.   721.   692.   698.\n",
      "   729.   638.   701.   783.   697.   689.   769.   703.   691.   718.\n",
      "   675.   730.   717.   651.   686.   775.   724.   672.   734.   698.\n",
      "   731.   676.   706.   720.   685.   722.   730.   674.   668.   665.\n",
      "   713.   720.   662.   720.   742.   661.   745.   631.   685.   700.\n",
      "   706.   632.   686.   679.   682.   662.   693.   682.   684.   644.\n",
      "   651.   698.   692.   715.   692.   706.   714.   665.   692.   679.\n",
      "   673.   691.   672.   677.   634.   685.   687.   670.   716.   726.\n",
      "   700.   749.   674.   681.   682.   669.   694.   677.   690.   702.\n",
      "   661.   669.   529.   526.   500.   649.   665.   640.   695.   679.\n",
      "   677.   701.   685.   650.   691.   645.   636.   707.   689.   676.\n",
      "   612.   676.   683.   629.   162.   601.   669.   650.   649.   671.\n",
      "   676.   669.   694.   658.   659.   669.   679.   626.   679.   650.\n",
      "   652.   692.   607.   714.   659.   678.   633.   695.   677.   633.\n",
      "   637.   689.   673.   643.   634.   659.   656.   687.   657.   618.\n",
      "   657.   652.   713.   618.   644.   638.   635.   674.   636.   665.\n",
      "   637.   676.   618.   628.   663.   654.   620.   633.   634.   630.\n",
      "   698.   642.   674.   641.   677.   671.   636.   653.   648.   688.\n",
      "   646.   650.   626.   658.   636.   678.   640.   659.   608.]\n",
      "(999,)\n",
      "821.182\n",
      "35.7035734757\n"
     ]
    }
   ],
   "source": [
    "a=data_sample[:,50,50]\n",
    "print a\n",
    "print a.shape\n",
    "print np.mean(a)\n",
    "print np.mean(a)/23"
   ]
  },
  {
   "cell_type": "code",
   "execution_count": 9,
   "metadata": {},
   "outputs": [
    {
     "data": {
      "image/png": "[encoded data removed]",
      "text/plain": [
       "<matplotlib.figure.Figure at 0x7f378406d750>"
      ]
     },
     "metadata": {},
     "output_type": "display_data"
    }
   ],
   "source": [
    "plt.plot(a,'.')\n",
    "plt.xlabel('Lumisection')\n",
    "plt.ylabel('Occupancy in channel (50,50)')\n",
    "plt.show()"
   ]
  },
  {
   "cell_type": "markdown",
   "metadata": {
    "collapsed": true
   },
   "source": [
    "# Lets read a different group in the file"
   ]
  },
  {
   "cell_type": "code",
   "execution_count": 10,
   "metadata": {},
   "outputs": [
    {
     "name": "stdout",
     "output_type": "stream",
     "text": [
      "[[[    0.     0.  1350. ...,  1350.     0.     0.]\n",
      "  [    0.     0.     0. ...,     0.     0.     0.]\n",
      "  [ 1350.  1350.  1350. ...,  1350.  1350.  1350.]\n",
      "  ..., \n",
      "  [    0.     0.     0. ...,     0.     0.     0.]\n",
      "  [ 1350.  1350.  1350. ...,  1350.  1350.  1350.]\n",
      "  [    0.     0.     0. ...,     0.     0.     0.]]\n",
      "\n",
      " [[    0.     0.  1379. ...,  1379.     0.     0.]\n",
      "  [    0.     0.     0. ...,     0.     0.     0.]\n",
      "  [ 1379.  1379.  1379. ...,  1379.  1379.  1379.]\n",
      "  ..., \n",
      "  [    0.     0.     0. ...,     0.     0.     0.]\n",
      "  [ 1379.  1379.  1379. ...,  1379.  1379.  1379.]\n",
      "  [    0.     0.     0. ...,     0.     0.     0.]]\n",
      "\n",
      " [[    0.     0.  1366. ...,  1366.     0.     0.]\n",
      "  [    0.     0.     0. ...,     0.     0.     0.]\n",
      "  [ 1366.  1366.  1365. ...,  1366.  1366.  1366.]\n",
      "  ..., \n",
      "  [    0.     0.     0. ...,     0.     0.     0.]\n",
      "  [ 1366.  1366.  1366. ...,  1366.  1366.  1366.]\n",
      "  [    0.     0.     0. ...,     0.     0.     0.]]\n",
      "\n",
      " ..., \n",
      " [[    0.     0.  1285. ...,  1285.     0.     0.]\n",
      "  [    0.     0.     0. ...,     0.     0.     0.]\n",
      "  [ 1285.  1285.  1285. ...,  1285.  1285.  1285.]\n",
      "  ..., \n",
      "  [    0.     0.     0. ...,     0.     0.     0.]\n",
      "  [ 1285.  1285.  1284. ...,  1285.  1285.  1285.]\n",
      "  [    0.     0.     0. ...,     0.     0.     0.]]\n",
      "\n",
      " [[    0.     0.  1295. ...,  1295.     0.     0.]\n",
      "  [    0.     0.     0. ...,     0.     0.     0.]\n",
      "  [ 1295.  1295.  1295. ...,  1295.  1295.  1295.]\n",
      "  ..., \n",
      "  [    0.     0.     0. ...,     0.     0.     0.]\n",
      "  [ 1295.  1295.  1295. ...,  1295.  1295.  1295.]\n",
      "  [    0.     0.     0. ...,     0.     0.     0.]]\n",
      "\n",
      " [[    0.     0.  1268. ...,  1268.     0.     0.]\n",
      "  [    0.     0.     0. ...,     0.     0.     0.]\n",
      "  [ 1268.  1268.  1268. ...,  1268.  1267.  1268.]\n",
      "  ..., \n",
      "  [    0.     0.     0. ...,     0.     0.     0.]\n",
      "  [ 1268.  1268.  1268. ...,  1268.  1268.  1268.]\n",
      "  [    0.     0.     0. ...,     0.     0.     0.]]]\n",
      "RecHitTask_Occupancy_depth_depth1\n",
      "(999, 72, 84)\n",
      "[u'DigiTask_Occupancy_depth_depth1' u'DigiTask_Occupancy_depth_depth2'\n",
      " u'DigiTask_Occupancy_depth_depth3' u'DigiTask_Occupancy_depth_depth4'\n",
      " u'DigiTask_Occupancy_depth_depth5' u'DigiTask_Occupancy_depth_depth6'\n",
      " u'DigiTask_Occupancy_depth_depth7' u'RecHitTask_Occupancy_depth_depth1'\n",
      " u'RecHitTask_Occupancy_depth_depth2' u'RecHitTask_Occupancy_depth_depth3'\n",
      " u'RecHitTask_Occupancy_depth_depth4' u'RecHitTask_Occupancy_depth_depth5'\n",
      " u'RecHitTask_Occupancy_depth_depth6' u'RecHitTask_Occupancy_depth_depth7']\n",
      "Shape of image is:  (72, 84)\n",
      "input image is \n",
      " \n",
      "[[    0.     0.  1379. ...,  1379.     0.     0.]\n",
      " [    0.     0.     0. ...,     0.     0.     0.]\n",
      " [ 1379.  1379.  1379. ...,  1379.  1379.  1379.]\n",
      " ..., \n",
      " [    0.     0.     0. ...,     0.     0.     0.]\n",
      " [ 1379.  1379.  1379. ...,  1379.  1379.  1379.]\n",
      " [    0.     0.     0. ...,     0.     0.     0.]]\n"
     ]
    },
    {
     "data": {
      "image/png": "[encoded data removed]",
      "text/plain": [
       "<matplotlib.figure.Figure at 0x7f377fbd8d10>"
      ]
     },
     "metadata": {},
     "output_type": "display_data"
    }
   ],
   "source": [
    "data_folder = '../data/'\n",
    "file_name = 'HCAL_digi+rechit_occ.hdf5'\n",
    "group = 'RecHitTask_Occupancy_depth_depth1'\n",
    "\n",
    "input_file=h5py.File(data_folder+\"/\"+file_name,'r')\n",
    "\n",
    "data1 = np.array(input_file)\n",
    "data_size1=data.shape\n",
    "\n",
    "data_sample1 = np.array(input_file[group])\n",
    "data_samplesize1=data_sample.shape\n",
    "\n",
    "\n",
    "\n",
    "print data_sample1\n",
    "print group\n",
    "'''[u'DigiTask_Occupancy_depth_depth1' u'DigiTask_Occupancy_depth_depth2'\n",
    " u'DigiTask_Occupancy_depth_depth3' u'DigiTask_Occupancy_depth_depth4'\n",
    " u'DigiTask_Occupancy_depth_depth5' u'DigiTask_Occupancy_depth_depth6'\n",
    " u'DigiTask_Occupancy_depth_depth7' u'RecHitTask_Occupancy_depth_depth1'\n",
    " u'RecHitTask_Occupancy_depth_depth2' u'RecHitTask_Occupancy_depth_depth3'\n",
    " u'RecHitTask_Occupancy_depth_depth4' u'RecHitTask_Occupancy_depth_depth5'\n",
    " u'RecHitTask_Occupancy_depth_depth6' u'RecHitTask_Occupancy_depth_depth7']\n",
    " '''\n",
    "print data_samplesize1\n",
    "print data1\n",
    "\n",
    "\n",
    "input_image1=data_sample1[1]\n",
    "\n",
    "print \"Shape of image is: \",input_image1.shape\n",
    "print 'input image is \\n '\n",
    "print input_image1\n",
    "\n",
    "im=plt.imshow(input_image1,cmap=cm.coolwarm)\n",
    "\n",
    "plt.show()\n",
    "plt.clf()#plt.clf clears the figure and it's axis but leaves the window open. \n",
    "         #as opposed to plt.close which closes the window. If you are showing many images at a time without\n",
    "         #closing the window it is better.\n",
    "        \n",
    "        \n",
    "#input_image=np.reshape(input_image,(input_image.shape[0],input_image.shape[1]))"
   ]
  },
  {
   "cell_type": "markdown",
   "metadata": {},
   "source": [
    "# I want to see if my kill region function and my hot region function work"
   ]
  },
  {
   "cell_type": "raw",
   "metadata": {
    "collapsed": true
   },
   "source": [
    "def killregion(image,xdim,ydim):  \n",
    "    tempX=image.copy()\n",
    "    x1=xdim[0]\n",
    "    x2=xdim[1]\n",
    "    y1=ydim[0]\n",
    "    y2=ydim[1]\n",
    "    if tempX.ndim ==3:\n",
    "        \n",
    "        for k in range(tempX.shape[0]):\n",
    "            \n",
    "            for i in range(x1,x2):\n",
    "                \n",
    "                for j in range(y1,y2):\n",
    "                    \n",
    "                    tempX[k,j,i]=0\n",
    "    \n",
    "    else:\n",
    "        \n",
    "        for i in range(x1,x2):\n",
    "            \n",
    "            for j in range(y1,y2):\n",
    "                \n",
    "                tempX[j,i]=0\n",
    "                \n",
    "    return tempX\n",
    "\n",
    "\n",
    "#help (np.zeros)\n",
    "def hotregion(image,xdim,ydim):  \n",
    "    tempX=image.copy()\n",
    "    x1=xdim[0]\n",
    "    x2=xdim[1]\n",
    "    y1=ydim[0]\n",
    "    y2=ydim[1]\n",
    "    if tempX.ndim ==3:\n",
    "        \n",
    "        for k in range(tempX.shape[0]):\n",
    "            \n",
    "            for i in range(x1,x2):\n",
    "                \n",
    "                for j in range(y1,y2):\n",
    "                    \n",
    "                    tempX[k,j,i]=np.max(image)\n",
    "    else:\n",
    "        \n",
    "        for i in range(x1,x2):\n",
    "            \n",
    "            for j in range(y1,y2):\n",
    "                \n",
    "                tempX[j,i]=np.max(image)\n",
    "                \n",
    "    return tempX"
   ]
  },
  {
   "cell_type": "markdown",
   "metadata": {},
   "source": [
    "Let's randomize this so that the region being killed is random"
   ]
  },
  {
   "cell_type": "raw",
   "metadata": {
    "collapsed": true
   },
   "source": [
    "def create_random_noise_region_in_image(image,xdim,ydim):\n",
    "    \n",
    "    \n",
    "    tempX=image.copy()\n",
    "    x1=xdim[0]\n",
    "    x2=xdim[1]\n",
    "    y1=ydim[0]\n",
    "    y2=ydim[1]\n",
    "    rand_noise_image=np.random.randint(np.max(data_sample1), size=( abs(x2-x1), abs(y2-y1) ) )   \n",
    "   \n",
    "    if tempX.ndim == 3:\n",
    "        \n",
    "        for k in range(tempX.shape[0]):\n",
    "            \n",
    "            for i in range(x1,x2):\n",
    "                \n",
    "                for j in range(y1,y2):\n",
    "                    te = i-x1\n",
    "                    te2= j-y1\n",
    "                    tempX[k,j,i]=rand_noise_image[te2,te]\n",
    "    \n",
    "    else:\n",
    "        \n",
    "        for i in range(x1,x2):\n",
    "            \n",
    "            for j in range(y1,y2):\n",
    "                te = i-x1\n",
    "                te2= j-y1\n",
    "                tempX[j,i]=rand_noise_image[te2,te]\n",
    "                \n",
    "    return tempX"
   ]
  },
  {
   "cell_type": "raw",
   "metadata": {},
   "source": [
    "def killregion_rand(image,xdim,ydim):  \n",
    "    tempX=image.copy()\n",
    "    x1=xdim[0]\n",
    "    x2=xdim[1]\n",
    "    y1=ydim[0]\n",
    "    y2=ydim[1]\n",
    "    \n",
    "    if tempX.ndim ==3:\n",
    "        \n",
    "        for k in range(tempX.shape[0]):\n",
    "            \n",
    "            for i in range(x1,x2):\n",
    "                \n",
    "                for j in range(y1,y2):\n",
    "                    \n",
    "                    tempX[k,j,i]=0\n",
    "    \n",
    "    else:\n",
    "        \n",
    "        for i in range(x1,x2):\n",
    "            \n",
    "            for j in range(y1,y2):\n",
    "                \n",
    "                tempX[j,i]=0\n",
    "                \n",
    "    return tempX\n",
    "\n",
    "\n",
    "#help (np.zeros)\n",
    "def hotregion_rand(image,xdim,ydim):  \n",
    "    tempX=image.copy()\n",
    "    x1=xdim[0]\n",
    "    x2=xdim[1]\n",
    "    y1=ydim[0]\n",
    "    y2=ydim[1]\n",
    "    if tempX.ndim ==3:\n",
    "        \n",
    "        for k in range(tempX.shape[0]):\n",
    "            \n",
    "            for i in range(x1,x2):\n",
    "                \n",
    "                for j in range(y1,y2):\n",
    "                    \n",
    "                    tempX[:,j,i]=np.max(image)\n",
    "    else:\n",
    "        \n",
    "        for i in range(x1,x2):\n",
    "            \n",
    "            for j in range(y1,y2):\n",
    "                \n",
    "                tempX[j,i]=np.max(image)\n",
    "                \n",
    "    return tempX"
   ]
  },
  {
   "cell_type": "markdown",
   "metadata": {},
   "source": [
    "# Plotting my bad data image"
   ]
  },
  {
   "cell_type": "raw",
   "metadata": {
    "collapsed": true
   },
   "source": [
    "import random\n",
    "def insert_hot_tower(input_image):\n",
    "   to_ret=np.copy(input_image)\n",
    "\n",
    "   height_range=range(0,to_ret.shape[0],5)\n",
    "   width_range=range(0,to_ret.shape[1],5)\n",
    "\n",
    "   y_cord=random.choice(height_range)#pick random y for a towers lower left point\n",
    "   x_cord=random.choice(width_range)#pick random x ---do---\n",
    "\n",
    "   for channel_y in range(y_cord,y_cord+5):\n",
    "      for channel_x in range(x_cord,x_cord+5):\n",
    "         to_ret[channel_y,channel_x]*=1e4 #a very large number representing a hot tower\n",
    "\n",
    "   to_ret_max=np.amax(to_ret)\n",
    "   to_ret=to_ret/float(to_ret_max)      #renormalize\n",
    "   return to_ret"
   ]
  },
  {
   "cell_type": "raw",
   "metadata": {},
   "source": [
    "input_image1=data_sample1[0]\n",
    "xdim=(40,50)\n",
    "ydim=(20,30)\n",
    "\n",
    "deadregion_image=killregion(input_image1,xdim,ydim)\n",
    "\n",
    "hotregion_image= hotregion(input_image1,xdim,ydim)\n",
    "\n",
    "random_noise_region= create_random_noise_region_in_image(input_image1,xdim,ydim)\n",
    "\n",
    "print \"Shape of image is: \" ,random_noise_region.shape\n",
    "#print 'input image is \\n '\n",
    "#print deadregion_image\n",
    "im=plt.imshow(random_noise_region,cmap=cm.coolwarm)\n",
    "plt.show()\n",
    "plt.clf()\n",
    "\n",
    "im=plt.imshow(hotregion_image,cmap=cm.coolwarm)\n",
    "plt.show()\n",
    "plt.clf()#plt.clf clears the figure and it's axis but leaves the window open. \n",
    "         #as opposed to plt.close which closes the window. If you are showing many images at a time without\n",
    "         #closing the window it is better.\n",
    "im=plt.imshow(deadregion_image,cmap=cm.coolwarm)\n",
    "plt.show()\n",
    "plt.clf()\n",
    "#input_image=np.reshape(input_image,(input_image.shape[0],input_image.shape[1]))\n"
   ]
  },
  {
   "cell_type": "markdown",
   "metadata": {},
   "source": [
    "# I would like to create about 100 bad data images"
   ]
  },
  {
   "cell_type": "code",
   "execution_count": 11,
   "metadata": {
    "scrolled": false
   },
   "outputs": [
    {
     "name": "stdout",
     "output_type": "stream",
     "text": [
      "Shape of regular image is:  (999, 72, 84)\n",
      "Shape of dead image is:  (999, 72, 84)\n",
      "Shape of hot image is:  (999, 72, 84)\n",
      "\n"
     ]
    },
    {
     "data": {
      "image/png": "[encoded data removed]",
      "text/plain": [
       "<matplotlib.figure.Figure at 0x7f377fd0b690>"
      ]
     },
     "metadata": {},
     "output_type": "display_data"
    },
    {
     "data": {
      "image/png": "[encoded data removed]",
      "text/plain": [
       "<matplotlib.figure.Figure at 0x7f377fa8fbd0>"
      ]
     },
     "metadata": {},
     "output_type": "display_data"
    },
    {
     "data": {
      "image/png": "[encoded data removed]",
      "text/plain": [
       "<matplotlib.figure.Figure at 0x7f377f952e90>"
      ]
     },
     "metadata": {},
     "output_type": "display_data"
    }
   ],
   "source": [
    "input_images=data_sample[:]\n",
    "hotregion_image=[]\n",
    "deadregion_image=[]\n",
    "\n",
    "for k in input_images:\n",
    "    a=np.random.randint(input_images.shape[2]-1)\n",
    "    b=np.random.randint(input_images.shape[1]-1)\n",
    "    xdim=(a,a+1)\n",
    "    ydim=(b,b+1)\n",
    "    #xdim=(40,43)\n",
    "    #ydim=(30,33)\n",
    "    \n",
    "    hotregion_image.append( u.hotregion(k,xdim,ydim))\n",
    "    deadregion_image.append(u.killregion(k,xdim,ydim))\n",
    "       \n",
    "    \n",
    "hotregion_image=np.array(hotregion_image)\n",
    "deadregion_image=np.array(deadregion_image)\n",
    "\n",
    "print \"Shape of regular image is: \",input_images.shape\n",
    "print \"Shape of dead image is: \" ,deadregion_image.shape\n",
    "print \"Shape of hot image is: \" ,hotregion_image.shape\n",
    "\n",
    "print ''\n",
    "im=plt.imshow(input_images[1],cmap=cm.coolwarm)\n",
    "plt.colorbar()\n",
    "plt.show()\n",
    "plt.clf()\n",
    "\n",
    "im=plt.imshow(hotregion_image[1],cmap=cm.coolwarm)\n",
    "plt.colorbar()\n",
    "plt.show()\n",
    "plt.clf()#plt.clf clears the figure and it's axis but leaves the window open. \n",
    "         #as opposed to plt.close which closes the window. If you are showing many images at a time without\n",
    "         #closing the window it is better.\n",
    "\n",
    "im=plt.imshow(deadregion_image[1],cmap=cm.coolwarm)\n",
    "plt.colorbar()\n",
    "plt.show()\n",
    "plt.clf()\n",
    "#input_image=np.reshape(input_image,(input_image.shape[0],input_image.shape[1]))\n"
   ]
  },
  {
   "cell_type": "markdown",
   "metadata": {
    "collapsed": true
   },
   "source": [
    "# Trying out SKlearn "
   ]
  },
  {
   "cell_type": "markdown",
   "metadata": {},
   "source": [
    "Adding the bad data images to the sample"
   ]
  },
  {
   "cell_type": "code",
   "execution_count": 12,
   "metadata": {},
   "outputs": [
    {
     "data": {
      "text/plain": [
       "(999, 72, 84)"
      ]
     },
     "execution_count": 12,
     "metadata": {},
     "output_type": "execute_result"
    }
   ],
   "source": [
    "data_sample.shape\n"
   ]
  },
  {
   "cell_type": "code",
   "execution_count": 13,
   "metadata": {},
   "outputs": [
    {
     "name": "stdout",
     "output_type": "stream",
     "text": [
      "(1998, 72, 84)\n",
      "(2997, 72, 84)\n"
     ]
    }
   ],
   "source": [
    "data_sample=np.append(data_sample,(deadregion_image),axis=0)\n",
    "print data_sample.shape\n",
    "\n",
    "data_sample=np.append(data_sample,(hotregion_image),axis=0)\n",
    "print data_sample.shape\n",
    "\n",
    "#data_sample=np.append(data_sample,(random_noise_region),axis=0)\n",
    "#print data_sample.shape\n"
   ]
  },
  {
   "cell_type": "markdown",
   "metadata": {},
   "source": [
    "Insert a column in every image of 1's or True ( this will represent it's label)"
   ]
  },
  {
   "cell_type": "code",
   "execution_count": 14,
   "metadata": {},
   "outputs": [
    {
     "data": {
      "text/plain": [
       "(2997, 6048)"
      ]
     },
     "execution_count": 14,
     "metadata": {},
     "output_type": "execute_result"
    }
   ],
   "source": [
    "sample=np.reshape(data_sample,(data_sample.shape[0],data_sample.shape[1]*data_sample.shape[2]))\n",
    "sample.shape\n"
   ]
  },
  {
   "cell_type": "code",
   "execution_count": 15,
   "metadata": {},
   "outputs": [
    {
     "data": {
      "text/plain": [
       "(2997, 6049)"
      ]
     },
     "execution_count": 15,
     "metadata": {},
     "output_type": "execute_result"
    }
   ],
   "source": [
    "#help(np.append)\n",
    "sample=np.append(sample,np.zeros((sample.shape[0],1)),axis=1 )\n",
    "sample.shape"
   ]
  },
  {
   "cell_type": "code",
   "execution_count": 16,
   "metadata": {},
   "outputs": [
    {
     "name": "stdout",
     "output_type": "stream",
     "text": [
      "2\n",
      "1\n"
     ]
    }
   ],
   "source": [
    "#this is because I am going to add the hot and dead region images\n",
    "\n",
    "for i in range(2,0,-1):\n",
    "    sample[-i*input_images.shape[0]:,-1:]=3-i\n",
    "    print i\n",
    "#if you want it as intergers leave this as it is\n",
    "#if you would like it as a vector then do this\n",
    "#y=to_categorical(y,4)\n"
   ]
  },
  {
   "cell_type": "code",
   "execution_count": 17,
   "metadata": {},
   "outputs": [
    {
     "name": "stdout",
     "output_type": "stream",
     "text": [
      "[[ 0.]\n",
      " [ 0.]\n",
      " [ 0.]\n",
      " ..., \n",
      " [ 2.]\n",
      " [ 2.]\n",
      " [ 2.]]\n"
     ]
    }
   ],
   "source": [
    "print sample[:,-1:]"
   ]
  },
  {
   "cell_type": "code",
   "execution_count": 18,
   "metadata": {
    "scrolled": true
   },
   "outputs": [
    {
     "data": {
      "text/plain": [
       "(2997, 1)"
      ]
     },
     "execution_count": 18,
     "metadata": {},
     "output_type": "execute_result"
    }
   ],
   "source": [
    "sample[:,-1:].shape"
   ]
  },
  {
   "cell_type": "markdown",
   "metadata": {},
   "source": [
    "Let's define our Data and Lables"
   ]
  },
  {
   "cell_type": "code",
   "execution_count": 19,
   "metadata": {},
   "outputs": [
    {
     "name": "stdout",
     "output_type": "stream",
     "text": [
      "(2997, 6048) \n",
      "(2997,)\n"
     ]
    }
   ],
   "source": [
    "X=sample[:,:-1]\n",
    "y=sample[:,-1]\n",
    "print X.shape,'\\n',y.shape"
   ]
  },
  {
   "cell_type": "raw",
   "metadata": {
    "collapsed": true
   },
   "source": [
    "#Xtrain=sample[:599,:,:-1]\n",
    "#Xval=sample[599:799,:,:-1]\n",
    "#Xtest=sample[799:,:,:-1]\n",
    "#ytrain=sample[:599,1,-1:]\n",
    "#yval=sample[599:799,1,-1:]\n",
    "#ytest=sample[799:,1,-1:]\n",
    "\n",
    "print 'fist shape of X is: ',X.shape\n",
    "#X=np.reshape(X,(X.shape[0],X.shape[1]*X.shape[2]))\n",
    "#print 'new shape of X is: ',X.shape\n",
    "\n",
    "print '\\nfist shape of y is: ',y.shape\n",
    "#y=np.reshape(y,(y.shape[0],y.shape[1]*y.shape[2]))\n",
    "#print 'new shape of y is: ',y.shape\n",
    "\n",
    "print '\\nfist shape of Xtrain is: ',Xtrain.shape\n",
    "Xtrain=np.reshape(Xtrain,(Xtrain.shape[0],Xtrain.shape[1]*Xtrain.shape[2]))\n",
    "print 'new shape of Xtrain is: ',Xtrain.shape\n",
    "\n",
    "print '\\nfist shape of Xval is: ',Xval.shape\n",
    "Xval=np.reshape(Xval,(Xval.shape[0],Xval.shape[1]*Xval.shape[2]))\n",
    "print 'new shape of Xval is: ',Xval.shape\n",
    "\n",
    "print '\\nfist shape of Xtest is: ',Xtest.shape\n",
    "Xtest=np.reshape(Xtest,(Xtest.shape[0],Xtest.shape[1]*Xtest.shape[2]))\n",
    "print 'new shape of Xtest is: ',Xtest.shape\n",
    "\n",
    "print '\\nfist shape of ytrain is: ',ytrain.shape\n",
    "#ytrain=np.reshape(ytrain,(ytrain.shape[0],ytrain.shape[1]*ytrain.shape[1]))\n",
    "#print 'new shape of ytrain is: ',ytrain.shape\n",
    "\n",
    "#\n",
    "print '\\nfist shape of yval is: ',yval.shape\n",
    "#yval=np.reshape(yval,(yval.shape[0],yval.shape[1]*yval.shape[2]))\n",
    "#print 'new shape of yval is: ',yval.shape\n",
    "\n",
    "print '\\nfist shape of ytest is: ',ytest.shape\n",
    "#ytest=np.reshape(ytest,(ytest.shape[0],ytest.shape[1]*ytest.shape[2]))\n",
    "#print 'new shape of ytest is: ',ytest.shape\n",
    "#"
   ]
  },
  {
   "cell_type": "code",
   "execution_count": 20,
   "metadata": {},
   "outputs": [
    {
     "name": "stderr",
     "output_type": "stream",
     "text": [
      "/cvmfs/sft.cern.ch/lcg/views/LCG_93/x86_64-slc6-gcc62-opt/lib/python2.7/site-packages/sklearn/cross_validation.py:44: DeprecationWarning: This module was deprecated in version 0.18 in favor of the model_selection module into which all the refactored classes and functions are moved. Also note that the interface of the new CV iterators are different from that of this module. This module will be removed in 0.20.\n",
      "  \"This module will be removed in 0.20.\", DeprecationWarning)\n"
     ]
    },
    {
     "name": "stdout",
     "output_type": "stream",
     "text": [
      "(1798, 6048)\n",
      "(1199, 6048)\n",
      "(1798,)\n",
      "(1199,)\n"
     ]
    }
   ],
   "source": [
    "from sklearn.neural_network import MLPClassifier #this one takes too long\n",
    "from sklearn.linear_model import LogisticRegression\n",
    "from sklearn.metrics import roc_curve,roc_auc_score,auc,confusion_matrix,accuracy_score\n",
    "from sklearn.cross_validation import train_test_split,cross_val_score\n",
    "Xtrain,Xtest,ytrain, ytest=train_test_split(X,y,test_size=0.4,random_state =5 )\n",
    "\n",
    "print Xtrain.shape\n",
    "print Xtest.shape\n",
    "print ytrain.shape\n",
    "print ytest.shape"
   ]
  },
  {
   "cell_type": "code",
   "execution_count": 21,
   "metadata": {},
   "outputs": [
    {
     "name": "stdout",
     "output_type": "stream",
     "text": [
      "0.336488712314\n"
     ]
    }
   ],
   "source": [
    "MLP = MLPClassifier( hidden_layer_sizes=(100,15), activation='relu', solver='adam',\n",
    "                    alpha=0.0001, batch_size='auto', learning_rate='adaptive', learning_rate_init=0.001,\n",
    "                    power_t=0.5, max_iter=1200, shuffle=True, random_state=None, tol=0.0001, verbose=False,\n",
    "                    warm_start=False, momentum=0.9, nesterovs_momentum=True, early_stopping=True,\n",
    "                    validation_fraction=0.1, beta_1=0.9, beta_2=0.999, epsilon=1e-08)\n",
    "scores= cross_val_score(MLP,Xtrain,ytrain,cv=10,scoring='accuracy')\n",
    "print scores.mean()"
   ]
  },
  {
   "cell_type": "code",
   "execution_count": 22,
   "metadata": {},
   "outputs": [
    {
     "data": {
      "text/plain": [
       "MLPClassifier(activation='relu', alpha=0.0001, batch_size='auto', beta_1=0.9,\n",
       "       beta_2=0.999, early_stopping=True, epsilon=1e-08,\n",
       "       hidden_layer_sizes=(100, 15), learning_rate='adaptive',\n",
       "       learning_rate_init=0.001, max_iter=1200, momentum=0.9,\n",
       "       nesterovs_momentum=True, power_t=0.5, random_state=None,\n",
       "       shuffle=True, solver='adam', tol=0.0001, validation_fraction=0.1,\n",
       "       verbose=False, warm_start=False)"
      ]
     },
     "execution_count": 22,
     "metadata": {},
     "output_type": "execute_result"
    }
   ],
   "source": [
    "MLP.fit( Xtrain ,ytrain) "
   ]
  },
  {
   "cell_type": "code",
   "execution_count": 23,
   "metadata": {},
   "outputs": [
    {
     "name": "stdout",
     "output_type": "stream",
     "text": [
      "(1199,)\n",
      "0.432026688907\n"
     ]
    }
   ],
   "source": [
    "pred=MLP.predict(Xtest)\n",
    "print pred.shape\n",
    "print accuracy_score(ytest,pred)\n"
   ]
  },
  {
   "cell_type": "code",
   "execution_count": 24,
   "metadata": {},
   "outputs": [
    {
     "name": "stdout",
     "output_type": "stream",
     "text": [
      "0.186218521448\n"
     ]
    }
   ],
   "source": [
    "logreg=LogisticRegression()\n",
    "scores= cross_val_score(logreg,Xtrain,ytrain,cv=10,scoring='accuracy')\n",
    "print scores.mean()"
   ]
  },
  {
   "cell_type": "code",
   "execution_count": 25,
   "metadata": {},
   "outputs": [
    {
     "data": {
      "text/plain": [
       "LogisticRegression(C=1.0, class_weight=None, dual=False, fit_intercept=True,\n",
       "          intercept_scaling=1, max_iter=100, multi_class='ovr', n_jobs=1,\n",
       "          penalty='l2', random_state=None, solver='liblinear', tol=0.0001,\n",
       "          verbose=0, warm_start=False)"
      ]
     },
     "execution_count": 25,
     "metadata": {},
     "output_type": "execute_result"
    }
   ],
   "source": [
    "logreg.fit(Xtrain,ytrain)"
   ]
  },
  {
   "cell_type": "markdown",
   "metadata": {
    "collapsed": true
   },
   "source": [
    "# Evaluating the model "
   ]
  },
  {
   "cell_type": "code",
   "execution_count": 27,
   "metadata": {},
   "outputs": [
    {
     "name": "stdout",
     "output_type": "stream",
     "text": [
      "(1199,)\n",
      "0.207673060884\n"
     ]
    }
   ],
   "source": [
    "pred=logreg.predict(Xtest)\n",
    "print pred.shape\n",
    "print accuracy_score(ytest,pred)"
   ]
  },
  {
   "cell_type": "code",
   "execution_count": 28,
   "metadata": {},
   "outputs": [
    {
     "data": {
      "text/plain": [
       "0.994161801501251"
      ]
     },
     "execution_count": 28,
     "metadata": {},
     "output_type": "execute_result"
    }
   ],
   "source": [
    "#calcualte null accuracy\n",
    "max(ytest.mean(),1-ytest.mean())"
   ]
  },
  {
   "cell_type": "code",
   "execution_count": 30,
   "metadata": {},
   "outputs": [
    {
     "name": "stdout",
     "output_type": "stream",
     "text": [
      "[[137 266   0]\n",
      " [344  56   0]\n",
      " [226 114  56]]\n"
     ]
    }
   ],
   "source": [
    "#Confusion matrix\n",
    "print confusion_matrix(ytest,pred)"
   ]
  },
  {
   "cell_type": "code",
   "execution_count": 31,
   "metadata": {},
   "outputs": [
    {
     "name": "stdout",
     "output_type": "stream",
     "text": [
      "True [ 1.  2.  1.  1.  2.  2.  2.  2.  2.  1.  1.  0.  2.  1.  0.]\n",
      "Pred [ 0.  0.  0.  0.  0.  2.  0.  0.  0.  1.  0.  0.  0.  1.  0.]\n"
     ]
    }
   ],
   "source": [
    "print'True', ytest[0:15]\n",
    "print 'Pred', pred[0:15]"
   ]
  },
  {
   "cell_type": "code",
   "execution_count": 33,
   "metadata": {
    "collapsed": true
   },
   "outputs": [],
   "source": [
    "#save confusion matrix and slice into 4 pieces\n",
    "confusion= confusion_matrix(ytest,pred)\n",
    "TP=confusion[1,1]\n",
    "TN=confusion[0,0]\n",
    "FP=confusion[0,1]\n",
    "FN=confusion[1,0]"
   ]
  },
  {
   "cell_type": "code",
   "execution_count": 34,
   "metadata": {},
   "outputs": [
    {
     "name": "stdout",
     "output_type": "stream",
     "text": [
      "56\n",
      "137\n",
      "266\n",
      "344\n"
     ]
    }
   ],
   "source": [
    "print TP\n",
    "print TN\n",
    "print FP\n",
    "print FN"
   ]
  },
  {
   "cell_type": "code",
   "execution_count": 36,
   "metadata": {},
   "outputs": [
    {
     "name": "stdout",
     "output_type": "stream",
     "text": [
      "0.240348692403\n",
      "0.207673060884\n"
     ]
    }
   ],
   "source": [
    "#Clasification Accuracy\n",
    "#how often is the Clf correct?\n",
    "print (TP+TN)/ float(TP+TN+FP+FN)\n",
    "print accuracy_score(ytest,pred)"
   ]
  },
  {
   "cell_type": "code",
   "execution_count": null,
   "metadata": {
    "collapsed": true
   },
   "outputs": [],
   "source": [
    "#Clasification Error\n",
    "# how often is it incorrect?\n",
    "print (FP+FN)/ float(TP+TN+FP+FN)\n",
    "print 1- metrics.accuracy_score(ytest,pred)"
   ]
  },
  {
   "cell_type": "code",
   "execution_count": null,
   "metadata": {
    "collapsed": true
   },
   "outputs": [],
   "source": [
    "#Sensitivity\n",
    "# How often if the prediction correct when the actual value is pos. \n",
    "#AKA True pos or Recall\n",
    "\n",
    "print TP/ float(TP+FN)\n",
    "print metrics.recall_score(ytest,pred)"
   ]
  },
  {
   "cell_type": "code",
   "execution_count": null,
   "metadata": {
    "collapsed": true
   },
   "outputs": [],
   "source": [
    "#Specificity \n",
    "# When the actual result is neg how often is it correct?\n",
    "print TN/ float(TN+FP)"
   ]
  },
  {
   "cell_type": "code",
   "execution_count": null,
   "metadata": {
    "collapsed": true
   },
   "outputs": [],
   "source": [
    "#false positive\n",
    "# When the actual value is negative how often is it incorrect\n",
    "print FP/ float(TN+FP)"
   ]
  },
  {
   "cell_type": "code",
   "execution_count": null,
   "metadata": {
    "collapsed": true
   },
   "outputs": [],
   "source": [
    "#Precision\n",
    "#When a positive value is predicted, how often is it correct?\n",
    "print TP/ float(TP +FP)\n",
    "print metrics.precision_score(ytest,pred)"
   ]
  },
  {
   "cell_type": "markdown",
   "metadata": {},
   "source": [
    "# Adjusting the clasification threshold"
   ]
  },
  {
   "cell_type": "code",
   "execution_count": 37,
   "metadata": {},
   "outputs": [
    {
     "data": {
      "text/plain": [
       "array([ 0.,  0.,  0.,  0.,  0.,  2.,  0.,  0.,  0.,  1.])"
      ]
     },
     "execution_count": 37,
     "metadata": {},
     "output_type": "execute_result"
    }
   ],
   "source": [
    "#print the first 10 predicted responses\n",
    "logreg.predict(Xtest)[0:10]"
   ]
  },
  {
   "cell_type": "code",
   "execution_count": 38,
   "metadata": {},
   "outputs": [
    {
     "data": {
      "text/plain": [
       "array([[  9.98823139e-001,   1.02908964e-003,   1.47770894e-004],\n",
       "       [  9.99927845e-001,   2.47081291e-040,   7.21552051e-005],\n",
       "       [  9.99737686e-001,   9.88712612e-005,   1.63442631e-004],\n",
       "       [  9.37633307e-001,   6.21171662e-002,   2.49527153e-004],\n",
       "       [  9.99901266e-001,   3.44133177e-043,   9.87340273e-005],\n",
       "       [  1.24222254e-004,   6.24153468e-004,   9.99251624e-001],\n",
       "       [  9.99962811e-001,   3.00528483e-112,   3.71893904e-005],\n",
       "       [  9.99959721e-001,   4.61573151e-021,   4.02786982e-005],\n",
       "       [  9.67157396e-001,   3.27897008e-002,   5.29027726e-005],\n",
       "       [  3.26623611e-001,   6.73352401e-001,   2.39880551e-005]])"
      ]
     },
     "execution_count": 38,
     "metadata": {},
     "output_type": "execute_result"
    }
   ],
   "source": [
    "#print the first 10 predicted probabilities of class membership\n",
    "logreg.predict_proba(Xtest)[0:10,:]"
   ]
  },
  {
   "cell_type": "code",
   "execution_count": 39,
   "metadata": {},
   "outputs": [
    {
     "data": {
      "text/plain": [
       "array([  1.02908964e-003,   2.47081291e-040,   9.88712612e-005,\n",
       "         6.21171662e-002,   3.44133177e-043,   6.24153468e-004,\n",
       "         3.00528483e-112,   4.61573151e-021,   3.27897008e-002,\n",
       "         6.73352401e-001])"
      ]
     },
     "execution_count": 39,
     "metadata": {},
     "output_type": "execute_result"
    }
   ],
   "source": [
    "#print the first 10 predicted probabilities for class 1\n",
    "logreg.predict_proba(Xtest)[0:10,1]"
   ]
  },
  {
   "cell_type": "code",
   "execution_count": 40,
   "metadata": {
    "collapsed": true
   },
   "outputs": [],
   "source": [
    "#store the predicted probabilities for class 1\n",
    "y_pred_prob=logreg.predict_proba(Xtest)[:,1]"
   ]
  },
  {
   "cell_type": "code",
   "execution_count": 41,
   "metadata": {
    "collapsed": true
   },
   "outputs": [],
   "source": [
    "#allow plots to appear in the notebook\n",
    "%matplotlib inline\n",
    "plt.rcParams['font.size']=14"
   ]
  },
  {
   "cell_type": "code",
   "execution_count": 42,
   "metadata": {},
   "outputs": [
    {
     "data": {
      "text/plain": [
       "Text(0,0.5,u'Frequency')"
      ]
     },
     "execution_count": 42,
     "metadata": {},
     "output_type": "execute_result"
    },
    {
     "data": {
      "image/png": "[encoded data removed]",
      "text/plain": [
       "<matplotlib.figure.Figure at 0x7f378569a850>"
      ]
     },
     "metadata": {},
     "output_type": "display_data"
    }
   ],
   "source": [
    "#histogram of predicted probabilities\n",
    "plt.hist(y_pred_prob)#bins=8)\n",
    "#plt.xlim(0,1)\n",
    "plt.title(\"Histogram of predicted probabilities\")\n",
    "plt.xlabel('Predicted probability')\n",
    "plt.ylabel('Frequency')"
   ]
  },
  {
   "cell_type": "markdown",
   "metadata": {},
   "source": [
    "# Decrease the threshold "
   ]
  },
  {
   "cell_type": "code",
   "execution_count": 43,
   "metadata": {},
   "outputs": [
    {
     "name": "stderr",
     "output_type": "stream",
     "text": [
      "/cvmfs/sft.cern.ch/lcg/views/LCG_93/x86_64-slc6-gcc62-opt/lib/python2.7/site-packages/sklearn/utils/validation.py:395: DeprecationWarning: Passing 1d arrays as data is deprecated in 0.17 and will raise ValueError in 0.19. Reshape your data either using X.reshape(-1, 1) if your data has a single feature or X.reshape(1, -1) if it contains a single sample.\n",
      "  DeprecationWarning)\n"
     ]
    }
   ],
   "source": [
    "#predict good if the predicted probability is greater than 0.3\n",
    "from sklearn.preprocessing import binarize\n",
    "pred= binarize(y_pred_prob,0.3)[0]"
   ]
  },
  {
   "cell_type": "code",
   "execution_count": 44,
   "metadata": {},
   "outputs": [
    {
     "data": {
      "text/plain": [
       "array([  1.02908964e-003,   2.47081291e-040,   9.88712612e-005,\n",
       "         6.21171662e-002,   3.44133177e-043,   6.24153468e-004,\n",
       "         3.00528483e-112,   4.61573151e-021,   3.27897008e-002,\n",
       "         6.73352401e-001])"
      ]
     },
     "execution_count": 44,
     "metadata": {},
     "output_type": "execute_result"
    }
   ],
   "source": [
    "#print the first 10 predicted probabilities\n",
    "y_pred_prob[0:10]"
   ]
  },
  {
   "cell_type": "code",
   "execution_count": 45,
   "metadata": {},
   "outputs": [
    {
     "data": {
      "text/plain": [
       "array([ 0.,  0.,  0.,  0.,  0.,  0.,  0.,  0.,  0.,  1.])"
      ]
     },
     "execution_count": 45,
     "metadata": {},
     "output_type": "execute_result"
    }
   ],
   "source": [
    "#print the first 10 predicted classes with new thershold\n",
    "pred[0:10]"
   ]
  },
  {
   "cell_type": "code",
   "execution_count": 46,
   "metadata": {},
   "outputs": [
    {
     "name": "stdout",
     "output_type": "stream",
     "text": [
      "[[137 266   0]\n",
      " [344  56   0]\n",
      " [226 114  56]]\n"
     ]
    }
   ],
   "source": [
    "#print old confusion matrix\n",
    "print confusion"
   ]
  },
  {
   "cell_type": "code",
   "execution_count": 48,
   "metadata": {},
   "outputs": [
    {
     "name": "stdout",
     "output_type": "stream",
     "text": [
      "[[123 280   0]\n",
      " [325  75   0]\n",
      " [247 149   0]]\n"
     ]
    }
   ],
   "source": [
    "#print new confusion matrix\n",
    "print confusion_matrix(ytest,pred)"
   ]
  },
  {
   "cell_type": "markdown",
   "metadata": {},
   "source": [
    "# ROC Curves and Area Under the Curve (AUC)"
   ]
  },
  {
   "cell_type": "code",
   "execution_count": 50,
   "metadata": {},
   "outputs": [
    {
     "ename": "ValueError",
     "evalue": "Data is not binary and pos_label is not specified",
     "output_type": "error",
     "traceback": [
      "\u001b[0;31m\u001b[0m",
      "\u001b[0;31mValueError\u001b[0mTraceback (most recent call last)",
      "\u001b[0;32m<ipython-input-50-d8f60354e7a6>\u001b[0m in \u001b[0;36m<module>\u001b[0;34m()\u001b[0m\n\u001b[0;32m----> 1\u001b[0;31m \u001b[0mfpr\u001b[0m\u001b[0;34m,\u001b[0m\u001b[0mtpr\u001b[0m\u001b[0;34m,\u001b[0m\u001b[0mthresholds\u001b[0m\u001b[0;34m=\u001b[0m \u001b[0mroc_curve\u001b[0m\u001b[0;34m(\u001b[0m\u001b[0mytest\u001b[0m\u001b[0;34m,\u001b[0m\u001b[0my_pred_prob\u001b[0m\u001b[0;34m)\u001b[0m\u001b[0;34m\u001b[0m\u001b[0m\n\u001b[0m\u001b[1;32m      2\u001b[0m \u001b[0mplt\u001b[0m\u001b[0;34m.\u001b[0m\u001b[0mplot\u001b[0m\u001b[0;34m(\u001b[0m\u001b[0mfpr\u001b[0m\u001b[0;34m,\u001b[0m\u001b[0mtpr\u001b[0m\u001b[0;34m)\u001b[0m\u001b[0;34m\u001b[0m\u001b[0m\n\u001b[1;32m      3\u001b[0m \u001b[0;31m#plt.xlim([0.0,1.0])\u001b[0m\u001b[0;34m\u001b[0m\u001b[0;34m\u001b[0m\u001b[0m\n\u001b[1;32m      4\u001b[0m \u001b[0;31m#plt.ylim([0.0,1.0])\u001b[0m\u001b[0;34m\u001b[0m\u001b[0;34m\u001b[0m\u001b[0m\n\u001b[1;32m      5\u001b[0m \u001b[0mplt\u001b[0m\u001b[0;34m.\u001b[0m\u001b[0mtitle\u001b[0m\u001b[0;34m(\u001b[0m\u001b[0;34m'ROC Curve for good data clf'\u001b[0m\u001b[0;34m)\u001b[0m\u001b[0;34m\u001b[0m\u001b[0m\n",
      "\u001b[0;32m/cvmfs/sft.cern.ch/lcg/views/LCG_93/x86_64-slc6-gcc62-opt/lib/python2.7/site-packages/sklearn/metrics/ranking.pyc\u001b[0m in \u001b[0;36mroc_curve\u001b[0;34m(y_true, y_score, pos_label, sample_weight, drop_intermediate)\u001b[0m\n\u001b[1;32m    503\u001b[0m     \"\"\"\n\u001b[1;32m    504\u001b[0m     fps, tps, thresholds = _binary_clf_curve(\n\u001b[0;32m--> 505\u001b[0;31m         y_true, y_score, pos_label=pos_label, sample_weight=sample_weight)\n\u001b[0m\u001b[1;32m    506\u001b[0m \u001b[0;34m\u001b[0m\u001b[0m\n\u001b[1;32m    507\u001b[0m     \u001b[0;31m# Attempt to drop thresholds corresponding to points in between and\u001b[0m\u001b[0;34m\u001b[0m\u001b[0;34m\u001b[0m\u001b[0m\n",
      "\u001b[0;32m/cvmfs/sft.cern.ch/lcg/views/LCG_93/x86_64-slc6-gcc62-opt/lib/python2.7/site-packages/sklearn/metrics/ranking.pyc\u001b[0m in \u001b[0;36m_binary_clf_curve\u001b[0;34m(y_true, y_score, pos_label, sample_weight)\u001b[0m\n\u001b[1;32m    312\u001b[0m              \u001b[0marray_equal\u001b[0m\u001b[0;34m(\u001b[0m\u001b[0mclasses\u001b[0m\u001b[0;34m,\u001b[0m \u001b[0;34m[\u001b[0m\u001b[0;34m-\u001b[0m\u001b[0;36m1\u001b[0m\u001b[0;34m]\u001b[0m\u001b[0;34m)\u001b[0m \u001b[0;32mor\u001b[0m\u001b[0;34m\u001b[0m\u001b[0m\n\u001b[1;32m    313\u001b[0m              array_equal(classes, [1]))):\n\u001b[0;32m--> 314\u001b[0;31m         \u001b[0;32mraise\u001b[0m \u001b[0mValueError\u001b[0m\u001b[0;34m(\u001b[0m\u001b[0;34m\"Data is not binary and pos_label is not specified\"\u001b[0m\u001b[0;34m)\u001b[0m\u001b[0;34m\u001b[0m\u001b[0m\n\u001b[0m\u001b[1;32m    315\u001b[0m     \u001b[0;32melif\u001b[0m \u001b[0mpos_label\u001b[0m \u001b[0;32mis\u001b[0m \u001b[0mNone\u001b[0m\u001b[0;34m:\u001b[0m\u001b[0;34m\u001b[0m\u001b[0m\n\u001b[1;32m    316\u001b[0m         \u001b[0mpos_label\u001b[0m \u001b[0;34m=\u001b[0m \u001b[0;36m1.\u001b[0m\u001b[0;34m\u001b[0m\u001b[0m\n",
      "\u001b[0;31mValueError\u001b[0m: Data is not binary and pos_label is not specified"
     ]
    }
   ],
   "source": [
    "fpr,tpr,thresholds= roc_curve(ytest,y_pred_prob,)\n",
    "plt.plot(fpr,tpr)\n",
    "#plt.xlim([0.0,1.0])\n",
    "#plt.ylim([0.0,1.0])\n",
    "plt.title('ROC Curve for good data clf')\n",
    "plt.xlabel('False Pos Rate (1-Specificity)')\n",
    "plt.ylabel('True Pos Rate(Sensitivity)')\n",
    "plt.grid(True)"
   ]
  },
  {
   "cell_type": "code",
   "execution_count": 51,
   "metadata": {
    "collapsed": true
   },
   "outputs": [],
   "source": [
    "#define a function that accepts a threshold and prints sensitivity and specificity\n",
    "def evalualte_threshold(threshold):\n",
    "    print 'Sensitivity:',tpr[thresholds > threshold][-1]\n",
    "    print 'Specificity:',1- fpr[thresholds > threshold][-1]"
   ]
  },
  {
   "cell_type": "code",
   "execution_count": 52,
   "metadata": {},
   "outputs": [
    {
     "name": "stdout",
     "output_type": "stream",
     "text": [
      "Sensitivity:"
     ]
    },
    {
     "ename": "NameError",
     "evalue": "global name 'tpr' is not defined",
     "output_type": "error",
     "traceback": [
      "\u001b[0;31m\u001b[0m",
      "\u001b[0;31mNameError\u001b[0mTraceback (most recent call last)",
      "\u001b[0;32m<ipython-input-52-35eeb80dac89>\u001b[0m in \u001b[0;36m<module>\u001b[0;34m()\u001b[0m\n\u001b[0;32m----> 1\u001b[0;31m \u001b[0mevalualte_threshold\u001b[0m\u001b[0;34m(\u001b[0m\u001b[0;36m.3\u001b[0m\u001b[0;34m)\u001b[0m\u001b[0;34m\u001b[0m\u001b[0m\n\u001b[0m",
      "\u001b[0;32m<ipython-input-51-f6a1a72e3d75>\u001b[0m in \u001b[0;36mevalualte_threshold\u001b[0;34m(threshold)\u001b[0m\n\u001b[1;32m      1\u001b[0m \u001b[0;31m#define a function that accepts a threshold and prints sensitivity and specificity\u001b[0m\u001b[0;34m\u001b[0m\u001b[0;34m\u001b[0m\u001b[0m\n\u001b[1;32m      2\u001b[0m \u001b[0;32mdef\u001b[0m \u001b[0mevalualte_threshold\u001b[0m\u001b[0;34m(\u001b[0m\u001b[0mthreshold\u001b[0m\u001b[0;34m)\u001b[0m\u001b[0;34m:\u001b[0m\u001b[0;34m\u001b[0m\u001b[0m\n\u001b[0;32m----> 3\u001b[0;31m     \u001b[0;32mprint\u001b[0m \u001b[0;34m'Sensitivity:'\u001b[0m\u001b[0;34m,\u001b[0m\u001b[0mtpr\u001b[0m\u001b[0;34m[\u001b[0m\u001b[0mthresholds\u001b[0m \u001b[0;34m>\u001b[0m \u001b[0mthreshold\u001b[0m\u001b[0;34m]\u001b[0m\u001b[0;34m[\u001b[0m\u001b[0;34m-\u001b[0m\u001b[0;36m1\u001b[0m\u001b[0;34m]\u001b[0m\u001b[0;34m\u001b[0m\u001b[0m\n\u001b[0m\u001b[1;32m      4\u001b[0m     \u001b[0;32mprint\u001b[0m \u001b[0;34m'Specificity:'\u001b[0m\u001b[0;34m,\u001b[0m\u001b[0;36m1\u001b[0m\u001b[0;34m-\u001b[0m \u001b[0mfpr\u001b[0m\u001b[0;34m[\u001b[0m\u001b[0mthresholds\u001b[0m \u001b[0;34m>\u001b[0m \u001b[0mthreshold\u001b[0m\u001b[0;34m]\u001b[0m\u001b[0;34m[\u001b[0m\u001b[0;34m-\u001b[0m\u001b[0;36m1\u001b[0m\u001b[0;34m]\u001b[0m\u001b[0;34m\u001b[0m\u001b[0m\n",
      "\u001b[0;31mNameError\u001b[0m: global name 'tpr' is not defined"
     ]
    }
   ],
   "source": [
    "evalualte_threshold(.3)"
   ]
  },
  {
   "cell_type": "markdown",
   "metadata": {},
   "source": [
    "# AUC is the percentage of the ROC plot that is under the curve"
   ]
  },
  {
   "cell_type": "code",
   "execution_count": 53,
   "metadata": {},
   "outputs": [
    {
     "ename": "NameError",
     "evalue": "name 'metrics' is not defined",
     "output_type": "error",
     "traceback": [
      "\u001b[0;31m\u001b[0m",
      "\u001b[0;31mNameError\u001b[0mTraceback (most recent call last)",
      "\u001b[0;32m<ipython-input-53-849891876a52>\u001b[0m in \u001b[0;36m<module>\u001b[0;34m()\u001b[0m\n\u001b[0;32m----> 1\u001b[0;31m \u001b[0;32mprint\u001b[0m \u001b[0mmetrics\u001b[0m\u001b[0;34m.\u001b[0m\u001b[0mroc_auc_score\u001b[0m\u001b[0;34m(\u001b[0m\u001b[0mytest\u001b[0m\u001b[0;34m,\u001b[0m\u001b[0my_pred_prob\u001b[0m\u001b[0;34m)\u001b[0m\u001b[0;34m\u001b[0m\u001b[0m\n\u001b[0m",
      "\u001b[0;31mNameError\u001b[0m: name 'metrics' is not defined"
     ]
    }
   ],
   "source": [
    "print metrics.roc_auc_score(ytest,y_pred_prob)"
   ]
  },
  {
   "cell_type": "markdown",
   "metadata": {},
   "source": [
    "This is useful as a single number summary of classifier performance"
   ]
  },
  {
   "cell_type": "code",
   "execution_count": 54,
   "metadata": {},
   "outputs": [
    {
     "ename": "ValueError",
     "evalue": "multiclass format is not supported",
     "output_type": "error",
     "traceback": [
      "\u001b[0;31m\u001b[0m",
      "\u001b[0;31mValueError\u001b[0mTraceback (most recent call last)",
      "\u001b[0;32m<ipython-input-54-392a3739c1b4>\u001b[0m in \u001b[0;36m<module>\u001b[0;34m()\u001b[0m\n\u001b[1;32m      1\u001b[0m \u001b[0;31m# Calculate cross validated AUC\u001b[0m\u001b[0;34m\u001b[0m\u001b[0;34m\u001b[0m\u001b[0m\n\u001b[1;32m      2\u001b[0m \u001b[0;32mfrom\u001b[0m \u001b[0msklearn\u001b[0m\u001b[0;34m.\u001b[0m\u001b[0mcross_validation\u001b[0m \u001b[0;32mimport\u001b[0m \u001b[0mcross_val_score\u001b[0m\u001b[0;34m\u001b[0m\u001b[0m\n\u001b[0;32m----> 3\u001b[0;31m \u001b[0mcross_val_score\u001b[0m\u001b[0;34m(\u001b[0m\u001b[0mlogreg\u001b[0m\u001b[0;34m,\u001b[0m\u001b[0mX\u001b[0m\u001b[0;34m,\u001b[0m\u001b[0my\u001b[0m\u001b[0;34m,\u001b[0m\u001b[0mcv\u001b[0m\u001b[0;34m=\u001b[0m\u001b[0;36m10\u001b[0m\u001b[0;34m,\u001b[0m\u001b[0mscoring\u001b[0m\u001b[0;34m=\u001b[0m\u001b[0;34m'roc_auc'\u001b[0m\u001b[0;34m)\u001b[0m\u001b[0;34m.\u001b[0m\u001b[0mmean\u001b[0m\u001b[0;34m(\u001b[0m\u001b[0;34m)\u001b[0m\u001b[0;34m\u001b[0m\u001b[0m\n\u001b[0m",
      "\u001b[0;32m/cvmfs/sft.cern.ch/lcg/views/LCG_93/x86_64-slc6-gcc62-opt/lib/python2.7/site-packages/sklearn/cross_validation.pyc\u001b[0m in \u001b[0;36mcross_val_score\u001b[0;34m(estimator, X, y, scoring, cv, n_jobs, verbose, fit_params, pre_dispatch)\u001b[0m\n\u001b[1;32m   1569\u001b[0m                                               \u001b[0mtrain\u001b[0m\u001b[0;34m,\u001b[0m \u001b[0mtest\u001b[0m\u001b[0;34m,\u001b[0m \u001b[0mverbose\u001b[0m\u001b[0;34m,\u001b[0m \u001b[0mNone\u001b[0m\u001b[0;34m,\u001b[0m\u001b[0;34m\u001b[0m\u001b[0m\n\u001b[1;32m   1570\u001b[0m                                               fit_params)\n\u001b[0;32m-> 1571\u001b[0;31m                       for train, test in cv)\n\u001b[0m\u001b[1;32m   1572\u001b[0m     \u001b[0;32mreturn\u001b[0m \u001b[0mnp\u001b[0m\u001b[0;34m.\u001b[0m\u001b[0marray\u001b[0m\u001b[0;34m(\u001b[0m\u001b[0mscores\u001b[0m\u001b[0;34m)\u001b[0m\u001b[0;34m[\u001b[0m\u001b[0;34m:\u001b[0m\u001b[0;34m,\u001b[0m \u001b[0;36m0\u001b[0m\u001b[0;34m]\u001b[0m\u001b[0;34m\u001b[0m\u001b[0m\n\u001b[1;32m   1573\u001b[0m \u001b[0;34m\u001b[0m\u001b[0m\n",
      "\u001b[0;32m/cvmfs/sft.cern.ch/lcg/views/LCG_93/x86_64-slc6-gcc62-opt/lib/python2.7/site-packages/sklearn/externals/joblib/parallel.pyc\u001b[0m in \u001b[0;36m__call__\u001b[0;34m(self, iterable)\u001b[0m\n\u001b[1;32m    756\u001b[0m             \u001b[0;31m# was dispatched. In particular this covers the edge\u001b[0m\u001b[0;34m\u001b[0m\u001b[0;34m\u001b[0m\u001b[0m\n\u001b[1;32m    757\u001b[0m             \u001b[0;31m# case of Parallel used with an exhausted iterator.\u001b[0m\u001b[0;34m\u001b[0m\u001b[0;34m\u001b[0m\u001b[0m\n\u001b[0;32m--> 758\u001b[0;31m             \u001b[0;32mwhile\u001b[0m \u001b[0mself\u001b[0m\u001b[0;34m.\u001b[0m\u001b[0mdispatch_one_batch\u001b[0m\u001b[0;34m(\u001b[0m\u001b[0miterator\u001b[0m\u001b[0;34m)\u001b[0m\u001b[0;34m:\u001b[0m\u001b[0;34m\u001b[0m\u001b[0m\n\u001b[0m\u001b[1;32m    759\u001b[0m                 \u001b[0mself\u001b[0m\u001b[0;34m.\u001b[0m\u001b[0m_iterating\u001b[0m \u001b[0;34m=\u001b[0m \u001b[0mTrue\u001b[0m\u001b[0;34m\u001b[0m\u001b[0m\n\u001b[1;32m    760\u001b[0m             \u001b[0;32melse\u001b[0m\u001b[0;34m:\u001b[0m\u001b[0;34m\u001b[0m\u001b[0m\n",
      "\u001b[0;32m/cvmfs/sft.cern.ch/lcg/views/LCG_93/x86_64-slc6-gcc62-opt/lib/python2.7/site-packages/sklearn/externals/joblib/parallel.pyc\u001b[0m in \u001b[0;36mdispatch_one_batch\u001b[0;34m(self, iterator)\u001b[0m\n\u001b[1;32m    606\u001b[0m                 \u001b[0;32mreturn\u001b[0m \u001b[0mFalse\u001b[0m\u001b[0;34m\u001b[0m\u001b[0m\n\u001b[1;32m    607\u001b[0m             \u001b[0;32melse\u001b[0m\u001b[0;34m:\u001b[0m\u001b[0;34m\u001b[0m\u001b[0m\n\u001b[0;32m--> 608\u001b[0;31m                 \u001b[0mself\u001b[0m\u001b[0;34m.\u001b[0m\u001b[0m_dispatch\u001b[0m\u001b[0;34m(\u001b[0m\u001b[0mtasks\u001b[0m\u001b[0;34m)\u001b[0m\u001b[0;34m\u001b[0m\u001b[0m\n\u001b[0m\u001b[1;32m    609\u001b[0m                 \u001b[0;32mreturn\u001b[0m \u001b[0mTrue\u001b[0m\u001b[0;34m\u001b[0m\u001b[0m\n\u001b[1;32m    610\u001b[0m \u001b[0;34m\u001b[0m\u001b[0m\n",
      "\u001b[0;32m/cvmfs/sft.cern.ch/lcg/views/LCG_93/x86_64-slc6-gcc62-opt/lib/python2.7/site-packages/sklearn/externals/joblib/parallel.pyc\u001b[0m in \u001b[0;36m_dispatch\u001b[0;34m(self, batch)\u001b[0m\n\u001b[1;32m    569\u001b[0m         \u001b[0mdispatch_timestamp\u001b[0m \u001b[0;34m=\u001b[0m \u001b[0mtime\u001b[0m\u001b[0;34m.\u001b[0m\u001b[0mtime\u001b[0m\u001b[0;34m(\u001b[0m\u001b[0;34m)\u001b[0m\u001b[0;34m\u001b[0m\u001b[0m\n\u001b[1;32m    570\u001b[0m         \u001b[0mcb\u001b[0m \u001b[0;34m=\u001b[0m \u001b[0mBatchCompletionCallBack\u001b[0m\u001b[0;34m(\u001b[0m\u001b[0mdispatch_timestamp\u001b[0m\u001b[0;34m,\u001b[0m \u001b[0mlen\u001b[0m\u001b[0;34m(\u001b[0m\u001b[0mbatch\u001b[0m\u001b[0;34m)\u001b[0m\u001b[0;34m,\u001b[0m \u001b[0mself\u001b[0m\u001b[0;34m)\u001b[0m\u001b[0;34m\u001b[0m\u001b[0m\n\u001b[0;32m--> 571\u001b[0;31m         \u001b[0mjob\u001b[0m \u001b[0;34m=\u001b[0m \u001b[0mself\u001b[0m\u001b[0;34m.\u001b[0m\u001b[0m_backend\u001b[0m\u001b[0;34m.\u001b[0m\u001b[0mapply_async\u001b[0m\u001b[0;34m(\u001b[0m\u001b[0mbatch\u001b[0m\u001b[0;34m,\u001b[0m \u001b[0mcallback\u001b[0m\u001b[0;34m=\u001b[0m\u001b[0mcb\u001b[0m\u001b[0;34m)\u001b[0m\u001b[0;34m\u001b[0m\u001b[0m\n\u001b[0m\u001b[1;32m    572\u001b[0m         \u001b[0mself\u001b[0m\u001b[0;34m.\u001b[0m\u001b[0m_jobs\u001b[0m\u001b[0;34m.\u001b[0m\u001b[0mappend\u001b[0m\u001b[0;34m(\u001b[0m\u001b[0mjob\u001b[0m\u001b[0;34m)\u001b[0m\u001b[0;34m\u001b[0m\u001b[0m\n\u001b[1;32m    573\u001b[0m \u001b[0;34m\u001b[0m\u001b[0m\n",
      "\u001b[0;32m/cvmfs/sft.cern.ch/lcg/views/LCG_93/x86_64-slc6-gcc62-opt/lib/python2.7/site-packages/sklearn/externals/joblib/_parallel_backends.pyc\u001b[0m in \u001b[0;36mapply_async\u001b[0;34m(self, func, callback)\u001b[0m\n\u001b[1;32m    107\u001b[0m     \u001b[0;32mdef\u001b[0m \u001b[0mapply_async\u001b[0m\u001b[0;34m(\u001b[0m\u001b[0mself\u001b[0m\u001b[0;34m,\u001b[0m \u001b[0mfunc\u001b[0m\u001b[0;34m,\u001b[0m \u001b[0mcallback\u001b[0m\u001b[0;34m=\u001b[0m\u001b[0mNone\u001b[0m\u001b[0;34m)\u001b[0m\u001b[0;34m:\u001b[0m\u001b[0;34m\u001b[0m\u001b[0m\n\u001b[1;32m    108\u001b[0m         \u001b[0;34m\"\"\"Schedule a func to be run\"\"\"\u001b[0m\u001b[0;34m\u001b[0m\u001b[0m\n\u001b[0;32m--> 109\u001b[0;31m         \u001b[0mresult\u001b[0m \u001b[0;34m=\u001b[0m \u001b[0mImmediateResult\u001b[0m\u001b[0;34m(\u001b[0m\u001b[0mfunc\u001b[0m\u001b[0;34m)\u001b[0m\u001b[0;34m\u001b[0m\u001b[0m\n\u001b[0m\u001b[1;32m    110\u001b[0m         \u001b[0;32mif\u001b[0m \u001b[0mcallback\u001b[0m\u001b[0;34m:\u001b[0m\u001b[0;34m\u001b[0m\u001b[0m\n\u001b[1;32m    111\u001b[0m             \u001b[0mcallback\u001b[0m\u001b[0;34m(\u001b[0m\u001b[0mresult\u001b[0m\u001b[0;34m)\u001b[0m\u001b[0;34m\u001b[0m\u001b[0m\n",
      "\u001b[0;32m/cvmfs/sft.cern.ch/lcg/views/LCG_93/x86_64-slc6-gcc62-opt/lib/python2.7/site-packages/sklearn/externals/joblib/_parallel_backends.pyc\u001b[0m in \u001b[0;36m__init__\u001b[0;34m(self, batch)\u001b[0m\n\u001b[1;32m    324\u001b[0m         \u001b[0;31m# Don't delay the application, to avoid keeping the input\u001b[0m\u001b[0;34m\u001b[0m\u001b[0;34m\u001b[0m\u001b[0m\n\u001b[1;32m    325\u001b[0m         \u001b[0;31m# arguments in memory\u001b[0m\u001b[0;34m\u001b[0m\u001b[0;34m\u001b[0m\u001b[0m\n\u001b[0;32m--> 326\u001b[0;31m         \u001b[0mself\u001b[0m\u001b[0;34m.\u001b[0m\u001b[0mresults\u001b[0m \u001b[0;34m=\u001b[0m \u001b[0mbatch\u001b[0m\u001b[0;34m(\u001b[0m\u001b[0;34m)\u001b[0m\u001b[0;34m\u001b[0m\u001b[0m\n\u001b[0m\u001b[1;32m    327\u001b[0m \u001b[0;34m\u001b[0m\u001b[0m\n\u001b[1;32m    328\u001b[0m     \u001b[0;32mdef\u001b[0m \u001b[0mget\u001b[0m\u001b[0;34m(\u001b[0m\u001b[0mself\u001b[0m\u001b[0;34m)\u001b[0m\u001b[0;34m:\u001b[0m\u001b[0;34m\u001b[0m\u001b[0m\n",
      "\u001b[0;32m/cvmfs/sft.cern.ch/lcg/views/LCG_93/x86_64-slc6-gcc62-opt/lib/python2.7/site-packages/sklearn/externals/joblib/parallel.pyc\u001b[0m in \u001b[0;36m__call__\u001b[0;34m(self)\u001b[0m\n\u001b[1;32m    129\u001b[0m \u001b[0;34m\u001b[0m\u001b[0m\n\u001b[1;32m    130\u001b[0m     \u001b[0;32mdef\u001b[0m \u001b[0m__call__\u001b[0m\u001b[0;34m(\u001b[0m\u001b[0mself\u001b[0m\u001b[0;34m)\u001b[0m\u001b[0;34m:\u001b[0m\u001b[0;34m\u001b[0m\u001b[0m\n\u001b[0;32m--> 131\u001b[0;31m         \u001b[0;32mreturn\u001b[0m \u001b[0;34m[\u001b[0m\u001b[0mfunc\u001b[0m\u001b[0;34m(\u001b[0m\u001b[0;34m*\u001b[0m\u001b[0margs\u001b[0m\u001b[0;34m,\u001b[0m \u001b[0;34m**\u001b[0m\u001b[0mkwargs\u001b[0m\u001b[0;34m)\u001b[0m \u001b[0;32mfor\u001b[0m \u001b[0mfunc\u001b[0m\u001b[0;34m,\u001b[0m \u001b[0margs\u001b[0m\u001b[0;34m,\u001b[0m \u001b[0mkwargs\u001b[0m \u001b[0;32min\u001b[0m \u001b[0mself\u001b[0m\u001b[0;34m.\u001b[0m\u001b[0mitems\u001b[0m\u001b[0;34m]\u001b[0m\u001b[0;34m\u001b[0m\u001b[0m\n\u001b[0m\u001b[1;32m    132\u001b[0m \u001b[0;34m\u001b[0m\u001b[0m\n\u001b[1;32m    133\u001b[0m     \u001b[0;32mdef\u001b[0m \u001b[0m__len__\u001b[0m\u001b[0;34m(\u001b[0m\u001b[0mself\u001b[0m\u001b[0;34m)\u001b[0m\u001b[0;34m:\u001b[0m\u001b[0;34m\u001b[0m\u001b[0m\n",
      "\u001b[0;32m/cvmfs/sft.cern.ch/lcg/views/LCG_93/x86_64-slc6-gcc62-opt/lib/python2.7/site-packages/sklearn/cross_validation.pyc\u001b[0m in \u001b[0;36m_fit_and_score\u001b[0;34m(estimator, X, y, scorer, train, test, verbose, parameters, fit_params, return_train_score, return_parameters, error_score)\u001b[0m\n\u001b[1;32m   1682\u001b[0m \u001b[0;34m\u001b[0m\u001b[0m\n\u001b[1;32m   1683\u001b[0m     \u001b[0;32melse\u001b[0m\u001b[0;34m:\u001b[0m\u001b[0;34m\u001b[0m\u001b[0m\n\u001b[0;32m-> 1684\u001b[0;31m         \u001b[0mtest_score\u001b[0m \u001b[0;34m=\u001b[0m \u001b[0m_score\u001b[0m\u001b[0;34m(\u001b[0m\u001b[0mestimator\u001b[0m\u001b[0;34m,\u001b[0m \u001b[0mX_test\u001b[0m\u001b[0;34m,\u001b[0m \u001b[0my_test\u001b[0m\u001b[0;34m,\u001b[0m \u001b[0mscorer\u001b[0m\u001b[0;34m)\u001b[0m\u001b[0;34m\u001b[0m\u001b[0m\n\u001b[0m\u001b[1;32m   1685\u001b[0m         \u001b[0;32mif\u001b[0m \u001b[0mreturn_train_score\u001b[0m\u001b[0;34m:\u001b[0m\u001b[0;34m\u001b[0m\u001b[0m\n\u001b[1;32m   1686\u001b[0m             \u001b[0mtrain_score\u001b[0m \u001b[0;34m=\u001b[0m \u001b[0m_score\u001b[0m\u001b[0;34m(\u001b[0m\u001b[0mestimator\u001b[0m\u001b[0;34m,\u001b[0m \u001b[0mX_train\u001b[0m\u001b[0;34m,\u001b[0m \u001b[0my_train\u001b[0m\u001b[0;34m,\u001b[0m \u001b[0mscorer\u001b[0m\u001b[0;34m)\u001b[0m\u001b[0;34m\u001b[0m\u001b[0m\n",
      "\u001b[0;32m/cvmfs/sft.cern.ch/lcg/views/LCG_93/x86_64-slc6-gcc62-opt/lib/python2.7/site-packages/sklearn/cross_validation.pyc\u001b[0m in \u001b[0;36m_score\u001b[0;34m(estimator, X_test, y_test, scorer)\u001b[0m\n\u001b[1;32m   1739\u001b[0m         \u001b[0mscore\u001b[0m \u001b[0;34m=\u001b[0m \u001b[0mscorer\u001b[0m\u001b[0;34m(\u001b[0m\u001b[0mestimator\u001b[0m\u001b[0;34m,\u001b[0m \u001b[0mX_test\u001b[0m\u001b[0;34m)\u001b[0m\u001b[0;34m\u001b[0m\u001b[0m\n\u001b[1;32m   1740\u001b[0m     \u001b[0;32melse\u001b[0m\u001b[0;34m:\u001b[0m\u001b[0;34m\u001b[0m\u001b[0m\n\u001b[0;32m-> 1741\u001b[0;31m         \u001b[0mscore\u001b[0m \u001b[0;34m=\u001b[0m \u001b[0mscorer\u001b[0m\u001b[0;34m(\u001b[0m\u001b[0mestimator\u001b[0m\u001b[0;34m,\u001b[0m \u001b[0mX_test\u001b[0m\u001b[0;34m,\u001b[0m \u001b[0my_test\u001b[0m\u001b[0;34m)\u001b[0m\u001b[0;34m\u001b[0m\u001b[0m\n\u001b[0m\u001b[1;32m   1742\u001b[0m     \u001b[0;32mif\u001b[0m \u001b[0mhasattr\u001b[0m\u001b[0;34m(\u001b[0m\u001b[0mscore\u001b[0m\u001b[0;34m,\u001b[0m \u001b[0;34m'item'\u001b[0m\u001b[0;34m)\u001b[0m\u001b[0;34m:\u001b[0m\u001b[0;34m\u001b[0m\u001b[0m\n\u001b[1;32m   1743\u001b[0m         \u001b[0;32mtry\u001b[0m\u001b[0;34m:\u001b[0m\u001b[0;34m\u001b[0m\u001b[0m\n",
      "\u001b[0;32m/cvmfs/sft.cern.ch/lcg/views/LCG_93/x86_64-slc6-gcc62-opt/lib/python2.7/site-packages/sklearn/metrics/scorer.pyc\u001b[0m in \u001b[0;36m__call__\u001b[0;34m(self, clf, X, y, sample_weight)\u001b[0m\n\u001b[1;32m    169\u001b[0m         \u001b[0my_type\u001b[0m \u001b[0;34m=\u001b[0m \u001b[0mtype_of_target\u001b[0m\u001b[0;34m(\u001b[0m\u001b[0my\u001b[0m\u001b[0;34m)\u001b[0m\u001b[0;34m\u001b[0m\u001b[0m\n\u001b[1;32m    170\u001b[0m         \u001b[0;32mif\u001b[0m \u001b[0my_type\u001b[0m \u001b[0;32mnot\u001b[0m \u001b[0;32min\u001b[0m \u001b[0;34m(\u001b[0m\u001b[0;34m\"binary\"\u001b[0m\u001b[0;34m,\u001b[0m \u001b[0;34m\"multilabel-indicator\"\u001b[0m\u001b[0;34m)\u001b[0m\u001b[0;34m:\u001b[0m\u001b[0;34m\u001b[0m\u001b[0m\n\u001b[0;32m--> 171\u001b[0;31m             \u001b[0;32mraise\u001b[0m \u001b[0mValueError\u001b[0m\u001b[0;34m(\u001b[0m\u001b[0;34m\"{0} format is not supported\"\u001b[0m\u001b[0;34m.\u001b[0m\u001b[0mformat\u001b[0m\u001b[0;34m(\u001b[0m\u001b[0my_type\u001b[0m\u001b[0;34m)\u001b[0m\u001b[0;34m)\u001b[0m\u001b[0;34m\u001b[0m\u001b[0m\n\u001b[0m\u001b[1;32m    172\u001b[0m \u001b[0;34m\u001b[0m\u001b[0m\n\u001b[1;32m    173\u001b[0m         \u001b[0;32mif\u001b[0m \u001b[0mis_regressor\u001b[0m\u001b[0;34m(\u001b[0m\u001b[0mclf\u001b[0m\u001b[0;34m)\u001b[0m\u001b[0;34m:\u001b[0m\u001b[0;34m\u001b[0m\u001b[0m\n",
      "\u001b[0;31mValueError\u001b[0m: multiclass format is not supported"
     ]
    }
   ],
   "source": [
    "# Calculate cross validated AUC\n",
    "from sklearn.cross_validation import cross_val_score\n",
    "cross_val_score(logreg,X,y,cv=10,scoring='roc_auc').mean()"
   ]
  },
  {
   "cell_type": "code",
   "execution_count": null,
   "metadata": {
    "collapsed": true
   },
   "outputs": [],
   "source": []
  }
 ],
 "metadata": {
  "kernelspec": {
   "display_name": "Python 2",
   "language": "python",
   "name": "python2"
  },
  "language_info": {
   "codemirror_mode": {
    "name": "ipython",
    "version": 2
   },
   "file_extension": ".py",
   "mimetype": "text/x-python",
   "name": "python",
   "nbconvert_exporter": "python",
   "pygments_lexer": "ipython2",
   "version": "2.7.13"
  }
 },
 "nbformat": 4,
 "nbformat_minor": 2
}
