{
 "cells": [
  {
   "cell_type": "code",
   "execution_count": 464,
   "metadata": {
    "collapsed": true
   },
   "outputs": [],
   "source": [
    "#Loading an example dataset\n",
    "import numpy as np\n",
    "from sklearn import datasets\n",
    "iris = datasets.load_iris()\n",
    "digits = datasets.load_digits()"
   ]
  },
  {
   "cell_type": "markdown",
   "metadata": {},
   "source": [
    "#learning\n",
    "from sklearn import svm\n",
    "clf = svm.SVC(gamma=0.001, C=100.)\n",
    "\n",
    "clf.fit(digits.data[:-1], digits.target[:-1])\n",
    "\n",
    "#predicting\n",
    "\n",
    "clf.predict(digits.data[-1:])"
   ]
  },
  {
   "cell_type": "code",
   "execution_count": 465,
   "metadata": {},
   "outputs": [
    {
     "data": {
      "text/plain": [
       "SVC(C=1.0, cache_size=200, class_weight=None, coef0=0.0,\n",
       "  decision_function_shape=None, degree=3, gamma='auto', kernel='rbf',\n",
       "  max_iter=-1, probability=False, random_state=None, shrinking=True,\n",
       "  tol=0.001, verbose=False)"
      ]
     },
     "execution_count": 465,
     "metadata": {},
     "output_type": "execute_result"
    }
   ],
   "source": [
    "#In a different example Model persistance\n",
    "\n",
    "from sklearn import svm\n",
    "from sklearn import datasets\n",
    "#define our classifier\n",
    "clf = svm.SVC()\n",
    "\n",
    "#load a sample dataset in this case the iris data set\n",
    "iris = datasets.load_iris()\n",
    "\n",
    "#X will be the data and y will be the ground truth to which we are comparing\n",
    "X, y = iris.data, iris.target\n",
    "\n",
    "#now the classifier will learn how to relate X and y\n",
    "clf.fit(X, y)  "
   ]
  },
  {
   "cell_type": "code",
   "execution_count": 466,
   "metadata": {},
   "outputs": [
    {
     "name": "stdout",
     "output_type": "stream",
     "text": [
      "[0 0 0 0 0 0 0 0 0 0 0 0 0 0 0 0 0 0 0 0 0 0 0 0 0 0 0 0 0 0 0 0 0 0 0 0 0\n",
      " 0 0 0 0 0 0 0 0 0 0 0 0 0 1 1 1 1 1 1 1 1 1 1 1 1 1 1 1 1 1 1 1 1 1 1 1 1\n",
      " 1 1 1 2 1 1 1 1 1 2 1 1 1 1 1 1 1 1 1 1 1 1 1 1 1 1 2 2 2 2 2 2 2 2 2 2 2\n",
      " 2 2 2 2 2 2 2 2 2 2 2 2 2 2 2 2 2 2 2 2 2 2 2 2 2 2 2 2 2 2 2 2 2 2 2 2 2\n",
      " 2 2]\n",
      "SVC(C=1.0, cache_size=200, class_weight=None, coef0=0.0,\n",
      "  decision_function_shape=None, degree=3, gamma='auto', kernel='rbf',\n",
      "  max_iter=-1, probability=False, random_state=None, shrinking=True,\n",
      "  tol=0.001, verbose=False)\n"
     ]
    },
    {
     "data": {
      "text/plain": [
       "True"
      ]
     },
     "execution_count": 466,
     "metadata": {},
     "output_type": "execute_result"
    }
   ],
   "source": [
    "#we use pickle to turn the data into something that Python can read\n",
    "#to do that we need to import pickle, dump the classifier, and then load it\n",
    "\n",
    "import pickle\n",
    "s = pickle.dumps(clf)\n",
    "\n",
    "\n",
    "#load the clf data to a new classifier\n",
    "clf2 = pickle.loads(s)\n",
    "\n",
    "\n",
    "#test the classifier\n",
    "print clf2.predict(X)\n",
    "\n",
    "print clf\n",
    "#to check if they are the same\n",
    "\n",
    "np.all(clf.predict(X)==clf2.predict(X))\n"
   ]
  },
  {
   "cell_type": "code",
   "execution_count": 467,
   "metadata": {},
   "outputs": [
    {
     "data": {
      "text/plain": [
       "['testofjoblib.pkl']"
      ]
     },
     "execution_count": 467,
     "metadata": {},
     "output_type": "execute_result"
    }
   ],
   "source": [
    "#In the specific case of the scikit, it may be more interesting to use \n",
    "#joblib’s replacement of pickle (joblib.dump & joblib.load), which is\n",
    "#more efficient on big data, but can only pickle \n",
    "#to the disk and not to a string:\n",
    "from sklearn.externals import joblib\n",
    "joblib.dump(clf, 'testofjoblib.pkl') "
   ]
  },
  {
   "cell_type": "code",
   "execution_count": 468,
   "metadata": {
    "collapsed": true
   },
   "outputs": [],
   "source": [
    "#now we want to load the data to creat your classifier\n",
    "clf2 = joblib.load('testofjoblib.pkl') "
   ]
  },
  {
   "cell_type": "markdown",
   "metadata": {},
   "source": [
    "#train and test the clf\n",
    "clf.fit(iris.data,iris.target)\n",
    "clf.predict(X)"
   ]
  },
  {
   "cell_type": "code",
   "execution_count": 469,
   "metadata": {},
   "outputs": [
    {
     "data": {
      "text/plain": [
       "SVC(C=1.0, cache_size=200, class_weight=None, coef0=0.0,\n",
       "  decision_function_shape=None, degree=3, gamma='auto', kernel='rbf',\n",
       "  max_iter=-1, probability=False, random_state=None, shrinking=True,\n",
       "  tol=0.001, verbose=False)"
      ]
     },
     "execution_count": 469,
     "metadata": {},
     "output_type": "execute_result"
    }
   ],
   "source": [
    "clf2.fit(X,y)"
   ]
  },
  {
   "cell_type": "code",
   "execution_count": 470,
   "metadata": {
    "collapsed": true
   },
   "outputs": [],
   "source": [
    "from sklearn.cross_validation import train_test_split,cross_val_predict,cross_val_score\n",
    "from sklearn import metrics"
   ]
  },
  {
   "cell_type": "code",
   "execution_count": 471,
   "metadata": {},
   "outputs": [
    {
     "data": {
      "text/plain": [
       "(112, 4)"
      ]
     },
     "execution_count": 471,
     "metadata": {},
     "output_type": "execute_result"
    }
   ],
   "source": [
    "Xtrain,Xtest,ytrain,ytest=train_test_split(X,y,random_state=42)\n",
    "Xtrain.shape\n"
   ]
  },
  {
   "cell_type": "code",
   "execution_count": 472,
   "metadata": {},
   "outputs": [
    {
     "data": {
      "text/plain": [
       "(112,)"
      ]
     },
     "execution_count": 472,
     "metadata": {},
     "output_type": "execute_result"
    }
   ],
   "source": [
    "ytrain.shape"
   ]
  },
  {
   "cell_type": "code",
   "execution_count": 473,
   "metadata": {},
   "outputs": [
    {
     "data": {
      "text/plain": [
       "SVC(C=1.0, cache_size=200, class_weight=None, coef0=0.0,\n",
       "  decision_function_shape=None, degree=3, gamma='auto', kernel='rbf',\n",
       "  max_iter=-1, probability=False, random_state=None, shrinking=True,\n",
       "  tol=0.001, verbose=False)"
      ]
     },
     "execution_count": 473,
     "metadata": {},
     "output_type": "execute_result"
    }
   ],
   "source": [
    "clf2.fit(Xtrain,ytrain)"
   ]
  },
  {
   "cell_type": "code",
   "execution_count": 474,
   "metadata": {
    "collapsed": true
   },
   "outputs": [],
   "source": [
    "pred=clf2.predict(Xtrain)"
   ]
  },
  {
   "cell_type": "code",
   "execution_count": 475,
   "metadata": {},
   "outputs": [
    {
     "name": "stdout",
     "output_type": "stream",
     "text": [
      "0.991071428571\n"
     ]
    }
   ],
   "source": [
    "print metrics.accuracy_score(ytrain,pred)"
   ]
  },
  {
   "cell_type": "code",
   "execution_count": 476,
   "metadata": {},
   "outputs": [
    {
     "name": "stdout",
     "output_type": "stream",
     "text": [
      "[[35  0  0]\n",
      " [ 0 38  1]\n",
      " [ 0  0 38]]\n"
     ]
    }
   ],
   "source": [
    "print metrics.confusion_matrix(ytrain,pred)"
   ]
  },
  {
   "cell_type": "code",
   "execution_count": 477,
   "metadata": {
    "collapsed": true
   },
   "outputs": [],
   "source": [
    "pred =clf2.predict(Xtest)"
   ]
  },
  {
   "cell_type": "code",
   "execution_count": 478,
   "metadata": {},
   "outputs": [
    {
     "name": "stdout",
     "output_type": "stream",
     "text": [
      "1.0\n",
      "[[15  0  0]\n",
      " [ 0 11  0]\n",
      " [ 0  0 12]]\n"
     ]
    }
   ],
   "source": [
    "print metrics.accuracy_score(ytest,pred)\n",
    "print metrics.confusion_matrix(ytest,pred)"
   ]
  },
  {
   "cell_type": "markdown",
   "metadata": {
    "collapsed": true
   },
   "source": [
    "# I want to check if I can load  the occupancy maps with SKlearn"
   ]
  },
  {
   "cell_type": "code",
   "execution_count": 34,
   "metadata": {
    "collapsed": true
   },
   "outputs": [],
   "source": [
    "import tensorflow as tf\n",
    "#import utils as utils\n",
    "import h5py\n",
    "import matplotlib.cm as cm\n",
    "import matplotlib.pyplot as plt\n",
    "import os\n",
    "import numpy as np\n",
    "import sklearn"
   ]
  },
  {
   "cell_type": "code",
   "execution_count": 35,
   "metadata": {},
   "outputs": [
    {
     "name": "stdout",
     "output_type": "stream",
     "text": [
      "(999, 72, 84)\n"
     ]
    }
   ],
   "source": [
    "data_folder = '../ML4DQM/data'\n",
    "file_name = 'HCAL_digi+rechit_occ.hdf5'\n",
    "group = 'DigiTask_Occupancy_depth_depth1'\n",
    "\n",
    "input_file=h5py.File(data_folder+\"/\"+file_name,'r+')\n",
    "\n",
    "data_sample= np.array(input_file[group])\n",
    "datasampleshape=data_sample.shape\n",
    "print datasampleshape"
   ]
  },
  {
   "cell_type": "markdown",
   "metadata": {},
   "source": [
    "Make a column in every image a 1 or True ( this will represent it's label)"
   ]
  },
  {
   "cell_type": "code",
   "execution_count": 130,
   "metadata": {
    "collapsed": true
   },
   "outputs": [],
   "source": [
    "def killregion(image,xdim,ydim):  \n",
    "    tempX=image.copy()\n",
    "    x1=np.min(xdim)\n",
    "    x2=np.max(xdim)\n",
    "    y1=np.min(ydim)\n",
    "    y2=np.max(ydim)\n",
    "    if x1==x2 | y1==y2:\n",
    "        print \"error, no change is made on image\"\n",
    "    #if tempX.ndim ==3:\n",
    "    #    \n",
    "    #    for k in range(tempX.shape[0]):\n",
    "    #        \n",
    "    #        for i in range(x1,x2):\n",
    "    #            \n",
    "    #            for j in range(y1,y2):\n",
    "    #                \n",
    "    #                tempX[k,j,i]=0\n",
    "    #\n",
    "    #else:\n",
    "        \n",
    "    for i in range(x1,x2):\n",
    "            \n",
    "        for j in range(y1,y2):\n",
    "                \n",
    "            tempX[j,i]=0\n",
    "                \n",
    "    return tempX\n",
    "\n",
    "\n",
    "#help (np.zeros)\n",
    "def hotregion(image,xdim,ydim):  \n",
    "    tempX=image.copy()\n",
    "    x1=np.min(xdim)\n",
    "    x2=np.max(xdim)\n",
    "    y1=np.min(ydim)\n",
    "    y2=np.max(ydim)\n",
    "    if x1==x2 | y1==y2:\n",
    "        print \"error, no change is made on image\"\n",
    "   # if tempX.ndim ==3:\n",
    "   #     \n",
    "   #     for k in range(tempX.shape[0]):\n",
    "   #         \n",
    "   #         for i in range(x1,x2):\n",
    "   #             \n",
    "   #             for j in range(y1,y2):\n",
    "   #                 \n",
    "   #                 tempX[k,j,i]=np.max(image)\n",
    "   # else:\n",
    "        \n",
    "    for i in range(x1,x2):\n",
    "            \n",
    "        for j in range(y1,y2):\n",
    "                \n",
    "            tempX[j,i]=np.max(image)\n",
    "                \n",
    "    return tempX\n",
    "\n",
    "def randomregion(image,xdim,ydim):\n",
    "    \n",
    "    \n",
    "    tempX=image.copy()\n",
    "    x1=np.min(xdim)\n",
    "    x2=np.max(xdim)\n",
    "    y1=np.min(ydim)\n",
    "    y2=np.max(ydim)\n",
    "    if x1==x2 | y1==y2:\n",
    "        print \"error, no change is made on image\"\n",
    "    #print \"x1,x2,y1,y2\",x1,x2,y1,y2\n",
    "    random_noise_region=np.random.randint(np.max(image), size=( abs(x2-x1), abs(y2-y1) ) )   \n",
    "    #print \"random_noise_region.shape\",random_noise_region.shape\n",
    "    \n",
    "\n",
    "  #  if tempX.ndim == 3:\n",
    "  #      \n",
    "  #      for k in range(tempX.shape[0]):\n",
    "  #          \n",
    "  #          for i in range(x1,x2):\n",
    "  #              \n",
    "  #              for j in range(y1,y2):\n",
    "  #                  te = i-x1\n",
    "  #                  te2= j-y1\n",
    "  #                  tempX[k,j,i]=random_noise_region[te,te2]\n",
    "  #  \n",
    "  #  else:\n",
    "  #      \n",
    "    for i in range(x1,x2):\n",
    "            \n",
    "        for j in range(y1,y2):\n",
    "            te = i-x1\n",
    "            te2= j-y1\n",
    "            tempX[j,i]=random_noise_region[te,te2]\n",
    "                \n",
    "    return tempX"
   ]
  },
  {
   "cell_type": "raw",
   "metadata": {},
   "source": [
    "input_image=data_sample[4]\n",
    "xdim=(np.random.randint(datasampleshape[2]),np.random.randint(datasampleshape[2]))\n",
    "ydim=(np.random.randint(datasampleshape[1]),np.random.randint(datasampleshape[1]))\n",
    "#xdim=(35,25)\n",
    "#ydim=(25,45)\n",
    "print \"xdim,ydim\",xdim,ydim\n",
    "\n",
    "deadregion_image=killregion(input_image,xdim,ydim)\n",
    "\n",
    "hotregion_image= hotregion(input_image,xdim,ydim)\n",
    "\n",
    "random_image= randomregion(input_image,xdim,ydim)\n",
    "\n",
    "print \"Shape of image is: \" ,random_noise_region.shape\n",
    "#print 'input image is \\n '\n",
    "#print deadregion_image\n",
    "im=plt.imshow(random_image,cmap=cm.coolwarm)\n",
    "plt.show()\n",
    "plt.clf()\n",
    "\n",
    "im=plt.imshow(hotregion_image,cmap=cm.coolwarm)\n",
    "plt.show()\n",
    "plt.clf()#plt.clf clears the figure and it's axis but leaves the window open. \n",
    "         #as opposed to plt.close which closes the window. If you are showing many images at a time without\n",
    "         #closing the window it is better.\n",
    "im=plt.imshow(deadregion_image,cmap=cm.coolwarm)\n",
    "plt.show()\n",
    "plt.clf()\n",
    "#input_image=np.reshape(input_image,(input_image.shape[0],input_image.shape[1]))\n",
    "\n"
   ]
  },
  {
   "cell_type": "code",
   "execution_count": 389,
   "metadata": {
    "scrolled": true
   },
   "outputs": [
    {
     "name": "stdout",
     "output_type": "stream",
     "text": [
      "xdim,ydim: (3, 8) (61, 66)\n",
      "0\n",
      "xdim,ydim: (19, 24) (47, 52)\n",
      "1\n",
      "xdim,ydim: (17, 22) (34, 39)\n",
      "2\n",
      "xdim,ydim: (4, 9) (41, 46)\n",
      "3\n",
      "xdim,ydim: (66, 71) (20, 25)\n",
      "4\n",
      "xdim,ydim: (2, 7) (58, 63)\n",
      "5\n",
      "xdim,ydim: (33, 38) (28, 33)\n",
      "6\n",
      "xdim,ydim: (32, 37) (4, 9)\n",
      "7\n",
      "xdim,ydim: (13, 18) (3, 8)\n",
      "8\n",
      "xdim,ydim: (40, 45) (54, 59)\n",
      "9\n",
      "xdim,ydim: (22, 27) (32, 37)\n",
      "10\n",
      "xdim,ydim: (34, 39) (9, 14)\n",
      "11\n",
      "xdim,ydim: (68, 73) (1, 6)\n",
      "12\n",
      "xdim,ydim: (29, 34) (4, 9)\n",
      "13\n",
      "xdim,ydim: (31, 36) (8, 13)\n",
      "14\n",
      "xdim,ydim: (13, 18) (9, 14)\n",
      "15\n",
      "xdim,ydim: (44, 49) (40, 45)\n",
      "16\n",
      "xdim,ydim: (63, 68) (11, 16)\n",
      "17\n",
      "xdim,ydim: (23, 28) (30, 35)\n",
      "18\n",
      "xdim,ydim: (8, 13) (30, 35)\n",
      "19\n",
      "xdim,ydim: (49, 54) (14, 19)\n",
      "20\n",
      "xdim,ydim: (10, 15) (60, 65)\n",
      "21\n",
      "xdim,ydim: (4, 9) (29, 34)\n",
      "22\n",
      "xdim,ydim: (49, 54) (49, 54)\n",
      "23\n",
      "xdim,ydim: (53, 58) (56, 61)\n",
      "24\n",
      "xdim,ydim: (32, 37) (63, 68)\n",
      "25\n",
      "xdim,ydim: (20, 25) (2, 7)\n",
      "26\n",
      "xdim,ydim: (19, 24) (9, 14)\n",
      "27\n",
      "xdim,ydim: (42, 47) (19, 24)\n",
      "28\n",
      "xdim,ydim: (11, 16) (37, 42)\n",
      "29\n",
      "xdim,ydim: (36, 41) (62, 67)\n",
      "30\n",
      "xdim,ydim: (12, 17) (65, 70)\n",
      "31\n",
      "xdim,ydim: (38, 43) (11, 16)\n",
      "32\n",
      "xdim,ydim: (64, 69) (9, 14)\n",
      "33\n",
      "xdim,ydim: (63, 68) (26, 31)\n",
      "34\n",
      "xdim,ydim: (33, 38) (17, 22)\n",
      "35\n",
      "xdim,ydim: (40, 45) (10, 15)\n",
      "36\n",
      "xdim,ydim: (61, 66) (21, 26)\n",
      "37\n",
      "xdim,ydim: (38, 43) (24, 29)\n",
      "38\n",
      "xdim,ydim: (27, 32) (29, 34)\n",
      "39\n",
      "xdim,ydim: (17, 22) (1, 6)\n",
      "40\n",
      "xdim,ydim: (66, 71) (10, 15)\n",
      "41\n",
      "xdim,ydim: (61, 66) (21, 26)\n",
      "42\n",
      "xdim,ydim: (14, 19) (48, 53)\n",
      "43\n",
      "xdim,ydim: (55, 60) (66, 71)\n",
      "44\n",
      "xdim,ydim: (66, 71) (10, 15)\n",
      "45\n",
      "xdim,ydim: (33, 38) (46, 51)\n",
      "46\n",
      "xdim,ydim: (9, 14) (13, 18)\n",
      "47\n",
      "xdim,ydim: (5, 10) (65, 70)\n",
      "48\n",
      "xdim,ydim: (12, 17) (42, 47)\n",
      "49\n",
      "xdim,ydim: (45, 50) (37, 42)\n",
      "50\n",
      "xdim,ydim: (53, 58) (63, 68)\n",
      "51\n",
      "xdim,ydim: (56, 61) (5, 10)\n",
      "52\n",
      "xdim,ydim: (42, 47) (40, 45)\n",
      "53\n",
      "xdim,ydim: (26, 31) (34, 39)\n",
      "54\n",
      "xdim,ydim: (48, 53) (18, 23)\n",
      "55\n",
      "xdim,ydim: (65, 70) (44, 49)\n",
      "56\n",
      "xdim,ydim: (46, 51) (11, 16)\n",
      "57\n",
      "xdim,ydim: (62, 67) (8, 13)\n",
      "58\n",
      "xdim,ydim: (63, 68) (29, 34)\n",
      "59\n",
      "xdim,ydim: (50, 55) (35, 40)\n",
      "60\n",
      "xdim,ydim: (43, 48) (64, 69)\n",
      "61\n",
      "xdim,ydim: (5, 10) (44, 49)\n",
      "62\n",
      "xdim,ydim: (67, 72) (56, 61)\n",
      "63\n",
      "xdim,ydim: (15, 20) (38, 43)\n",
      "64\n",
      "xdim,ydim: (34, 39) (48, 53)\n",
      "65\n",
      "xdim,ydim: (40, 45) (39, 44)\n",
      "66\n",
      "xdim,ydim: (3, 8) (12, 17)\n",
      "67\n",
      "xdim,ydim: (41, 46) (41, 46)\n",
      "68\n",
      "xdim,ydim: (8, 13) (4, 9)\n",
      "69\n",
      "xdim,ydim: (69, 74) (43, 48)\n",
      "70\n",
      "xdim,ydim: (32, 37) (13, 18)\n",
      "71\n",
      "xdim,ydim: (0, 5) (47, 52)\n",
      "72\n",
      "xdim,ydim: (33, 38) (2, 7)\n",
      "73\n",
      "xdim,ydim: (43, 48) (65, 70)\n",
      "74\n",
      "xdim,ydim: (1, 6) (38, 43)\n",
      "75\n",
      "xdim,ydim: (7, 12) (47, 52)\n",
      "76\n",
      "xdim,ydim: (68, 73) (56, 61)\n",
      "77\n",
      "xdim,ydim: (45, 50) (17, 22)\n",
      "78\n",
      "xdim,ydim: (34, 39) (16, 21)\n",
      "79\n",
      "xdim,ydim: (17, 22) (13, 18)\n",
      "80\n",
      "xdim,ydim: (6, 11) (3, 8)\n",
      "81\n",
      "xdim,ydim: (40, 45) (11, 16)\n",
      "82\n",
      "xdim,ydim: (20, 25) (48, 53)\n",
      "83\n",
      "xdim,ydim: (25, 30) (65, 70)\n",
      "84\n",
      "xdim,ydim: (6, 11) (29, 34)\n",
      "85\n",
      "xdim,ydim: (41, 46) (22, 27)\n",
      "86\n",
      "xdim,ydim: (67, 72) (52, 57)\n",
      "87\n",
      "xdim,ydim: (29, 34) (63, 68)\n",
      "88\n",
      "xdim,ydim: (21, 26) (33, 38)\n",
      "89\n",
      "xdim,ydim: (36, 41) (5, 10)\n",
      "90\n",
      "xdim,ydim: (13, 18) (2, 7)\n",
      "91\n",
      "xdim,ydim: (35, 40) (40, 45)\n",
      "92\n",
      "xdim,ydim: (61, 66) (53, 58)\n",
      "93\n",
      "xdim,ydim: (52, 57) (3, 8)\n",
      "94\n",
      "xdim,ydim: (10, 15) (52, 57)\n",
      "95\n",
      "xdim,ydim: (10, 15) (35, 40)\n",
      "96\n",
      "xdim,ydim: (35, 40) (31, 36)\n",
      "97\n",
      "xdim,ydim: (41, 46) (34, 39)\n",
      "98\n",
      "xdim,ydim: (31, 36) (52, 57)\n",
      "99\n",
      "Shape of regular image is:  (100, 72, 84)\n",
      "Shape of dead image is:  (100, 72, 84)\n",
      "Shape of hot image is:  (100, 72, 84)\n",
      "Shape of random image is:  (100, 72, 84)\n",
      "\n",
      "max of image is:  2020.0\n"
     ]
    },
    {
     "data": {
      "image/png": "[encoded data removed]",
      "text/plain": [
       "<matplotlib.figure.Figure at 0x7f2812697310>"
      ]
     },
     "metadata": {},
     "output_type": "display_data"
    },
    {
     "data": {
      "image/png": "[encoded data removed]",
      "text/plain": [
       "<matplotlib.figure.Figure at 0x7f2812753750>"
      ]
     },
     "metadata": {},
     "output_type": "display_data"
    },
    {
     "data": {
      "image/png": "[encoded data removed]",
      "text/plain": [
       "<matplotlib.figure.Figure at 0x7f2812760e10>"
      ]
     },
     "metadata": {},
     "output_type": "display_data"
    },
    {
     "data": {
      "image/png": "[encoded data removed]",
      "text/plain": [
       "<matplotlib.figure.Figure at 0x7f2819638850>"
      ]
     },
     "metadata": {},
     "output_type": "display_data"
    },
    {
     "data": {
      "text/plain": [
       "<matplotlib.figure.Figure at 0x7f2812923f50>"
      ]
     },
     "metadata": {},
     "output_type": "display_data"
    }
   ],
   "source": [
    "input_images=data_sample[:100]\n",
    "hotregion_image=[]\n",
    "deadregion_image=[]\n",
    "random_image=[]\n",
    "count=0\n",
    "for k in input_images:\n",
    "    a=np.random.randint(datasampleshape[2]-14)\n",
    "    b=np.random.randint(datasampleshape[1]-5)\n",
    "    xdim=(a,a+5)\n",
    "    ydim=(b,b+5)\n",
    "    hotregion_image.append( hotregion(k,xdim,ydim))\n",
    "    deadregion_image.append(killregion(k,xdim,ydim))\n",
    "    random_image.append(randomregion(k,xdim,ydim))\n",
    "    print \"xdim,ydim:\",xdim,ydim\n",
    "    print count\n",
    "    count+=1\n",
    "    \n",
    "    \n",
    "hotregion_image=np.array(hotregion_image)\n",
    "deadregion_image=np.array(deadregion_image)\n",
    "random_image=np.array(random_image)\n",
    "#print \"xdim,ydim\",xdim,ydim\n",
    "print \"Shape of regular image is: \",input_images.shape\n",
    "print \"Shape of dead image is: \" ,deadregion_image.shape\n",
    "print \"Shape of hot image is: \" ,hotregion_image.shape\n",
    "print \"Shape of random image is: \" ,random_image.shape\n",
    "\n",
    "print '\\nmax of image is: ' ,np.max(input_images)\n",
    "\n",
    "im=plt.imshow(input_images[4],cmap=cm.coolwarm)\n",
    "plt.show()\n",
    "plt.clf()\n",
    "\n",
    "\n",
    "im=plt.imshow(random_image[4],cmap=cm.coolwarm)\n",
    "plt.show()\n",
    "plt.clf()\n",
    "\n",
    "im=plt.imshow(hotregion_image[4],cmap=cm.coolwarm)\n",
    "plt.show()\n",
    "plt.clf()#plt.clf clears the figure and it's axis but leaves the window open. \n",
    "         #as opposed to plt.close which closes the window. If you are showing many images at a time without\n",
    "         #closing the window it is better.\n",
    "\n",
    "im=plt.imshow(deadregion_image[4],cmap=cm.coolwarm)\n",
    "plt.show()\n",
    "plt.clf()\n",
    "#input_image=np.reshape(input_image,(input_image.shape[0],input_image.shape[1]))\n"
   ]
  },
  {
   "cell_type": "code",
   "execution_count": 390,
   "metadata": {
    "scrolled": true
   },
   "outputs": [
    {
     "data": {
      "image/png": "[encoded data removed]",
      "text/plain": [
       "<matplotlib.figure.Figure at 0x7f28127e0290>"
      ]
     },
     "metadata": {},
     "output_type": "display_data"
    },
    {
     "data": {
      "image/png": "[encoded data removed]",
      "text/plain": [
       "<matplotlib.figure.Figure at 0x7f2812553890>"
      ]
     },
     "metadata": {},
     "output_type": "display_data"
    },
    {
     "data": {
      "image/png": "[encoded data removed]",
      "text/plain": [
       "<matplotlib.figure.Figure at 0x7f2813256d50>"
      ]
     },
     "metadata": {},
     "output_type": "display_data"
    },
    {
     "data": {
      "image/png": "[encoded data removed]",
      "text/plain": [
       "<matplotlib.figure.Figure at 0x7f28126437d0>"
      ]
     },
     "metadata": {},
     "output_type": "display_data"
    },
    {
     "data": {
      "text/plain": [
       "<matplotlib.figure.Figure at 0x7f28128edb90>"
      ]
     },
     "metadata": {},
     "output_type": "display_data"
    }
   ],
   "source": [
    "im=plt.imshow(input_images[0],cmap=cm.coolwarm)\n",
    "plt.show()\n",
    "plt.clf()\n",
    "\n",
    "\n",
    "im=plt.imshow(random_image[0],cmap=cm.coolwarm)\n",
    "plt.show()\n",
    "plt.clf()\n",
    "\n",
    "im=plt.imshow(hotregion_image[0],cmap=cm.coolwarm)\n",
    "plt.show()\n",
    "plt.clf()#plt.clf clears the figure and it's axis but leaves the window open. \n",
    "         #as opposed to plt.close which closes the window. If you are showing many images at a time without\n",
    "         #closing the window it is better.\n",
    "\n",
    "im=plt.imshow(deadregion_image[0],cmap=cm.coolwarm)\n",
    "plt.show()\n",
    "plt.clf()\n",
    "#input_image=np.reshape(input_image,(input_image.shape[0],input_image.shape[1]))"
   ]
  },
  {
   "cell_type": "markdown",
   "metadata": {},
   "source": [
    "# Adding the bad data to the dataset"
   ]
  },
  {
   "cell_type": "code",
   "execution_count": 391,
   "metadata": {
    "collapsed": true
   },
   "outputs": [],
   "source": [
    "sample= np.append(data_sample,hotregion_image,axis=0)\n",
    "sample= np.append(sample,deadregion_image,axis=0)\n",
    "sample= np.append(sample,random_image,axis=0)            \n"
   ]
  },
  {
   "cell_type": "code",
   "execution_count": 392,
   "metadata": {},
   "outputs": [
    {
     "name": "stdout",
     "output_type": "stream",
     "text": [
      "(1299, 72, 84)\n"
     ]
    }
   ],
   "source": [
    "print sample.shape"
   ]
  },
  {
   "cell_type": "code",
   "execution_count": 393,
   "metadata": {},
   "outputs": [
    {
     "data": {
      "text/plain": [
       "(1299, 6048)"
      ]
     },
     "execution_count": 393,
     "metadata": {},
     "output_type": "execute_result"
    }
   ],
   "source": [
    "sample=np.reshape(sample,(sample.shape[0],\n",
    "                          sample.shape[1]*sample.shape[2] ) )\n",
    "sample.shape"
   ]
  },
  {
   "cell_type": "markdown",
   "metadata": {},
   "source": [
    "Add the labels at the last column"
   ]
  },
  {
   "cell_type": "code",
   "execution_count": 394,
   "metadata": {},
   "outputs": [
    {
     "data": {
      "text/plain": [
       "(1299, 6049)"
      ]
     },
     "execution_count": 394,
     "metadata": {},
     "output_type": "execute_result"
    }
   ],
   "source": [
    "sample=np.append(sample,np.ones((sample.shape[0],1)),axis=1 )\n",
    "sample.shape"
   ]
  },
  {
   "cell_type": "code",
   "execution_count": 395,
   "metadata": {},
   "outputs": [],
   "source": [
    "sample[-3*input_images.shape[0]:,-1:]=0"
   ]
  },
  {
   "cell_type": "markdown",
   "metadata": {},
   "source": [
    "# Now to create and train a model"
   ]
  },
  {
   "cell_type": "markdown",
   "metadata": {},
   "source": [
    "Define our X's and y's"
   ]
  },
  {
   "cell_type": "code",
   "execution_count": 396,
   "metadata": {},
   "outputs": [
    {
     "name": "stdout",
     "output_type": "stream",
     "text": [
      "X shape is:  (1299, 6048)\n",
      "y shape is:  (1299,)\n"
     ]
    }
   ],
   "source": [
    "X=sample[:,:-1]\n",
    "y=sample[:,-1]\n",
    "print \"X shape is: \",X.shape\n",
    "print \"y shape is: \",y.shape"
   ]
  },
  {
   "cell_type": "code",
   "execution_count": 454,
   "metadata": {},
   "outputs": [
    {
     "name": "stdout",
     "output_type": "stream",
     "text": [
      "(844, 6048)\n",
      "(455, 6048)\n",
      "(844,)\n",
      "(455,)\n"
     ]
    }
   ],
   "source": [
    "#from sklearn.neural_network import MLPClassifier #this one takes too long\n",
    "from sklearn.linear_model import LogisticRegression\n",
    "from sklearn import metrics\n",
    "from sklearn.cross_validation import train_test_split,cross_val_score\n",
    "Xtrain,Xtest,ytrain, ytest=train_test_split(X,y,test_size=.35,random_state =5 )\n",
    "\n",
    "print Xtrain.shape\n",
    "print Xtest.shape\n",
    "print ytrain.shape\n",
    "print ytest.shape"
   ]
  },
  {
   "cell_type": "code",
   "execution_count": 455,
   "metadata": {
    "collapsed": true
   },
   "outputs": [],
   "source": [
    "logreg=LogisticRegression( random_state=50)"
   ]
  },
  {
   "cell_type": "code",
   "execution_count": 456,
   "metadata": {},
   "outputs": [
    {
     "name": "stdout",
     "output_type": "stream",
     "text": [
      "0.828449612403\n"
     ]
    }
   ],
   "source": [
    "scores= cross_val_score(logreg,X,y,cv=10,scoring='accuracy').mean()\n",
    "print scores"
   ]
  },
  {
   "cell_type": "code",
   "execution_count": 457,
   "metadata": {},
   "outputs": [
    {
     "data": {
      "text/plain": [
       "LogisticRegression(C=1.0, class_weight=None, dual=False, fit_intercept=True,\n",
       "          intercept_scaling=1, max_iter=100, multi_class='ovr', n_jobs=1,\n",
       "          penalty='l2', random_state=50, solver='liblinear', tol=0.0001,\n",
       "          verbose=0, warm_start=False)"
      ]
     },
     "execution_count": 457,
     "metadata": {},
     "output_type": "execute_result"
    }
   ],
   "source": [
    "logreg.fit(Xtrain,ytrain)"
   ]
  },
  {
   "cell_type": "code",
   "execution_count": 458,
   "metadata": {},
   "outputs": [
    {
     "name": "stdout",
     "output_type": "stream",
     "text": [
      "(455,)\n",
      "0.865934065934\n"
     ]
    }
   ],
   "source": [
    "pred=logreg.predict(Xtest)\n",
    "print pred.shape\n",
    "print metrics.accuracy_score(ytest,pred)"
   ]
  },
  {
   "cell_type": "code",
   "execution_count": 459,
   "metadata": {},
   "outputs": [
    {
     "data": {
      "text/plain": [
       "0.74725274725274726"
      ]
     },
     "execution_count": 459,
     "metadata": {},
     "output_type": "execute_result"
    }
   ],
   "source": [
    "#calcualte null accuracy\n",
    "max(ytest.mean(),1-ytest.mean())"
   ]
  },
  {
   "cell_type": "code",
   "execution_count": 460,
   "metadata": {},
   "outputs": [
    {
     "name": "stdout",
     "output_type": "stream",
     "text": [
      "[[ 54  61]\n",
      " [  0 340]]\n"
     ]
    }
   ],
   "source": [
    "#Confusion matrix\n",
    "print metrics.confusion_matrix(ytest,pred)"
   ]
  },
  {
   "cell_type": "code",
   "execution_count": 461,
   "metadata": {
    "collapsed": true
   },
   "outputs": [],
   "source": [
    "#save confusion matrix and slice into 4 pieces\n",
    "confusion= metrics.confusion_matrix(ytest,pred)\n",
    "TP=confusion[1,1]\n",
    "TN=confusion[0,0]\n",
    "FP=confusion[0,1]\n",
    "FN=confusion[1,0]"
   ]
  },
  {
   "cell_type": "code",
   "execution_count": 462,
   "metadata": {},
   "outputs": [
    {
     "name": "stdout",
     "output_type": "stream",
     "text": [
      "True Pos: 340\n",
      "True Neg: 54\n",
      "False Pos: 61\n",
      "False Neg: 0\n"
     ]
    }
   ],
   "source": [
    "print \"True Pos:\",TP\n",
    "print \"True Neg:\",TN\n",
    "print \"False Pos:\",FP\n",
    "print \"False Neg:\",FN"
   ]
  },
  {
   "cell_type": "code",
   "execution_count": 453,
   "metadata": {},
   "outputs": [
    {
     "name": "stdout",
     "output_type": "stream",
     "text": [
      "Clasification Accuracy\n",
      "0.883076923077\n",
      "0.883076923077\n",
      "Clasification Error\n",
      "0.116923076923\n",
      "0.116923076923\n",
      "Sensitivity or Recall\n",
      "0.995762711864\n",
      "0.995762711864\n",
      "Specificity\n",
      "0.584269662921\n",
      "False Positive Rate\n",
      "0.415730337079\n",
      "Precision\n",
      "0.863970588235\n",
      "0.863970588235\n"
     ]
    }
   ],
   "source": [
    "#Clasification Accuracy\n",
    "#how often is the Clf correct?\n",
    "print 'Clasification Accuracy'\n",
    "print (TP+TN)/ float(TP+TN+FP+FN)\n",
    "print metrics.accuracy_score(ytest,pred)\n",
    "\n",
    "\n",
    "#Clasification Error\n",
    "# how often is it incorrect?\n",
    "print 'Clasification Error'\n",
    "print (FP+FN)/ float(TP+TN+FP+FN)\n",
    "print 1- metrics.accuracy_score(ytest,pred)\n",
    "\n",
    "\n",
    "#Sensitivity\n",
    "# How often if the prediction correct when the actual value is pos. \n",
    "#AKA True pos or Recall\n",
    "print 'Sensitivity or Recall'\n",
    "print TP/ float(TP+FN)\n",
    "print metrics.recall_score(ytest,pred)\n",
    "\n",
    "\n",
    "#Specificity \n",
    "# When the actual result is neg how often is it correct?\n",
    "print 'Specificity'\n",
    "print TN/ float(TN+FP)\n",
    "\n",
    "#false positive rate\n",
    "# When the actual value is negative how often is it incorrect\n",
    "print 'False Positive Rate'\n",
    "print FP/ float(TN+FP)\n",
    "\n",
    "\n",
    "#Precision\n",
    "#When a positive value is predicted, how often is it correct?\n",
    "print 'Precision'\n",
    "print TP/ float(TP +FP)\n",
    "print metrics.precision_score(ytest,pred)"
   ]
  },
  {
   "cell_type": "markdown",
   "metadata": {},
   "source": [
    "# Adjusting the clasification threshold"
   ]
  },
  {
   "cell_type": "code",
   "execution_count": 429,
   "metadata": {},
   "outputs": [
    {
     "data": {
      "text/plain": [
       "array([ 1.,  1.,  1.,  0.,  1.,  1.,  1.,  1.,  1.,  1.])"
      ]
     },
     "execution_count": 429,
     "metadata": {},
     "output_type": "execute_result"
    }
   ],
   "source": [
    "#print the first 10 predicted responses\n",
    "logreg.predict(Xtest)[0:10]"
   ]
  },
  {
   "cell_type": "code",
   "execution_count": 430,
   "metadata": {},
   "outputs": [
    {
     "data": {
      "text/plain": [
       "array([[  7.37556904e-09,   9.99999993e-01],\n",
       "       [  5.16001444e-08,   9.99999948e-01],\n",
       "       [  3.17517711e-07,   9.99999682e-01],\n",
       "       [  9.99987441e-01,   1.25592177e-05],\n",
       "       [  1.85120646e-02,   9.81487935e-01],\n",
       "       [  9.92745441e-10,   9.99999999e-01],\n",
       "       [  4.13871998e-06,   9.99995861e-01],\n",
       "       [  1.65983978e-07,   9.99999834e-01],\n",
       "       [  6.54447475e-03,   9.93455525e-01],\n",
       "       [  1.71621128e-06,   9.99998284e-01]])"
      ]
     },
     "execution_count": 430,
     "metadata": {},
     "output_type": "execute_result"
    }
   ],
   "source": [
    "#print the first 10 predicted probabilities of class membership\n",
    "logreg.predict_proba(Xtest)[0:10,:]"
   ]
  },
  {
   "cell_type": "code",
   "execution_count": 431,
   "metadata": {},
   "outputs": [
    {
     "data": {
      "text/plain": [
       "array([  9.99999993e-01,   9.99999948e-01,   9.99999682e-01,\n",
       "         1.25592177e-05,   9.81487935e-01,   9.99999999e-01,\n",
       "         9.99995861e-01,   9.99999834e-01,   9.93455525e-01,\n",
       "         9.99998284e-01])"
      ]
     },
     "execution_count": 431,
     "metadata": {},
     "output_type": "execute_result"
    }
   ],
   "source": [
    "#print the first 10 predicted probabilities for class 1\n",
    "logreg.predict_proba(Xtest)[0:10,1]"
   ]
  },
  {
   "cell_type": "code",
   "execution_count": 432,
   "metadata": {
    "collapsed": true
   },
   "outputs": [],
   "source": [
    "#store the predicted probabilities for class 1\n",
    "y_pred_prob=logreg.predict_proba(Xtest)[:,1]"
   ]
  },
  {
   "cell_type": "code",
   "execution_count": 433,
   "metadata": {},
   "outputs": [
    {
     "data": {
      "text/plain": [
       "Text(0,0.5,u'Frequency')"
      ]
     },
     "execution_count": 433,
     "metadata": {},
     "output_type": "execute_result"
    },
    {
     "data": {
      "image/png": "[encoded data removed]",
      "text/plain": [
       "<matplotlib.figure.Figure at 0x7f2812a67610>"
      ]
     },
     "metadata": {},
     "output_type": "display_data"
    }
   ],
   "source": [
    "#allow plots to appear in the notebook\n",
    "%matplotlib inline\n",
    "plt.rcParams['font.size']=14\n",
    "\n",
    "#histogram of predicted probabilities\n",
    "plt.hist(y_pred_prob)#bins=8)\n",
    "#plt.xlim(0,1)\n",
    "plt.title(\"Histogram of predicted probabilities\")\n",
    "plt.xlabel('Predicted probability')\n",
    "plt.ylabel('Frequency')"
   ]
  },
  {
   "cell_type": "markdown",
   "metadata": {},
   "source": [
    "# Change the threshold "
   ]
  },
  {
   "cell_type": "code",
   "execution_count": 434,
   "metadata": {},
   "outputs": [
    {
     "name": "stderr",
     "output_type": "stream",
     "text": [
      "/cvmfs/sft.cern.ch/lcg/views/LCG_93/x86_64-slc6-gcc62-opt/lib/python2.7/site-packages/sklearn/utils/validation.py:395: DeprecationWarning: Passing 1d arrays as data is deprecated in 0.17 and will raise ValueError in 0.19. Reshape your data either using X.reshape(-1, 1) if your data has a single feature or X.reshape(1, -1) if it contains a single sample.\n",
      "  DeprecationWarning)\n"
     ]
    }
   ],
   "source": [
    "#predict good if the predicted probability is greater than x\n",
    "from sklearn.preprocessing import binarize\n",
    "pred= binarize(y_pred_prob,.99877551)[0]"
   ]
  },
  {
   "cell_type": "code",
   "execution_count": 435,
   "metadata": {},
   "outputs": [
    {
     "data": {
      "text/plain": [
       "array([  9.99999993e-01,   9.99999948e-01,   9.99999682e-01,\n",
       "         1.25592177e-05,   9.81487935e-01,   9.99999999e-01,\n",
       "         9.99995861e-01,   9.99999834e-01,   9.93455525e-01,\n",
       "         9.99998284e-01])"
      ]
     },
     "execution_count": 435,
     "metadata": {},
     "output_type": "execute_result"
    }
   ],
   "source": [
    "#print the first 10 predicted probabilities\n",
    "y_pred_prob[0:10]"
   ]
  },
  {
   "cell_type": "code",
   "execution_count": 436,
   "metadata": {},
   "outputs": [
    {
     "data": {
      "text/plain": [
       "array([ 1.,  1.,  1.,  0.,  0.,  1.,  1.,  1.,  0.,  1.])"
      ]
     },
     "execution_count": 436,
     "metadata": {},
     "output_type": "execute_result"
    }
   ],
   "source": [
    "#print the first 10 predicted classes with new thershold\n",
    "pred[0:10]"
   ]
  },
  {
   "cell_type": "code",
   "execution_count": 437,
   "metadata": {},
   "outputs": [
    {
     "name": "stdout",
     "output_type": "stream",
     "text": [
      "[[ 32  20]\n",
      " [  0 143]]\n"
     ]
    }
   ],
   "source": [
    "#print old confusion matrix\n",
    "print confusion"
   ]
  },
  {
   "cell_type": "code",
   "execution_count": 438,
   "metadata": {},
   "outputs": [
    {
     "name": "stdout",
     "output_type": "stream",
     "text": [
      "[[ 45   7]\n",
      " [ 13 130]]\n"
     ]
    }
   ],
   "source": [
    "#print new confusion matrix\n",
    "print metrics.confusion_matrix(ytest,pred)"
   ]
  },
  {
   "cell_type": "markdown",
   "metadata": {},
   "source": [
    "# ROC Curves and Area Under the Curve (AUC)"
   ]
  },
  {
   "cell_type": "code",
   "execution_count": 439,
   "metadata": {},
   "outputs": [
    {
     "data": {
      "image/png": "[encoded data removed]",
      "text/plain": [
       "<matplotlib.figure.Figure at 0x7f28128a0610>"
      ]
     },
     "metadata": {},
     "output_type": "display_data"
    }
   ],
   "source": [
    "fpr,tpr,thresholds= metrics.roc_curve(ytest,y_pred_prob)\n",
    "plt.plot(fpr,tpr)\n",
    "#plt.xlim([0.0,1.0])\n",
    "#plt.ylim([0.0,1.0])\n",
    "plt.title('ROC Curve for good data clf')\n",
    "plt.xlabel('False Pos Rate (1-Specificity)')\n",
    "plt.ylabel('True Pos Rate(Sensitivity)')\n",
    "plt.grid(True)"
   ]
  },
  {
   "cell_type": "code",
   "execution_count": 440,
   "metadata": {
    "collapsed": true
   },
   "outputs": [],
   "source": [
    "#define a function that accepts a threshold and prints sensitivity and specificity\n",
    "def evalualte_threshold(threshold):\n",
    "    print 'Sensitivity:',tpr[thresholds > threshold][-1]\n",
    "    print 'Specificity:',1- fpr[thresholds > threshold][-1]\n",
    "    print '------------'"
   ]
  },
  {
   "cell_type": "code",
   "execution_count": 441,
   "metadata": {},
   "outputs": [
    {
     "name": "stdout",
     "output_type": "stream",
     "text": [
      "[ 0.99        0.99020408  0.99040816  0.99061224  0.99081633  0.99102041\n",
      "  0.99122449  0.99142857  0.99163265  0.99183673  0.99204082  0.9922449\n",
      "  0.99244898  0.99265306  0.99285714  0.99306122  0.99326531  0.99346939\n",
      "  0.99367347  0.99387755  0.99408163  0.99428571  0.9944898   0.99469388\n",
      "  0.99489796  0.99510204  0.99530612  0.9955102   0.99571429  0.99591837\n",
      "  0.99612245  0.99632653  0.99653061  0.99673469  0.99693878  0.99714286\n",
      "  0.99734694  0.99755102  0.9977551   0.99795918  0.99816327  0.99836735\n",
      "  0.99857143  0.99877551  0.99897959  0.99918367  0.99938776  0.99959184\n",
      "  0.99979592  1.        ]\n",
      "0\n",
      "Sensitivity: 0.93006993007\n",
      "Specificity: 0.826923076923\n",
      "------------\n",
      "1\n",
      "Sensitivity: 0.93006993007\n",
      "Specificity: 0.826923076923\n",
      "------------\n",
      "2\n",
      "Sensitivity: 0.93006993007\n",
      "Specificity: 0.826923076923\n",
      "------------\n",
      "3\n",
      "Sensitivity: 0.93006993007\n",
      "Specificity: 0.826923076923\n",
      "------------\n",
      "4\n",
      "Sensitivity: 0.93006993007\n",
      "Specificity: 0.826923076923\n",
      "------------\n",
      "5\n",
      "Sensitivity: 0.93006993007\n",
      "Specificity: 0.826923076923\n",
      "------------\n",
      "6\n",
      "Sensitivity: 0.93006993007\n",
      "Specificity: 0.826923076923\n",
      "------------\n",
      "7\n",
      "Sensitivity: 0.93006993007\n",
      "Specificity: 0.826923076923\n",
      "------------\n",
      "8\n",
      "Sensitivity: 0.93006993007\n",
      "Specificity: 0.826923076923\n",
      "------------\n",
      "9\n",
      "Sensitivity: 0.93006993007\n",
      "Specificity: 0.826923076923\n",
      "------------\n",
      "10\n",
      "Sensitivity: 0.93006993007\n",
      "Specificity: 0.826923076923\n",
      "------------\n",
      "11\n",
      "Sensitivity: 0.93006993007\n",
      "Specificity: 0.826923076923\n",
      "------------\n",
      "12\n",
      "Sensitivity: 0.93006993007\n",
      "Specificity: 0.826923076923\n",
      "------------\n",
      "13\n",
      "Sensitivity: 0.93006993007\n",
      "Specificity: 0.826923076923\n",
      "------------\n",
      "14\n",
      "Sensitivity: 0.93006993007\n",
      "Specificity: 0.826923076923\n",
      "------------\n",
      "15\n",
      "Sensitivity: 0.93006993007\n",
      "Specificity: 0.826923076923\n",
      "------------\n",
      "16\n",
      "Sensitivity: 0.93006993007\n",
      "Specificity: 0.826923076923\n",
      "------------\n",
      "17\n",
      "Sensitivity: 0.923076923077\n",
      "Specificity: 0.826923076923\n",
      "------------\n",
      "18\n",
      "Sensitivity: 0.923076923077\n",
      "Specificity: 0.826923076923\n",
      "------------\n",
      "19\n",
      "Sensitivity: 0.923076923077\n",
      "Specificity: 0.826923076923\n",
      "------------\n",
      "20\n",
      "Sensitivity: 0.923076923077\n",
      "Specificity: 0.826923076923\n",
      "------------\n",
      "21\n",
      "Sensitivity: 0.923076923077\n",
      "Specificity: 0.826923076923\n",
      "------------\n",
      "22\n",
      "Sensitivity: 0.923076923077\n",
      "Specificity: 0.826923076923\n",
      "------------\n",
      "23\n",
      "Sensitivity: 0.923076923077\n",
      "Specificity: 0.826923076923\n",
      "------------\n",
      "24\n",
      "Sensitivity: 0.923076923077\n",
      "Specificity: 0.826923076923\n",
      "------------\n",
      "25\n",
      "Sensitivity: 0.923076923077\n",
      "Specificity: 0.826923076923\n",
      "------------\n",
      "26\n",
      "Sensitivity: 0.923076923077\n",
      "Specificity: 0.826923076923\n",
      "------------\n",
      "27\n",
      "Sensitivity: 0.923076923077\n",
      "Specificity: 0.826923076923\n",
      "------------\n",
      "28\n",
      "Sensitivity: 0.923076923077\n",
      "Specificity: 0.826923076923\n",
      "------------\n",
      "29\n",
      "Sensitivity: 0.923076923077\n",
      "Specificity: 0.826923076923\n",
      "------------\n",
      "30\n",
      "Sensitivity: 0.923076923077\n",
      "Specificity: 0.826923076923\n",
      "------------\n",
      "31\n",
      "Sensitivity: 0.923076923077\n",
      "Specificity: 0.826923076923\n",
      "------------\n",
      "32\n",
      "Sensitivity: 0.923076923077\n",
      "Specificity: 0.865384615385\n",
      "------------\n",
      "33\n",
      "Sensitivity: 0.923076923077\n",
      "Specificity: 0.865384615385\n",
      "------------\n",
      "34\n",
      "Sensitivity: 0.923076923077\n",
      "Specificity: 0.865384615385\n",
      "------------\n",
      "35\n",
      "Sensitivity: 0.923076923077\n",
      "Specificity: 0.865384615385\n",
      "------------\n",
      "36\n",
      "Sensitivity: 0.923076923077\n",
      "Specificity: 0.865384615385\n",
      "------------\n",
      "37\n",
      "Sensitivity: 0.923076923077\n",
      "Specificity: 0.865384615385\n",
      "------------\n",
      "38\n",
      "Sensitivity: 0.909090909091\n",
      "Specificity: 0.865384615385\n",
      "------------\n",
      "39\n",
      "Sensitivity: 0.909090909091\n",
      "Specificity: 0.865384615385\n",
      "------------\n",
      "40\n",
      "Sensitivity: 0.909090909091\n",
      "Specificity: 0.865384615385\n",
      "------------\n",
      "41\n",
      "Sensitivity: 0.909090909091\n",
      "Specificity: 0.865384615385\n",
      "------------\n",
      "42\n",
      "Sensitivity: 0.909090909091\n",
      "Specificity: 0.865384615385\n",
      "------------\n",
      "43\n",
      "Sensitivity: 0.909090909091\n",
      "Specificity: 0.865384615385\n",
      "------------\n",
      "44\n",
      "Sensitivity: 0.909090909091\n",
      "Specificity: 0.865384615385\n",
      "------------\n",
      "45\n",
      "Sensitivity: 0.909090909091\n",
      "Specificity: 0.884615384615\n",
      "------------\n",
      "46\n",
      "Sensitivity: 0.909090909091\n",
      "Specificity: 0.884615384615\n",
      "------------\n",
      "47\n",
      "Sensitivity: 0.909090909091\n",
      "Specificity: 0.884615384615\n",
      "------------\n",
      "48\n",
      "Sensitivity: 0.797202797203\n",
      "Specificity: 0.884615384615\n",
      "------------\n",
      "49\n",
      "Sensitivity:"
     ]
    },
    {
     "ename": "IndexError",
     "evalue": "index -1 is out of bounds for axis 0 with size 0",
     "output_type": "error",
     "traceback": [
      "\u001b[0;31m\u001b[0m",
      "\u001b[0;31mIndexError\u001b[0mTraceback (most recent call last)",
      "\u001b[0;32m<ipython-input-441-40e4437d9773>\u001b[0m in \u001b[0;36m<module>\u001b[0;34m()\u001b[0m\n\u001b[1;32m      5\u001b[0m \u001b[0;32mfor\u001b[0m \u001b[0mk\u001b[0m \u001b[0;32min\u001b[0m \u001b[0mx\u001b[0m\u001b[0;34m:\u001b[0m\u001b[0;34m\u001b[0m\u001b[0m\n\u001b[1;32m      6\u001b[0m     \u001b[0;32mprint\u001b[0m \u001b[0mcount\u001b[0m\u001b[0;34m\u001b[0m\u001b[0m\n\u001b[0;32m----> 7\u001b[0;31m     \u001b[0mevalualte_threshold\u001b[0m\u001b[0;34m(\u001b[0m\u001b[0mk\u001b[0m\u001b[0;34m)\u001b[0m\u001b[0;34m\u001b[0m\u001b[0m\n\u001b[0m\u001b[1;32m      8\u001b[0m     \u001b[0mcount\u001b[0m\u001b[0;34m+=\u001b[0m\u001b[0;36m1\u001b[0m\u001b[0;34m\u001b[0m\u001b[0m\n",
      "\u001b[0;32m<ipython-input-440-90a7589363f6>\u001b[0m in \u001b[0;36mevalualte_threshold\u001b[0;34m(threshold)\u001b[0m\n\u001b[1;32m      1\u001b[0m \u001b[0;31m#define a function that accepts a threshold and prints sensitivity and specificity\u001b[0m\u001b[0;34m\u001b[0m\u001b[0;34m\u001b[0m\u001b[0m\n\u001b[1;32m      2\u001b[0m \u001b[0;32mdef\u001b[0m \u001b[0mevalualte_threshold\u001b[0m\u001b[0;34m(\u001b[0m\u001b[0mthreshold\u001b[0m\u001b[0;34m)\u001b[0m\u001b[0;34m:\u001b[0m\u001b[0;34m\u001b[0m\u001b[0m\n\u001b[0;32m----> 3\u001b[0;31m     \u001b[0;32mprint\u001b[0m \u001b[0;34m'Sensitivity:'\u001b[0m\u001b[0;34m,\u001b[0m\u001b[0mtpr\u001b[0m\u001b[0;34m[\u001b[0m\u001b[0mthresholds\u001b[0m \u001b[0;34m>\u001b[0m \u001b[0mthreshold\u001b[0m\u001b[0;34m]\u001b[0m\u001b[0;34m[\u001b[0m\u001b[0;34m-\u001b[0m\u001b[0;36m1\u001b[0m\u001b[0;34m]\u001b[0m\u001b[0;34m\u001b[0m\u001b[0m\n\u001b[0m\u001b[1;32m      4\u001b[0m     \u001b[0;32mprint\u001b[0m \u001b[0;34m'Specificity:'\u001b[0m\u001b[0;34m,\u001b[0m\u001b[0;36m1\u001b[0m\u001b[0;34m-\u001b[0m \u001b[0mfpr\u001b[0m\u001b[0;34m[\u001b[0m\u001b[0mthresholds\u001b[0m \u001b[0;34m>\u001b[0m \u001b[0mthreshold\u001b[0m\u001b[0;34m]\u001b[0m\u001b[0;34m[\u001b[0m\u001b[0;34m-\u001b[0m\u001b[0;36m1\u001b[0m\u001b[0;34m]\u001b[0m\u001b[0;34m\u001b[0m\u001b[0m\n\u001b[1;32m      5\u001b[0m     \u001b[0;32mprint\u001b[0m \u001b[0;34m'------------'\u001b[0m\u001b[0;34m\u001b[0m\u001b[0m\n",
      "\u001b[0;31mIndexError\u001b[0m: index -1 is out of bounds for axis 0 with size 0"
     ]
    }
   ],
   "source": [
    "from pylab import linspace\n",
    "x=linspace(0.99,1)\n",
    "print x\n",
    "count=0\n",
    "for k in x:\n",
    "    print count\n",
    "    evalualte_threshold(k)\n",
    "    count+=1"
   ]
  },
  {
   "cell_type": "markdown",
   "metadata": {},
   "source": [
    "# AUC is the percentage of the ROC plot that is under the curve"
   ]
  },
  {
   "cell_type": "code",
   "execution_count": 442,
   "metadata": {},
   "outputs": [
    {
     "name": "stdout",
     "output_type": "stream",
     "text": [
      " 0.958041958042\n"
     ]
    }
   ],
   "source": [
    "print metrics.roc_auc_score(ytest,y_pred_prob)"
   ]
  },
  {
   "cell_type": "markdown",
   "metadata": {},
   "source": [
    "This is useful as a single number summary of classifier performance"
   ]
  },
  {
   "cell_type": "code",
   "execution_count": 443,
   "metadata": {},
   "outputs": [
    {
     "data": {
      "text/plain": [
       "0.92046666666666666"
      ]
     },
     "execution_count": 443,
     "metadata": {},
     "output_type": "execute_result"
    }
   ],
   "source": [
    "# Calculate cross validated AUC\n",
    "\n",
    "cross_val_score(logreg,X,y,cv=10,scoring='roc_auc').mean()"
   ]
  },
  {
   "cell_type": "code",
   "execution_count": null,
   "metadata": {
    "collapsed": true
   },
   "outputs": [],
   "source": []
  }
 ],
 "metadata": {
  "kernelspec": {
   "display_name": "Python 2",
   "language": "python",
   "name": "python2"
  },
  "language_info": {
   "codemirror_mode": {
    "name": "ipython",
    "version": 2
   },
   "file_extension": ".py",
   "mimetype": "text/x-python",
   "name": "python",
   "nbconvert_exporter": "python",
   "pygments_lexer": "ipython2",
   "version": "2.7.13"
  },
  "widgets": {
   "application/vnd.jupyter.widget-state+json": {
    "state": {},
    "version_major": 2,
    "version_minor": 0
   }
  }
 },
 "nbformat": 4,
 "nbformat_minor": 2
}
