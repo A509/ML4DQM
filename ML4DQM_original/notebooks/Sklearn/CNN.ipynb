{
 "cells": [
  {
   "cell_type": "code",
   "execution_count": 3,
   "metadata": {
    "collapsed": true
   },
   "outputs": [],
   "source": [
    "import tensorflow as tf\n",
    "#import utils as utils\n",
    "import h5py\n",
    "import matplotlib.cm as cm\n",
    "import matplotlib.pyplot as plt\n",
    "import os\n",
    "import numpy as np\n",
    "from sklearn.neural_network import MLPClassifier\n",
    "from sklearn.model_selection import train_test_split,cross_val_score"
   ]
  },
  {
   "cell_type": "code",
   "execution_count": 4,
   "metadata": {
    "collapsed": true
   },
   "outputs": [],
   "source": [
    "data_folder = '../ML4DQM/data'\n",
    "file_name = 'HCAL_digi+rechit_occ.hdf5'\n",
    "group = 'DigiTask_Occupancy_depth_depth1'\n",
    "\n",
    "input_file=h5py.File(data_folder+\"/\"+file_name,'r+')\n",
    "\n",
    "data_sample= np.array(input_file[group])\n",
    "datasampleshape=data_sample.shape\n"
   ]
  },
  {
   "cell_type": "code",
   "execution_count": 5,
   "metadata": {},
   "outputs": [
    {
     "data": {
      "text/plain": [
       "(999, 72, 84)"
      ]
     },
     "execution_count": 5,
     "metadata": {},
     "output_type": "execute_result"
    }
   ],
   "source": [
    "datasampleshape"
   ]
  },
  {
   "cell_type": "code",
   "execution_count": 6,
   "metadata": {
    "collapsed": true
   },
   "outputs": [],
   "source": [
    "def killregion(image,xdim,ydim):  \n",
    "    tempX=image.copy()\n",
    "    x1=np.min(xdim)\n",
    "    x2=np.max(xdim)\n",
    "    y1=np.min(ydim)\n",
    "    y2=np.max(ydim)\n",
    "    if x1==x2 | y1==y2:\n",
    "        print \"error, no change is made on image\"\n",
    "    #if tempX.ndim ==3:\n",
    "    #    \n",
    "    #    for k in range(tempX.shape[0]):\n",
    "    #        \n",
    "    #        for i in range(x1,x2):\n",
    "    #            \n",
    "    #            for j in range(y1,y2):\n",
    "    #                \n",
    "    #                tempX[k,j,i]=0\n",
    "    #\n",
    "    #else:\n",
    "        \n",
    "    for i in range(x1,x2):\n",
    "            \n",
    "        for j in range(y1,y2):\n",
    "                \n",
    "            tempX[j,i]=0\n",
    "                \n",
    "    return tempX\n",
    "\n",
    "\n",
    "#help (np.zeros)\n",
    "def hotregion(image,xdim,ydim):  \n",
    "    tempX=image.copy()\n",
    "    x1=np.min(xdim)\n",
    "    x2=np.max(xdim)\n",
    "    y1=np.min(ydim)\n",
    "    y2=np.max(ydim)\n",
    "    if x1==x2 | y1==y2:\n",
    "        print \"error, no change is made on image\"\n",
    "   # if tempX.ndim ==3:\n",
    "   #     \n",
    "   #     for k in range(tempX.shape[0]):\n",
    "   #         \n",
    "   #         for i in range(x1,x2):\n",
    "   #             \n",
    "   #             for j in range(y1,y2):\n",
    "   #                 \n",
    "   #                 tempX[k,j,i]=np.max(image)\n",
    "   # else:\n",
    "        \n",
    "    for i in range(x1,x2):\n",
    "            \n",
    "        for j in range(y1,y2):\n",
    "                \n",
    "            tempX[j,i]=np.max(image)\n",
    "                \n",
    "    return tempX\n",
    "\n",
    "def randomregion(image,xdim,ydim):\n",
    "    \n",
    "    \n",
    "    tempX=image.copy()\n",
    "    x1=abs(np.min(xdim))\n",
    "    x2=np.max(xdim)\n",
    "    y1=abs(np.min(ydim))\n",
    "    y2=np.max(ydim)\n",
    "    if x1==x2 | y1==y2:\n",
    "        print \"error, no change is made on image\"\n",
    "    #print \"x1,x2,y1,y2\",x1,x2,y1,y2\n",
    "    random_noise_region=np.random.randint(np.max(image), size=( abs(x2-x1), abs(y2-y1) ) )   \n",
    "    #print \"random_noise_region.shape\",random_noise_region.shape\n",
    "    \n",
    "\n",
    "  #  if tempX.ndim == 3:\n",
    "  #      \n",
    "  #      for k in range(tempX.shape[0]):\n",
    "  #          \n",
    "  #          for i in range(x1,x2):\n",
    "  #              \n",
    "  #              for j in range(y1,y2):\n",
    "  #                  te = i-x1\n",
    "  #                  te2= j-y1\n",
    "  #                  tempX[k,j,i]=random_noise_region[te,te2]\n",
    "  #  \n",
    "  #  else:\n",
    "  #      \n",
    "    for i in range(x1,x2):\n",
    "            \n",
    "        for j in range(y1,y2):\n",
    "            te = i-x1\n",
    "            te2= j-y1\n",
    "            tempX[j,i]=random_noise_region[te,te2]\n",
    "                \n",
    "    return tempX"
   ]
  },
  {
   "cell_type": "code",
   "execution_count": 7,
   "metadata": {},
   "outputs": [
    {
     "name": "stdout",
     "output_type": "stream",
     "text": [
      "Shape of regular image is:  (100, 72, 84)\n",
      "Shape of dead image is:  (100, 72, 84)\n",
      "Shape of hot image is:  (100, 72, 84)\n",
      "Shape of random image is:  (100, 72, 84)\n",
      "\n",
      "max of image is:  2020.0\n"
     ]
    },
    {
     "data": {
      "image/png": "[encoded data removed]",
      "text/plain": [
       "<matplotlib.figure.Figure at 0x7fc67e32df50>"
      ]
     },
     "metadata": {},
     "output_type": "display_data"
    },
    {
     "data": {
      "image/png": "[encoded data removed]",
      "text/plain": [
       "<matplotlib.figure.Figure at 0x7fc67e254550>"
      ]
     },
     "metadata": {},
     "output_type": "display_data"
    },
    {
     "data": {
      "image/png": "[encoded data removed]",
      "text/plain": [
       "<matplotlib.figure.Figure at 0x7fc67e17fc50>"
      ]
     },
     "metadata": {},
     "output_type": "display_data"
    },
    {
     "data": {
      "image/png": "[encoded data removed]",
      "text/plain": [
       "<matplotlib.figure.Figure at 0x7fc67e109e50>"
      ]
     },
     "metadata": {},
     "output_type": "display_data"
    }
   ],
   "source": [
    "input_images=data_sample[:100]\n",
    "hotregion_image=[]\n",
    "deadregion_image=[]\n",
    "random_image=[]\n",
    "count=0\n",
    "for k in input_images:\n",
    "    a=np.random.randint(datasampleshape[2]-24)\n",
    "    b=np.random.randint(datasampleshape[1]-5)\n",
    "    xdim=(a,a+5)\n",
    "    ydim=(b,b+5)\n",
    "    hotregion_image.append( hotregion(k,xdim,ydim))\n",
    "    deadregion_image.append(killregion(k,xdim,ydim))\n",
    "    random_image.append(randomregion(k,xdim,ydim))\n",
    "    #print \"xdim,ydim:\",xdim,ydim\n",
    "    #print count\n",
    "    count+=1\n",
    "    \n",
    "    \n",
    "hotregion_image=np.array(hotregion_image)\n",
    "deadregion_image=np.array(deadregion_image)\n",
    "random_image=np.array(random_image)\n",
    "#print \"xdim,ydim\",xdim,ydim\n",
    "print \"Shape of regular image is: \",input_images.shape\n",
    "print \"Shape of dead image is: \" ,deadregion_image.shape\n",
    "print \"Shape of hot image is: \" ,hotregion_image.shape\n",
    "print \"Shape of random image is: \" ,random_image.shape\n",
    "\n",
    "print '\\nmax of image is: ' ,np.max(input_images)\n",
    "\n",
    "im=plt.imshow(input_images[4],cmap=cm.coolwarm)\n",
    "plt.show()\n",
    "plt.clf()\n",
    "\n",
    "\n",
    "im=plt.imshow(random_image[4],cmap=cm.coolwarm)\n",
    "plt.show()\n",
    "plt.clf()\n",
    "\n",
    "im=plt.imshow(hotregion_image[4],cmap=cm.coolwarm)\n",
    "plt.show()\n",
    "plt.clf()#plt.clf clears the figure and it's axis but leaves the window open. \n",
    "         #as opposed to plt.close which closes the window. If you are showing many images at a time without\n",
    "         #closing the window it is better.\n",
    "\n",
    "im=plt.imshow(deadregion_image[4],cmap=cm.coolwarm)\n",
    "plt.show()\n",
    "plt.clf()\n",
    "#input_image=np.reshape(input_image,(input_image.shape[0],input_image.shape[1]))\n"
   ]
  },
  {
   "cell_type": "code",
   "execution_count": 8,
   "metadata": {
    "collapsed": true
   },
   "outputs": [],
   "source": [
    "sample= np.append(data_sample,hotregion_image,axis=0)\n",
    "sample= np.append(sample,deadregion_image,axis=0)\n",
    "sample= np.append(sample,random_image,axis=0)            \n"
   ]
  },
  {
   "cell_type": "code",
   "execution_count": 9,
   "metadata": {},
   "outputs": [
    {
     "name": "stdout",
     "output_type": "stream",
     "text": [
      "(1299, 72, 84)\n"
     ]
    }
   ],
   "source": [
    "print sample.shape"
   ]
  },
  {
   "cell_type": "code",
   "execution_count": 10,
   "metadata": {},
   "outputs": [
    {
     "data": {
      "text/plain": [
       "(1299, 6048)"
      ]
     },
     "execution_count": 10,
     "metadata": {},
     "output_type": "execute_result"
    }
   ],
   "source": [
    "sample=np.reshape(sample,(sample.shape[0],\n",
    "                          sample.shape[1]*sample.shape[2] ) )\n",
    "sample.shape"
   ]
  },
  {
   "cell_type": "markdown",
   "metadata": {},
   "source": [
    "Add the labels at the last column"
   ]
  },
  {
   "cell_type": "code",
   "execution_count": 11,
   "metadata": {},
   "outputs": [
    {
     "data": {
      "text/plain": [
       "(1299, 6049)"
      ]
     },
     "execution_count": 11,
     "metadata": {},
     "output_type": "execute_result"
    }
   ],
   "source": [
    "sample=np.append(sample,np.ones((sample.shape[0],1)),axis=1 )\n",
    "sample.shape"
   ]
  },
  {
   "cell_type": "code",
   "execution_count": 12,
   "metadata": {
    "collapsed": true
   },
   "outputs": [],
   "source": [
    "sample[-3*input_images.shape[0]:,-1:]=0"
   ]
  },
  {
   "cell_type": "markdown",
   "metadata": {},
   "source": [
    "# Now to create and train a model"
   ]
  },
  {
   "cell_type": "code",
   "execution_count": 13,
   "metadata": {},
   "outputs": [
    {
     "name": "stdout",
     "output_type": "stream",
     "text": [
      "X shape is:  (1299, 6048)\n",
      "y shape is:  (1299,)\n",
      "(779, 6048)\n",
      "(520, 6048)\n",
      "(779,)\n",
      "(520,)\n"
     ]
    }
   ],
   "source": [
    "import scipy as sp\n",
    "from sklearn.neural_network import MLPClassifier,multilayer_perceptron #MLPClassifier takes too long\n",
    "from sklearn import metrics\n",
    "#from sklearn.grid_search import RandomizedSearchCV,GridSearchCV\n",
    "#from scipy import stats\n",
    "\n",
    "X=sample[:,:-1]\n",
    "y=sample[:,-1]\n",
    "print \"X shape is: \",X.shape\n",
    "print \"y shape is: \",y.shape\n",
    "\n",
    "\n",
    "Xtrain,Xtest,ytrain, ytest=train_test_split(X,y,test_size=.4)#,random_state =5 )\n",
    "\n",
    "print Xtrain.shape\n",
    "print Xtest.shape\n",
    "print ytrain.shape\n",
    "print ytest.shape"
   ]
  },
  {
   "cell_type": "markdown",
   "metadata": {},
   "source": [
    "Since MLP is sensitive to feature scaling we will scale the data down and then train it"
   ]
  },
  {
   "cell_type": "code",
   "execution_count": 14,
   "metadata": {
    "collapsed": true
   },
   "outputs": [],
   "source": [
    "from sklearn.preprocessing import StandardScaler  \n",
    "scaler = StandardScaler()  \n",
    "# Don't cheat - fit only on training data\n",
    "scaler.fit(Xtrain)  \n",
    "Xtrain = scaler.transform(Xtrain)  \n",
    "# apply same transformation to test data\n",
    "Xtest = scaler.transform(Xtest)  "
   ]
  },
  {
   "cell_type": "code",
   "execution_count": 15,
   "metadata": {
    "collapsed": true
   },
   "outputs": [],
   "source": [
    "nn= MLPClassifier(hidden_layer_sizes=(650,4))#activation='logistic',solver='sgd',learning_rate='adaptive')"
   ]
  },
  {
   "cell_type": "code",
   "execution_count": 16,
   "metadata": {},
   "outputs": [
    {
     "name": "stderr",
     "output_type": "stream",
     "text": [
      "/cvmfs/sft.cern.ch/lcg/views/LCG_93/x86_64-slc6-gcc62-opt/lib/python2.7/site-packages/sklearn/neural_network/multilayer_perceptron.py:565: UserWarning: Training interrupted by user.\n",
      "  warnings.warn(\"Training interrupted by user.\")\n",
      "ERROR:root:Internal Python error in the inspect module.\n",
      "Below is the traceback from this internal error.\n",
      "\n"
     ]
    },
    {
     "name": "stdout",
     "output_type": "stream",
     "text": [
      "Traceback (most recent call last):\n",
      "  File \"/cvmfs/sft.cern.ch/lcg/views/LCG_93/x86_64-slc6-gcc62-opt/lib/python2.7/site-packages/IPython/core/ultratb.py\", line 1132, in get_records\n",
      "    return _fixed_getinnerframes(etb, number_of_lines_of_context, tb_offset)\n",
      "  File \"/cvmfs/sft.cern.ch/lcg/views/LCG_93/x86_64-slc6-gcc62-opt/lib/python2.7/site-packages/IPython/core/ultratb.py\", line 313, in wrapped\n",
      "    return f(*args, **kwargs)\n",
      "  File \"/cvmfs/sft.cern.ch/lcg/views/LCG_93/x86_64-slc6-gcc62-opt/lib/python2.7/site-packages/IPython/core/ultratb.py\", line 358, in _fixed_getinnerframes\n",
      "    records = fix_frame_records_filenames(inspect.getinnerframes(etb, context))\n",
      "  File \"/cvmfs/sft.cern.ch/lcg/releases/Python/2.7.13-b163d/x86_64-slc6-gcc62-opt/lib/python2.7/inspect.py\", line 1048, in getinnerframes\n",
      "    framelist.append((tb.tb_frame,) + getframeinfo(tb, context))\n",
      "  File \"/cvmfs/sft.cern.ch/lcg/releases/Python/2.7.13-b163d/x86_64-slc6-gcc62-opt/lib/python2.7/inspect.py\", line 1008, in getframeinfo\n",
      "    filename = getsourcefile(frame) or getfile(frame)\n",
      "  File \"/cvmfs/sft.cern.ch/lcg/releases/Python/2.7.13-b163d/x86_64-slc6-gcc62-opt/lib/python2.7/inspect.py\", line 453, in getsourcefile\n",
      "    if hasattr(getmodule(object, filename), '__loader__'):\n",
      "  File \"/cvmfs/sft.cern.ch/lcg/releases/Python/2.7.13-b163d/x86_64-slc6-gcc62-opt/lib/python2.7/inspect.py\", line 499, in getmodule\n",
      "    os.path.realpath(f)] = module.__name__\n",
      "  File \"/cvmfs/sft.cern.ch/lcg/releases/Python/2.7.13-b163d/x86_64-slc6-gcc62-opt/lib/python2.7/posixpath.py\", line 375, in realpath\n",
      "    path, ok = _joinrealpath('', filename, {})\n",
      "  File \"/cvmfs/sft.cern.ch/lcg/releases/Python/2.7.13-b163d/x86_64-slc6-gcc62-opt/lib/python2.7/posixpath.py\", line 414, in _joinrealpath\n",
      "    path, ok = _joinrealpath(path, os.readlink(newpath), seen)\n",
      "  File \"/cvmfs/sft.cern.ch/lcg/releases/Python/2.7.13-b163d/x86_64-slc6-gcc62-opt/lib/python2.7/posixpath.py\", line 400, in _joinrealpath\n",
      "    if not islink(newpath):\n",
      "  File \"/cvmfs/sft.cern.ch/lcg/releases/Python/2.7.13-b163d/x86_64-slc6-gcc62-opt/lib/python2.7/posixpath.py\", line 135, in islink\n",
      "    st = os.lstat(path)\n",
      "KeyboardInterrupt\n"
     ]
    },
    {
     "ename": "IndexError",
     "evalue": "string index out of range",
     "output_type": "error",
     "traceback": [
      "\u001b[0;31m\u001b[0m",
      "\u001b[0;31mIndexError\u001b[0mTraceback (most recent call last)",
      "\u001b[0;32m/cvmfs/sft.cern.ch/lcg/views/LCG_93/x86_64-slc6-gcc62-opt/lib/python2.7/site-packages/IPython/core/interactiveshell.pyc\u001b[0m in \u001b[0;36mrun_code\u001b[0;34m(self, code_obj, result)\u001b[0m\n\u001b[1;32m   2897\u001b[0m             \u001b[0;32mif\u001b[0m \u001b[0mresult\u001b[0m \u001b[0;32mis\u001b[0m \u001b[0;32mnot\u001b[0m \u001b[0mNone\u001b[0m\u001b[0;34m:\u001b[0m\u001b[0;34m\u001b[0m\u001b[0m\n\u001b[1;32m   2898\u001b[0m                 \u001b[0mresult\u001b[0m\u001b[0;34m.\u001b[0m\u001b[0merror_in_exec\u001b[0m \u001b[0;34m=\u001b[0m \u001b[0msys\u001b[0m\u001b[0;34m.\u001b[0m\u001b[0mexc_info\u001b[0m\u001b[0;34m(\u001b[0m\u001b[0;34m)\u001b[0m\u001b[0;34m[\u001b[0m\u001b[0;36m1\u001b[0m\u001b[0;34m]\u001b[0m\u001b[0;34m\u001b[0m\u001b[0m\n\u001b[0;32m-> 2899\u001b[0;31m             \u001b[0mself\u001b[0m\u001b[0;34m.\u001b[0m\u001b[0mshowtraceback\u001b[0m\u001b[0;34m(\u001b[0m\u001b[0;34m)\u001b[0m\u001b[0;34m\u001b[0m\u001b[0m\n\u001b[0m\u001b[1;32m   2900\u001b[0m         \u001b[0;32melse\u001b[0m\u001b[0;34m:\u001b[0m\u001b[0;34m\u001b[0m\u001b[0m\n\u001b[1;32m   2901\u001b[0m             \u001b[0moutflag\u001b[0m \u001b[0;34m=\u001b[0m \u001b[0;36m0\u001b[0m\u001b[0;34m\u001b[0m\u001b[0m\n",
      "\u001b[0;32m/cvmfs/sft.cern.ch/lcg/views/LCG_93/x86_64-slc6-gcc62-opt/lib/python2.7/site-packages/IPython/core/interactiveshell.pyc\u001b[0m in \u001b[0;36mshowtraceback\u001b[0;34m(self, exc_tuple, filename, tb_offset, exception_only)\u001b[0m\n\u001b[1;32m   1824\u001b[0m                     \u001b[0;32mexcept\u001b[0m \u001b[0mException\u001b[0m\u001b[0;34m:\u001b[0m\u001b[0;34m\u001b[0m\u001b[0m\n\u001b[1;32m   1825\u001b[0m                         stb = self.InteractiveTB.structured_traceback(etype,\n\u001b[0;32m-> 1826\u001b[0;31m                                             value, tb, tb_offset=tb_offset)\n\u001b[0m\u001b[1;32m   1827\u001b[0m \u001b[0;34m\u001b[0m\u001b[0m\n\u001b[1;32m   1828\u001b[0m                     \u001b[0mself\u001b[0m\u001b[0;34m.\u001b[0m\u001b[0m_showtraceback\u001b[0m\u001b[0;34m(\u001b[0m\u001b[0metype\u001b[0m\u001b[0;34m,\u001b[0m \u001b[0mvalue\u001b[0m\u001b[0;34m,\u001b[0m \u001b[0mstb\u001b[0m\u001b[0;34m)\u001b[0m\u001b[0;34m\u001b[0m\u001b[0m\n",
      "\u001b[0;32m/cvmfs/sft.cern.ch/lcg/views/LCG_93/x86_64-slc6-gcc62-opt/lib/python2.7/site-packages/IPython/core/ultratb.pyc\u001b[0m in \u001b[0;36mstructured_traceback\u001b[0;34m(self, etype, value, tb, tb_offset, number_of_lines_of_context)\u001b[0m\n\u001b[1;32m   1410\u001b[0m         \u001b[0mself\u001b[0m\u001b[0;34m.\u001b[0m\u001b[0mtb\u001b[0m \u001b[0;34m=\u001b[0m \u001b[0mtb\u001b[0m\u001b[0;34m\u001b[0m\u001b[0m\n\u001b[1;32m   1411\u001b[0m         return FormattedTB.structured_traceback(\n\u001b[0;32m-> 1412\u001b[0;31m             self, etype, value, tb, tb_offset, number_of_lines_of_context)\n\u001b[0m\u001b[1;32m   1413\u001b[0m \u001b[0;34m\u001b[0m\u001b[0m\n\u001b[1;32m   1414\u001b[0m \u001b[0;34m\u001b[0m\u001b[0m\n",
      "\u001b[0;32m/cvmfs/sft.cern.ch/lcg/views/LCG_93/x86_64-slc6-gcc62-opt/lib/python2.7/site-packages/IPython/core/ultratb.pyc\u001b[0m in \u001b[0;36mstructured_traceback\u001b[0;34m(self, etype, value, tb, tb_offset, number_of_lines_of_context)\u001b[0m\n\u001b[1;32m   1318\u001b[0m             \u001b[0;31m# Verbose modes need a full traceback\u001b[0m\u001b[0;34m\u001b[0m\u001b[0;34m\u001b[0m\u001b[0m\n\u001b[1;32m   1319\u001b[0m             return VerboseTB.structured_traceback(\n\u001b[0;32m-> 1320\u001b[0;31m                 \u001b[0mself\u001b[0m\u001b[0;34m,\u001b[0m \u001b[0metype\u001b[0m\u001b[0;34m,\u001b[0m \u001b[0mvalue\u001b[0m\u001b[0;34m,\u001b[0m \u001b[0mtb\u001b[0m\u001b[0;34m,\u001b[0m \u001b[0mtb_offset\u001b[0m\u001b[0;34m,\u001b[0m \u001b[0mnumber_of_lines_of_context\u001b[0m\u001b[0;34m\u001b[0m\u001b[0m\n\u001b[0m\u001b[1;32m   1321\u001b[0m             )\n\u001b[1;32m   1322\u001b[0m         \u001b[0;32melse\u001b[0m\u001b[0;34m:\u001b[0m\u001b[0;34m\u001b[0m\u001b[0m\n",
      "\u001b[0;32m/cvmfs/sft.cern.ch/lcg/views/LCG_93/x86_64-slc6-gcc62-opt/lib/python2.7/site-packages/IPython/core/ultratb.pyc\u001b[0m in \u001b[0;36mstructured_traceback\u001b[0;34m(self, etype, evalue, etb, tb_offset, number_of_lines_of_context)\u001b[0m\n\u001b[1;32m   1202\u001b[0m                 \u001b[0mstructured_traceback_parts\u001b[0m \u001b[0;34m+=\u001b[0m \u001b[0mformatted_exception\u001b[0m\u001b[0;34m\u001b[0m\u001b[0m\n\u001b[1;32m   1203\u001b[0m         \u001b[0;32melse\u001b[0m\u001b[0;34m:\u001b[0m\u001b[0;34m\u001b[0m\u001b[0m\n\u001b[0;32m-> 1204\u001b[0;31m             \u001b[0mstructured_traceback_parts\u001b[0m \u001b[0;34m+=\u001b[0m \u001b[0mformatted_exception\u001b[0m\u001b[0;34m[\u001b[0m\u001b[0;36m0\u001b[0m\u001b[0;34m]\u001b[0m\u001b[0;34m\u001b[0m\u001b[0m\n\u001b[0m\u001b[1;32m   1205\u001b[0m \u001b[0;34m\u001b[0m\u001b[0m\n\u001b[1;32m   1206\u001b[0m         \u001b[0;32mreturn\u001b[0m \u001b[0mstructured_traceback_parts\u001b[0m\u001b[0;34m\u001b[0m\u001b[0m\n",
      "\u001b[0;31mIndexError\u001b[0m: string index out of range"
     ]
    }
   ],
   "source": [
    "scores= cross_val_score(nn,X,y,cv=10,scoring='accuracy').mean()\n",
    "print scores"
   ]
  },
  {
   "cell_type": "code",
   "execution_count": 17,
   "metadata": {},
   "outputs": [
    {
     "name": "stdout",
     "output_type": "stream",
     "text": [
      "(520,)\n",
      "0.663461538462\n"
     ]
    }
   ],
   "source": [
    "nn.fit(Xtrain,ytrain)\n",
    "pred=nn.predict(Xtest)\n",
    "print pred.shape\n",
    "print metrics.accuracy_score(ytest,pred)"
   ]
  },
  {
   "cell_type": "code",
   "execution_count": 18,
   "metadata": {},
   "outputs": [
    {
     "name": "stdout",
     "output_type": "stream",
     "text": [
      "null accuracy 0.782692307692\n",
      "[[113   0]\n",
      " [175 232]]\n",
      "True Pos: 232\n",
      "True Neg: 113\n",
      "False Pos: 0\n",
      "False Neg: 175\n"
     ]
    }
   ],
   "source": [
    "#calcualte null accuracy\n",
    "print 'null accuracy', max(ytest.mean(),1-ytest.mean())\n",
    "#Confusion matrix\n",
    "print metrics.confusion_matrix(ytest,pred)\n",
    "#save confusion matrix and slice into 4 pieces\n",
    "confusion= metrics.confusion_matrix(ytest,pred)\n",
    "TP=confusion[1,1]\n",
    "TN=confusion[0,0]\n",
    "FP=confusion[0,1]\n",
    "FN=confusion[1,0]\n",
    "\n",
    "print \"True Pos:\",TP\n",
    "print \"True Neg:\",TN\n",
    "print \"False Pos:\",FP\n",
    "print \"False Neg:\",FN\n",
    "\n"
   ]
  },
  {
   "cell_type": "code",
   "execution_count": 19,
   "metadata": {},
   "outputs": [
    {
     "name": "stdout",
     "output_type": "stream",
     "text": [
      "Clasification Accuracy\n",
      "0.663461538462\n",
      "0.663461538462\n",
      "Clasification Error\n",
      "0.336538461538\n",
      "0.336538461538\n",
      "Sensitivity or Recall\n",
      "0.570024570025\n",
      "0.570024570025\n",
      "Specificity\n",
      "1.0\n",
      "False Positive Rate\n",
      "0.0\n",
      "Precision\n",
      "1.0\n",
      "1.0\n"
     ]
    }
   ],
   "source": [
    "#Clasification Accuracy\n",
    "#how often is the Clf correct?\n",
    "print 'Clasification Accuracy'\n",
    "print (TP+TN)/ float(TP+TN+FP+FN)\n",
    "print metrics.accuracy_score(ytest,pred)\n",
    "\n",
    "\n",
    "#Clasification Error\n",
    "# how often is it incorrect?\n",
    "print 'Clasification Error'\n",
    "print (FP+FN)/ float(TP+TN+FP+FN)\n",
    "print 1- metrics.accuracy_score(ytest,pred)\n",
    "\n",
    "\n",
    "#Sensitivity\n",
    "# How often if the prediction correct when the actual value is pos. \n",
    "#AKA True pos or Recall\n",
    "print 'Sensitivity or Recall'\n",
    "print TP/ float(TP+FN)\n",
    "print metrics.recall_score(ytest,pred)\n",
    "\n",
    "\n",
    "#Specificity \n",
    "# When the actual result is neg how often is it correct?\n",
    "print 'Specificity'\n",
    "print TN/ float(TN+FP)\n",
    "\n",
    "#false positive rate\n",
    "# When the actual value is negative how often is it incorrect\n",
    "print 'False Positive Rate'\n",
    "print FP/ float(TN+FP)\n",
    "\n",
    "\n",
    "#Precision\n",
    "#When a positive value is predicted, how often is it correct?\n",
    "print 'Precision'\n",
    "print TP/ float(TP +FP)\n",
    "print metrics.precision_score(ytest,pred)"
   ]
  },
  {
   "cell_type": "markdown",
   "metadata": {},
   "source": [
    "# Adjusting the clasification threshold"
   ]
  },
  {
   "cell_type": "code",
   "execution_count": 21,
   "metadata": {},
   "outputs": [
    {
     "name": "stdout",
     "output_type": "stream",
     "text": [
      "[ 0.  1.  1.  1.  0.  1.  1.  0.  1.  1.]\n",
      "[[  5.66017695e-01   4.33982305e-01]\n",
      " [  2.52004326e-05   9.99974800e-01]\n",
      " [  3.20655150e-08   9.99999968e-01]\n",
      " [  4.71496966e-06   9.99995285e-01]\n",
      " [  5.66017695e-01   4.33982305e-01]\n",
      " [  3.48863617e-06   9.99996511e-01]\n",
      " [  3.16744152e-06   9.99996833e-01]\n",
      " [  5.66017695e-01   4.33982305e-01]\n",
      " [  1.00083221e-05   9.99989992e-01]\n",
      " [  4.41863437e-07   9.99999558e-01]]\n",
      "[ 0.4339823   0.9999748   0.99999997  0.99999529  0.4339823   0.99999651\n",
      "  0.99999683  0.4339823   0.99998999  0.99999956]\n"
     ]
    }
   ],
   "source": [
    "#print the first 10 predicted responses\n",
    "print nn.predict(Xtest)[0:10]\n",
    "\n",
    "#print the first 10 predicted probabilities of class membership\n",
    "print nn.predict_proba(Xtest)[0:10,:]\n",
    "\n",
    "#print the first 10 predicted probabilities for class 1\n",
    "print nn.predict_proba(Xtest)[0:10,1]\n",
    "\n",
    "#store the predicted probabilities for class 1\n",
    "y_pred_prob=nn.predict_proba(Xtest)[:,1]\n",
    "\n"
   ]
  },
  {
   "cell_type": "code",
   "execution_count": 22,
   "metadata": {},
   "outputs": [
    {
     "data": {
      "text/plain": [
       "Text(0,0.5,u'Frequency')"
      ]
     },
     "execution_count": 22,
     "metadata": {},
     "output_type": "execute_result"
    },
    {
     "data": {
      "image/png": "[encoded data removed]",
      "text/plain": [
       "<matplotlib.figure.Figure at 0x7fc67d01cfd0>"
      ]
     },
     "metadata": {},
     "output_type": "display_data"
    }
   ],
   "source": [
    "#allow plots to appear in the notebook\n",
    "%matplotlib inline\n",
    "plt.rcParams['font.size']=14\n",
    "\n",
    "#histogram of predicted probabilities\n",
    "plt.hist(y_pred_prob)#bins=8)\n",
    "#plt.xlim(0,1)\n",
    "plt.title(\"Histogram of predicted probabilities\")\n",
    "plt.xlabel('Predicted probability')\n",
    "plt.ylabel('Frequency')"
   ]
  },
  {
   "cell_type": "markdown",
   "metadata": {},
   "source": [
    "# Change the threshold "
   ]
  },
  {
   "cell_type": "code",
   "execution_count": 93,
   "metadata": {},
   "outputs": [
    {
     "name": "stdout",
     "output_type": "stream",
     "text": [
      "[[113   0]\n",
      " [175 232]]\n",
      "[[113   0]\n",
      " [173 234]]\n"
     ]
    },
    {
     "name": "stderr",
     "output_type": "stream",
     "text": [
      "/cvmfs/sft.cern.ch/lcg/views/LCG_93/x86_64-slc6-gcc62-opt/lib/python2.7/site-packages/sklearn/utils/validation.py:395: DeprecationWarning: Passing 1d arrays as data is deprecated in 0.17 and will raise ValueError in 0.19. Reshape your data either using X.reshape(-1, 1) if your data has a single feature or X.reshape(1, -1) if it contains a single sample.\n",
      "  DeprecationWarning)\n"
     ]
    }
   ],
   "source": [
    "#predict good if the predicted probability is greater than x\n",
    "from sklearn.preprocessing import binarize\n",
    "pred= binarize(y_pred_prob,.433982304999)[0]\n",
    "\n",
    "#print old confusion matrix\n",
    "print confusion\n",
    "\n",
    "#print new confusion matrix\n",
    "print metrics.confusion_matrix(ytest,pred)"
   ]
  },
  {
   "cell_type": "markdown",
   "metadata": {},
   "source": [
    "# ROC Curves and Area Under the Curve (AUC)"
   ]
  },
  {
   "cell_type": "code",
   "execution_count": 94,
   "metadata": {},
   "outputs": [
    {
     "data": {
      "image/png": "[encoded data removed]",
      "text/plain": [
       "<matplotlib.figure.Figure at 0x7fc67cfbe150>"
      ]
     },
     "metadata": {},
     "output_type": "display_data"
    }
   ],
   "source": [
    "fpr,tpr,thresholds= metrics.roc_curve(ytest,y_pred_prob)\n",
    "plt.plot(fpr,tpr)\n",
    "#plt.xlim([0.0,1.0])\n",
    "#plt.ylim([0.0,1.0])\n",
    "plt.title('ROC Curve for good data clf')\n",
    "plt.xlabel('False Pos Rate (1-Specificity)')\n",
    "plt.ylabel('True Pos Rate(Sensitivity)')\n",
    "plt.grid(True)"
   ]
  },
  {
   "cell_type": "code",
   "execution_count": 95,
   "metadata": {
    "collapsed": true
   },
   "outputs": [],
   "source": [
    "#define a function that accepts a threshold and prints sensitivity and specificity\n",
    "def evalualte_threshold(threshold):\n",
    "    print 'Sensitivity:',tpr[thresholds > threshold][-1]\n",
    "    print 'Specificity:',1- fpr[thresholds > threshold][-1]\n",
    "    print '------------'"
   ]
  },
  {
   "cell_type": "code",
   "execution_count": 97,
   "metadata": {},
   "outputs": [
    {
     "name": "stdout",
     "output_type": "stream",
     "text": [
      " [  0.43         1.31918367   2.20836735   3.09755102   3.98673469\n",
      "   4.87591837   5.76510204   6.65428571   7.54346939   8.43265306\n",
      "   9.32183673  10.21102041  11.10020408  11.98938776  12.87857143\n",
      "  13.7677551   14.65693878  15.54612245  16.43530612  17.3244898\n",
      "  18.21367347  19.10285714  19.99204082  20.88122449  21.77040816\n",
      "  22.65959184  23.54877551  24.43795918  25.32714286  26.21632653\n",
      "  27.1055102   27.99469388  28.88387755  29.77306122  30.6622449\n",
      "  31.55142857  32.44061224  33.32979592  34.21897959  35.10816327\n",
      "  35.99734694  36.88653061  37.77571429  38.66489796  39.55408163\n",
      "  40.44326531  41.33244898  42.22163265  43.11081633  44.        ]\n",
      "0\n",
      "Sensitivity: 1.0\n",
      "Specificity: 0.0442477876106\n",
      "------------\n",
      "1\n",
      "Sensitivity:"
     ]
    },
    {
     "ename": "IndexError",
     "evalue": "index -1 is out of bounds for axis 0 with size 0",
     "output_type": "error",
     "traceback": [
      "\u001b[0;31m\u001b[0m",
      "\u001b[0;31mIndexError\u001b[0mTraceback (most recent call last)",
      "\u001b[0;32m<ipython-input-97-cdbd19b2a0a2>\u001b[0m in \u001b[0;36m<module>\u001b[0;34m()\u001b[0m\n\u001b[1;32m      5\u001b[0m \u001b[0;32mfor\u001b[0m \u001b[0mk\u001b[0m \u001b[0;32min\u001b[0m \u001b[0mx\u001b[0m\u001b[0;34m:\u001b[0m\u001b[0;34m\u001b[0m\u001b[0m\n\u001b[1;32m      6\u001b[0m     \u001b[0;32mprint\u001b[0m \u001b[0mcount\u001b[0m\u001b[0;34m\u001b[0m\u001b[0m\n\u001b[0;32m----> 7\u001b[0;31m     \u001b[0mevalualte_threshold\u001b[0m\u001b[0;34m(\u001b[0m\u001b[0mk\u001b[0m\u001b[0;34m)\u001b[0m\u001b[0;34m\u001b[0m\u001b[0m\n\u001b[0m\u001b[1;32m      8\u001b[0m     \u001b[0mcount\u001b[0m\u001b[0;34m+=\u001b[0m\u001b[0;36m1\u001b[0m\u001b[0;34m\u001b[0m\u001b[0m\n",
      "\u001b[0;32m<ipython-input-95-90a7589363f6>\u001b[0m in \u001b[0;36mevalualte_threshold\u001b[0;34m(threshold)\u001b[0m\n\u001b[1;32m      1\u001b[0m \u001b[0;31m#define a function that accepts a threshold and prints sensitivity and specificity\u001b[0m\u001b[0;34m\u001b[0m\u001b[0;34m\u001b[0m\u001b[0m\n\u001b[1;32m      2\u001b[0m \u001b[0;32mdef\u001b[0m \u001b[0mevalualte_threshold\u001b[0m\u001b[0;34m(\u001b[0m\u001b[0mthreshold\u001b[0m\u001b[0;34m)\u001b[0m\u001b[0;34m:\u001b[0m\u001b[0;34m\u001b[0m\u001b[0m\n\u001b[0;32m----> 3\u001b[0;31m     \u001b[0;32mprint\u001b[0m \u001b[0;34m'Sensitivity:'\u001b[0m\u001b[0;34m,\u001b[0m\u001b[0mtpr\u001b[0m\u001b[0;34m[\u001b[0m\u001b[0mthresholds\u001b[0m \u001b[0;34m>\u001b[0m \u001b[0mthreshold\u001b[0m\u001b[0;34m]\u001b[0m\u001b[0;34m[\u001b[0m\u001b[0;34m-\u001b[0m\u001b[0;36m1\u001b[0m\u001b[0;34m]\u001b[0m\u001b[0;34m\u001b[0m\u001b[0m\n\u001b[0m\u001b[1;32m      4\u001b[0m     \u001b[0;32mprint\u001b[0m \u001b[0;34m'Specificity:'\u001b[0m\u001b[0;34m,\u001b[0m\u001b[0;36m1\u001b[0m\u001b[0;34m-\u001b[0m \u001b[0mfpr\u001b[0m\u001b[0;34m[\u001b[0m\u001b[0mthresholds\u001b[0m \u001b[0;34m>\u001b[0m \u001b[0mthreshold\u001b[0m\u001b[0;34m]\u001b[0m\u001b[0;34m[\u001b[0m\u001b[0;34m-\u001b[0m\u001b[0;36m1\u001b[0m\u001b[0;34m]\u001b[0m\u001b[0;34m\u001b[0m\u001b[0m\n\u001b[1;32m      5\u001b[0m     \u001b[0;32mprint\u001b[0m \u001b[0;34m'------------'\u001b[0m\u001b[0;34m\u001b[0m\u001b[0m\n",
      "\u001b[0;31mIndexError\u001b[0m: index -1 is out of bounds for axis 0 with size 0"
     ]
    }
   ],
   "source": [
    "from pylab import linspace\n",
    "x=linspace(0.43,44)\n",
    "print x\n",
    "count=0\n",
    "for k in x:\n",
    "    print count\n",
    "    evalualte_threshold(k)\n",
    "    count+=1"
   ]
  },
  {
   "cell_type": "code",
   "execution_count": null,
   "metadata": {},
   "outputs": [
    {
     "name": "stdout",
     "output_type": "stream",
     "text": [
      "0.796873301298\n"
     ]
    }
   ],
   "source": [
    "# AUC is the percentage of the ROC plot that is under the curve\n",
    "print metrics.roc_auc_score(ytest,y_pred_prob)\n",
    "\n",
    "#This is useful as a single number summary of classifier performance    \n",
    "# Calculate cross validated AUC\n",
    "\n",
    "cross_val_score(nn,X,y,cv=10,scoring='roc_auc').mean()"
   ]
  },
  {
   "cell_type": "code",
   "execution_count": null,
   "metadata": {
    "collapsed": true
   },
   "outputs": [],
   "source": []
  }
 ],
 "metadata": {
  "kernelspec": {
   "display_name": "Python 2",
   "language": "python",
   "name": "python2"
  },
  "language_info": {
   "codemirror_mode": {
    "name": "ipython",
    "version": 2
   },
   "file_extension": ".py",
   "mimetype": "text/x-python",
   "name": "python",
   "nbconvert_exporter": "python",
   "pygments_lexer": "ipython2",
   "version": "2.7.13"
  }
 },
 "nbformat": 4,
 "nbformat_minor": 2
}
